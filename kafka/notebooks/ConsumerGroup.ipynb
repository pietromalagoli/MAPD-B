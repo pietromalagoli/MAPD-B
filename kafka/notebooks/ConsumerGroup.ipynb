{
 "cells": [
  {
   "cell_type": "markdown",
   "id": "7d12107b",
   "metadata": {},
   "source": [
    "# Kafka Consumer group"
   ]
  },
  {
   "cell_type": "code",
   "execution_count": null,
   "id": "5b3e602c",
   "metadata": {},
   "outputs": [],
   "source": [
    "# define the list of brokers in the cluster\n",
    "KAFKA_BOOTSTRAP_SERVERS = ['kafka-broker:9092']"
   ]
  },
  {
   "cell_type": "code",
   "execution_count": null,
   "id": "874e6a4c",
   "metadata": {},
   "outputs": [],
   "source": [
    "from kafka import KafkaConsumer\n",
    "\n",
    "# create `consumer_two` to read from a specific partition\n",
    "# assign this consumer to a group\n",
    "consumer_two = KafkaConsumer(bootstrap_servers=KAFKA_BOOTSTRAP_SERVERS,\n",
    "                             client_id='consumer_two',\n",
    "                             group_id='my_group',                       # the same group will be used by all consumers\n",
    "                             auto_offset_reset='earliest',\n",
    "                             consumer_timeout_ms=10000)"
   ]
  },
  {
   "cell_type": "code",
   "execution_count": null,
   "id": "91d2a9f4",
   "metadata": {},
   "outputs": [],
   "source": [
    "from kafka import ConsumerRebalanceListener\n",
    "import json\n",
    "\n",
    "# subscribe `consumer_two` to the partitioned topic\n",
    "consumer_two.subscribe('a_partitioned_topic',\n",
    "                       listener=ConsumerRebalanceListener())"
   ]
  },
  {
   "cell_type": "code",
   "execution_count": null,
   "id": "f146d9e9",
   "metadata": {
    "scrolled": true
   },
   "outputs": [],
   "source": [
    "# check the partitions assigned to `consumer_two`\n",
    "consumer_two.assignment()"
   ]
  },
  {
   "cell_type": "code",
   "execution_count": null,
   "id": "f54b91a7",
   "metadata": {},
   "outputs": [],
   "source": [
    "# use multiple consumers in parallel (`consumer_two` in this notebook)\n",
    "for message in consumer_two:\n",
    "    print(f\"{message.partition}[{message.offset}]\\t {json.loads(message.value)}\")"
   ]
  },
  {
   "cell_type": "code",
   "execution_count": null,
   "id": "fea07e40",
   "metadata": {},
   "outputs": [],
   "source": []
  }
 ],
 "metadata": {
  "kernelspec": {
   "display_name": "Python 3 (ipykernel)",
   "language": "python",
   "name": "python3"
  },
  "language_info": {
   "codemirror_mode": {
    "name": "ipython",
    "version": 3
   },
   "file_extension": ".py",
   "mimetype": "text/x-python",
   "name": "python",
   "nbconvert_exporter": "python",
   "pygments_lexer": "ipython3",
   "version": "3.11.8"
  }
 },
 "nbformat": 4,
 "nbformat_minor": 5
}
