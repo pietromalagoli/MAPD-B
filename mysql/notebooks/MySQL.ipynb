{
 "cells": [
  {
   "cell_type": "markdown",
   "id": "938f871d",
   "metadata": {},
   "source": [
    "# RDBMS - MySQL \n",
    "\n",
    "## 00 - Introduction\n",
    "\n",
    "Among the Relational DBMSs, the most widely known are Oracle, SQLite, Postgres, MariaDB, and MySQL.\n",
    "\n",
    "Each one of them is characterized by a different set of \"variations\" on top of the base SQL language, although usually minor.\n",
    "\n",
    "We will use **MySQL** to run exercises about Relational DB transactions using the SQL language, as it is *currently* at the top of the list of most widely used RDBMSs. \n",
    "\n",
    "[DB Engines Ranking Trend](https://db-engines.com/en/ranking_trend/relational+dbms)\n",
    "\n",
    "[Worldwide Popularity Ranking of Database Management Systems](https://www.statista.com/statistics/809750/worldwide-popularity-ranking-database-management-systems/)\n",
    "\n",
    "[Stack Overflow 2023 Developer Survey - Most Popular Technologies (Language)](https://survey.stackoverflow.co/2023/#most-popular-technologies-language)\n",
    "\n",
    "[Stack Overflow 2023 Developer Survey - Most Popular Technologies (Database)](https://survey.stackoverflow.co/2023/#most-popular-technologies-database)\n"
   ]
  },
  {
   "cell_type": "markdown",
   "id": "3ce38833",
   "metadata": {},
   "source": [
    "MySQL programming interfaces exist for many languages, including C, C++, Go, Java, Perl, PHP, Python, etc...\n",
    "\n",
    "Even simply referring to Python, we can count on several options to connect and interact with the DBs. \n",
    "\n",
    "Let's explore a couple of them..."
   ]
  },
  {
   "cell_type": "markdown",
   "id": "4e97fb3a",
   "metadata": {},
   "source": [
    "## 01 - Create a Connection to MySQL\n",
    "\n",
    "A MySQL server is running within one of your Docker containers.\n",
    "\n",
    "You can access it using the MySQL server credentials defined in the `docker-compose.yml` file.\n",
    "\n",
    "By default, a `root` user is created with the following credentials:\n",
    "- **Username:** `root`\n",
    "- **Password:** `root_pwd`\n",
    "\n",
    "Additionally, a non-`root` user is created by default with:\n",
    "- **Username:** `my_user`\n",
    "- **Password:** `my_pwd`\n"
   ]
  },
  {
   "cell_type": "markdown",
   "id": "d66684cf",
   "metadata": {},
   "source": [
    "#### Interactive\n",
    "\n",
    "To interact with the MySQL server, you can log in interactively to its Docker container.\n",
    "\n",
    "First, check the `CONTAINER ID` of the container named `mysql_db` by running:\n",
    "\n",
    "```bash\n",
    "$ docker ps\n",
    "```\n",
    "\n",
    "Then, initiate an interactive bash session within the container by executing:\n",
    "\n",
    "```bash\n",
    "$ docker exec -it <YOUR CONTAINER ID> bash\n",
    "```\n",
    "\n",
    "Once inside the container, you can access the MySQL server as if you were connected to a remote server hosting your databases:\n",
    "\n",
    "```bash\n",
    "$ mysql -u <EITHER ROOT OR USER> -p\n",
    "```\n",
    "\n",
    "Replace `<YOUR CONTAINER ID>` with the actual container ID obtained from the `docker ps` command output, and `<EITHER ROOT OR USER>` with either `root` or `my_user`, depending on the user you want to log in as.\n",
    "\n"
   ]
  },
  {
   "cell_type": "markdown",
   "id": "1f0cb7ff",
   "metadata": {},
   "source": [
    "We can then inspect the MySQL server to display all databases by executing the following SQL command:\n",
    "\n",
    "```mysql\n",
    "SHOW DATABASES;\n",
    "```\n",
    "\n",
    "**NB**: Remember to end a SQL command with a semicolon `;`."
   ]
  },
  {
   "cell_type": "markdown",
   "id": "bcb48d85",
   "metadata": {},
   "source": [
    "#### mysql.connector\n",
    "\n",
    "A more pythonic way to interact with a MySQL server is by using a dedicated driver such as `mysql.connector`, which is already installed in the Jupyter Notebook container.\n",
    "\n",
    "This connector offers an interface to establish a connection object to the MySQL server and provides various functionalities for executing transactions and fetching records from databases.\n",
    "\n",
    "We can start by declaring a connection to our MySQL server.\n",
    "\n",
    "**NB:** The server is hosted in a different container from the notebook, simulating a connection between two different machines: a client and a server.\n"
   ]
  },
  {
   "cell_type": "code",
   "execution_count": 1,
   "id": "e9a1d1be",
   "metadata": {},
   "outputs": [
    {
     "name": "stdout",
     "output_type": "stream",
     "text": [
      "<mysql.connector.connection_cext.CMySQLConnection object at 0x7fdd9b0d9610>\n"
     ]
    }
   ],
   "source": [
    "# import the connector\n",
    "import mysql.connector\n",
    "\n",
    "# declare a connection to the MySQL server \n",
    "# the hostname (or IP) of the server machine should be passed\n",
    "db = mysql.connector.connect(\n",
    "  user=\"root\",\n",
    "  password=\"root_pwd\",\n",
    "  host=\"db\", # in this case 'db' is the equivalent of the IP address of the server \n",
    "             # or 'localhost' if running mysql locally\n",
    ")\n",
    "\n",
    "print(db)"
   ]
  },
  {
   "cell_type": "markdown",
   "id": "93eb72df",
   "metadata": {},
   "source": [
    "At this point, a database connection is established.\n",
    "\n",
    "To interact with the database using Python and `mysql.connector`, we need a \"handle\" known as a cursor, which must be instantiated.\n",
    "\n",
    "When using this connector to interact with the database, all SQL statements are executed using the cursor.\n"
   ]
  },
  {
   "cell_type": "code",
   "execution_count": 2,
   "id": "cf532620",
   "metadata": {},
   "outputs": [],
   "source": [
    "# create our db cursor object\n",
    "dbc = db.cursor()"
   ]
  },
  {
   "cell_type": "markdown",
   "id": "42686539",
   "metadata": {},
   "source": [
    "The cursor allows us to execute all SQL transactions on the database as if we were logged into the server.\n",
    "\n",
    "If a transaction fetches results from the database (returns a set of records), the connector object will retain the results. This feature can be useful for later use in a more \"pythonic\" way, integrating our database queries with other Python statements.\n",
    "\n",
    "The syntax for issuing a generic SQL statement is as follows:\n",
    "\n",
    "```python\n",
    "connector_object.execute(my_sql_query)\n",
    "```\n",
    "\n",
    "For example, let's execute the same check as before by asking MySQL to show us all available databases..."
   ]
  },
  {
   "cell_type": "code",
   "execution_count": 3,
   "id": "4135e21c",
   "metadata": {},
   "outputs": [],
   "source": [
    "# show all available databases\n",
    "dbc.execute(\n",
    "\"SHOW DATABASES\"\n",
    ")"
   ]
  },
  {
   "cell_type": "markdown",
   "id": "e1325e30",
   "metadata": {},
   "source": [
    "No output is printed because the result of this SQL transaction is collected into the cursor as a list of records (tuples).\n",
    "\n",
    "To retrieve the results, we can simply loop over them."
   ]
  },
  {
   "cell_type": "code",
   "execution_count": 4,
   "id": "d860628b",
   "metadata": {},
   "outputs": [
    {
     "name": "stdout",
     "output_type": "stream",
     "text": [
      "('information_schema',)\n",
      "('mysql',)\n",
      "('performance_schema',)\n",
      "('sys',)\n"
     ]
    }
   ],
   "source": [
    "# loop over the container to fetch the results\n",
    "for _ in dbc:\n",
    "    print(_)"
   ]
  },
  {
   "cell_type": "markdown",
   "id": "b11de704",
   "metadata": {},
   "source": [
    "If we are `root` users in this example, we can access the inner structure of the MySQL server, which already contains a few databases by default.\n",
    "\n",
    "After fetching the output of the transaction, the cursor reaches \"the end\" of the records and becomes available to perform a new transaction."
   ]
  },
  {
   "cell_type": "code",
   "execution_count": 5,
   "id": "e4b8d91a",
   "metadata": {},
   "outputs": [],
   "source": [
    "# use fetch to retrieve one, many, or all entries in the cursor\n",
    "dbc.fetchone()\n",
    "\n",
    "# dbc.fetchmany(2)\n",
    "\n",
    "# dbc.fetchall()"
   ]
  },
  {
   "cell_type": "markdown",
   "id": "91be5564",
   "metadata": {},
   "source": [
    "If one wants to perform a new transaction without collecting the output of the previous one from the cursor, a reset must be issued first:\n",
    "\n",
    "```python\n",
    "connector_object.reset()\n",
    "```"
   ]
  },
  {
   "cell_type": "markdown",
   "id": "ea86a443",
   "metadata": {},
   "source": [
    "If a generic user (i.e., not the `root` user) is logged into the database server, they will not have access to certain functionalities and won't be able to see the previous list of all databases.\n",
    "\n",
    "Some of these databases and tables are protected and used to store additional information about the state of the MySQL server and the connected users."
   ]
  },
  {
   "cell_type": "code",
   "execution_count": 6,
   "id": "7f54810c",
   "metadata": {},
   "outputs": [
    {
     "data": {
      "text/plain": [
       "[('information_schema',), ('performance_schema',)]"
      ]
     },
     "execution_count": 6,
     "metadata": {},
     "output_type": "execute_result"
    }
   ],
   "source": [
    "# connecto to the database as a non-root user\n",
    "udb = mysql.connector.connect(\n",
    "  user=\"my_user\",\n",
    "  password=\"my_pwd\",\n",
    "  host=\"db\",\n",
    ")\n",
    "\n",
    "# create a cursor\n",
    "udbc = udb.cursor()\n",
    "\n",
    "# execute the transaction\n",
    "udbc.execute(\n",
    "\"SHOW DATABASES\"\n",
    ")\n",
    "\n",
    "# fetch all results\n",
    "udbc.fetchall()"
   ]
  },
  {
   "cell_type": "markdown",
   "id": "b10b13ac",
   "metadata": {},
   "source": [
    "#### iPython Magic\n",
    "\n",
    "Another way to execute queries from Python within a Jupyter Notebook is by utilizing notebook \"magic\" functions, which are based on iPython and SQLAlchemy.\n",
    "\n",
    "This approach is similar to loading inline figures from Matplotlib using `%matplotlib inline`.\n",
    "\n",
    "To instruct iPython to interpret SQL commands and connect to the appropriate database, we need to:\n",
    "\n",
    "1. Load the extension for the SQL language.\n",
    "2. Set the environment variable to point to the connection to the database.\n"
   ]
  },
  {
   "cell_type": "code",
   "execution_count": 7,
   "id": "48901afc",
   "metadata": {},
   "outputs": [
    {
     "name": "stdout",
     "output_type": "stream",
     "text": [
      "env: DATABASE_URL=mysql+mysqlconnector://root:root_pwd@db\n"
     ]
    }
   ],
   "source": [
    "%load_ext sql\n",
    "\n",
    "%env DATABASE_URL=mysql+mysqlconnector://root:root_pwd@db"
   ]
  },
  {
   "cell_type": "markdown",
   "id": "f0ccff35",
   "metadata": {},
   "source": [
    "Now, notebook cells can execute SQL transactions directly in plain SQL by starting the cell with `%%sql`.\n",
    "\n",
    "By default, the result is also printed using the `pretty` format, similar to the pandas-like format."
   ]
  },
  {
   "cell_type": "code",
   "execution_count": 8,
   "id": "3bd200b3",
   "metadata": {},
   "outputs": [
    {
     "name": "stdout",
     "output_type": "stream",
     "text": [
      "6 rows affected.\n"
     ]
    },
    {
     "data": {
      "text/html": [
       "<table>\n",
       "    <thead>\n",
       "        <tr>\n",
       "            <th>Database</th>\n",
       "        </tr>\n",
       "    </thead>\n",
       "    <tbody>\n",
       "        <tr>\n",
       "            <td>IMDb</td>\n",
       "        </tr>\n",
       "        <tr>\n",
       "            <td>information_schema</td>\n",
       "        </tr>\n",
       "        <tr>\n",
       "            <td>mysql</td>\n",
       "        </tr>\n",
       "        <tr>\n",
       "            <td>performance_schema</td>\n",
       "        </tr>\n",
       "        <tr>\n",
       "            <td>sys</td>\n",
       "        </tr>\n",
       "        <tr>\n",
       "            <td>world</td>\n",
       "        </tr>\n",
       "    </tbody>\n",
       "</table>"
      ],
      "text/plain": [
       "[('IMDb',),\n",
       " ('information_schema',),\n",
       " ('mysql',),\n",
       " ('performance_schema',),\n",
       " ('sys',),\n",
       " ('world',)]"
      ]
     },
     "execution_count": 8,
     "metadata": {},
     "output_type": "execute_result"
    }
   ],
   "source": [
    "%%sql\n",
    "\n",
    "SHOW DATABASES;"
   ]
  },
  {
   "cell_type": "markdown",
   "id": "b6c9f988",
   "metadata": {},
   "source": [
    "An additional benefit is that a single `%sql` (not a double `%%sql`) can be used to combine a SQL query with any Python command."
   ]
  },
  {
   "cell_type": "code",
   "execution_count": 9,
   "id": "55d8300a",
   "metadata": {},
   "outputs": [
    {
     "name": "stdout",
     "output_type": "stream",
     "text": [
      " * mysql+mysqlconnector://root:***@db\n",
      "4 rows affected.\n",
      "+--------------------+\n",
      "|      Database      |\n",
      "+--------------------+\n",
      "| information_schema |\n",
      "|       mysql        |\n",
      "| performance_schema |\n",
      "|        sys         |\n",
      "+--------------------+\n"
     ]
    }
   ],
   "source": [
    "my_python_var = %sql SHOW DATABASES\n",
    "\n",
    "print(my_python_var)"
   ]
  },
  {
   "cell_type": "markdown",
   "id": "d3885276",
   "metadata": {},
   "source": [
    "The combination of either of the two Pythonic methods can be used to easily redirect the output of database transactions to leverage other well-known Python modules, such as plotting with Matplotlib."
   ]
  },
  {
   "cell_type": "code",
   "execution_count": 10,
   "id": "a40732b1",
   "metadata": {},
   "outputs": [
    {
     "data": {
      "image/png": "[encoded data removed]",
      "text/plain": [
       "<Figure size 640x480 with 1 Axes>"
      ]
     },
     "metadata": {},
     "output_type": "display_data"
    }
   ],
   "source": [
    "import matplotlib.pyplot as plt\n",
    "%matplotlib inline\n",
    "\n",
    "plt.hist(my_python_var);\n",
    "plt.xticks(rotation='vertical');"
   ]
  },
  {
   "cell_type": "markdown",
   "id": "651dcb6b",
   "metadata": {},
   "source": [
    "## 02 Database and Table creation"
   ]
  },
  {
   "cell_type": "markdown",
   "id": "045ce129",
   "metadata": {},
   "source": [
    "We have already seen how to inspect the server to see which databases are present using the command:\n",
    "\n",
    "```mysql\n",
    "SHOW DATABASES;\n",
    "```\n",
    "\n",
    "To start interacting with a specific database, we can select it using `USE`:\n",
    "\n",
    "```mysql\n",
    "USE <DB_NAME>;\n",
    "```\n",
    "\n",
    "If the user has been granted the right to access this database, it's possible to start investigating its content."
   ]
  },
  {
   "cell_type": "markdown",
   "id": "05f1434e-dd26-4e73-ae47-e0cf822cc322",
   "metadata": {},
   "source": [
    "If we want to create a new database to work with instead, we can use the command:\n",
    "\n",
    "```mysql\n",
    "CREATE DATABASE <DB_NAME>;\n",
    "```\n",
    "\n",
    "A more complex syntax can be used to create a new database only if no other database with the same name already exists:\n",
    "\n",
    "```mysql\n",
    "CREATE DATABASE IF NOT EXISTS <DB_NAME>;\n",
    "```"
   ]
  },
  {
   "cell_type": "markdown",
   "id": "8c848513",
   "metadata": {},
   "source": [
    "- Check if a DB named `my_db` exists.\n",
    "- If not, create one. \n",
    "- Then, switch to the new DB to start using it."
   ]
  },
  {
   "cell_type": "code",
   "execution_count": 11,
   "id": "34f5d67e",
   "metadata": {},
   "outputs": [
    {
     "name": "stdout",
     "output_type": "stream",
     "text": [
      " * mysql+mysqlconnector://root:***@db\n",
      "1 rows affected.\n",
      "0 rows affected.\n"
     ]
    },
    {
     "data": {
      "text/plain": [
       "[]"
      ]
     },
     "execution_count": 11,
     "metadata": {},
     "output_type": "execute_result"
    }
   ],
   "source": [
    "%%sql \n",
    "\n",
    "CREATE DATABASE IF NOT EXISTS my_db;\n",
    "USE my_db;"
   ]
  },
  {
   "cell_type": "markdown",
   "id": "01bd56f7",
   "metadata": {},
   "source": [
    "All tables contained in the DB are shown in a similar way to what used to show all DBs on the server:\n",
    "\n",
    "```mysql\n",
    "SHOW TABLES;\n",
    "```\n",
    "\n",
    "**NB**: we are inspecting the content of a specific DB (the one selected with `USE <DB_NAME>`)"
   ]
  },
  {
   "cell_type": "code",
   "execution_count": 12,
   "id": "d36532bf",
   "metadata": {},
   "outputs": [
    {
     "name": "stdout",
     "output_type": "stream",
     "text": [
      " * mysql+mysqlconnector://root:***@db\n",
      "0 rows affected.\n"
     ]
    },
    {
     "data": {
      "text/html": [
       "<table>\n",
       "    <thead>\n",
       "        <tr>\n",
       "            <th>Tables_in_my_db</th>\n",
       "        </tr>\n",
       "    </thead>\n",
       "    <tbody>\n",
       "    </tbody>\n",
       "</table>"
      ],
      "text/plain": [
       "[]"
      ]
     },
     "execution_count": 12,
     "metadata": {},
     "output_type": "execute_result"
    }
   ],
   "source": [
    "%%sql\n",
    "\n",
    "SHOW TABLES;"
   ]
  },
  {
   "cell_type": "markdown",
   "id": "c27b3ca7",
   "metadata": {},
   "source": [
    "The analogous Pythonic way to execute the same list of commands (using the `mysql.connector` driver) is the following:\n",
    "\n",
    "**NB**: This time we are not retrieving results from the server, but are instead asking the DBMS to _create_ a new database. We are issuing a request that requires us to **commit** a change in the MySQL server"
   ]
  },
  {
   "cell_type": "code",
   "execution_count": 13,
   "id": "a834bc57",
   "metadata": {},
   "outputs": [],
   "source": [
    "# defining the sql command line\n",
    "sql_ = \"CREATE DATABASE IF NOT EXISTS my_db;\"\n",
    "\n",
    "# instructing the cursor to execute it\n",
    "dbc.execute(sql_)\n",
    "\n",
    "# in this case the result of the sql transaction is not to return a list of items \n",
    "# it is instead a change in the DB structure\n",
    "# therefore, for the change to have an effect, the change is to be committed to the DB\n",
    "db.commit() "
   ]
  },
  {
   "cell_type": "markdown",
   "id": "5ece7e17",
   "metadata": {},
   "source": [
    "All other commands discussed so far (`USE` and `SHOW`), do not require any change to be committed, therefore we can simply issue them via the cursor.\n",
    "\n",
    "Creating new databases, or changing the structure (_schema_) or the content (_instance_) of a database, will instead require a `commit`."
   ]
  },
  {
   "cell_type": "code",
   "execution_count": 14,
   "id": "f6f8d067",
   "metadata": {},
   "outputs": [
    {
     "data": {
      "text/plain": [
       "[]"
      ]
     },
     "execution_count": 14,
     "metadata": {},
     "output_type": "execute_result"
    }
   ],
   "source": [
    "# use the my_db database\n",
    "dbc.execute(\"USE my_db\")\n",
    "\n",
    "# show all tables\n",
    "dbc.execute(\"SHOW TABLES\")\n",
    "dbc.fetchall()"
   ]
  },
  {
   "cell_type": "markdown",
   "id": "17f8781c",
   "metadata": {},
   "source": [
    "So far the `my_db` database is empty, so let's use the same lines presented in the slides to create a dummy `Users` table.\n",
    "\n",
    "Any table can then be inspected to check its schema by listing all attributes.\n",
    "\n",
    "1. Begin by creating a `Users` table. Define the schema by specifying each attribute.\n",
    "2. Verify if it has been successfully created in the database. Use the `SHOW` command for this purpose.\n",
    "3. Inspect the schema of the `Users` table, execute the `DESCRIBE <TABLE_NAME>` command."
   ]
  },
  {
   "cell_type": "code",
   "execution_count": 15,
   "id": "4d37adb0",
   "metadata": {},
   "outputs": [
    {
     "name": "stdout",
     "output_type": "stream",
     "text": [
      " * mysql+mysqlconnector://root:***@db\n",
      "0 rows affected.\n"
     ]
    },
    {
     "data": {
      "text/plain": [
       "[]"
      ]
     },
     "execution_count": 15,
     "metadata": {},
     "output_type": "execute_result"
    }
   ],
   "source": [
    "%%sql\n",
    "\n",
    "# create a table following the schema on the slides\n",
    "CREATE TABLE Users (\n",
    "    UserID    varchar(30),\n",
    "    BadgeNum  int(16),\n",
    "    FirstName varchar(255),\n",
    "    LastName  varchar(255),\n",
    "    Age       int,\n",
    "    OtherAttr float\n",
    ");"
   ]
  },
  {
   "cell_type": "code",
   "execution_count": 16,
   "id": "66fa8b3c",
   "metadata": {},
   "outputs": [
    {
     "name": "stdout",
     "output_type": "stream",
     "text": [
      " * mysql+mysqlconnector://root:***@db\n",
      "1 rows affected.\n"
     ]
    },
    {
     "data": {
      "text/html": [
       "<table>\n",
       "    <thead>\n",
       "        <tr>\n",
       "            <th>Tables_in_my_db</th>\n",
       "        </tr>\n",
       "    </thead>\n",
       "    <tbody>\n",
       "        <tr>\n",
       "            <td>Users</td>\n",
       "        </tr>\n",
       "    </tbody>\n",
       "</table>"
      ],
      "text/plain": [
       "[('Users',)]"
      ]
     },
     "execution_count": 16,
     "metadata": {},
     "output_type": "execute_result"
    }
   ],
   "source": [
    "%%sql\n",
    "\n",
    "# show the tables in the current database\n",
    "SHOW TABLES;"
   ]
  },
  {
   "cell_type": "code",
   "execution_count": 17,
   "id": "03aee261",
   "metadata": {},
   "outputs": [
    {
     "name": "stdout",
     "output_type": "stream",
     "text": [
      " * mysql+mysqlconnector://root:***@db\n",
      "6 rows affected.\n"
     ]
    },
    {
     "data": {
      "text/html": [
       "<table>\n",
       "    <thead>\n",
       "        <tr>\n",
       "            <th>Field</th>\n",
       "            <th>Type</th>\n",
       "            <th>Null</th>\n",
       "            <th>Key</th>\n",
       "            <th>Default</th>\n",
       "            <th>Extra</th>\n",
       "        </tr>\n",
       "    </thead>\n",
       "    <tbody>\n",
       "        <tr>\n",
       "            <td>UserID</td>\n",
       "            <td>varchar(30)</td>\n",
       "            <td>YES</td>\n",
       "            <td></td>\n",
       "            <td>None</td>\n",
       "            <td></td>\n",
       "        </tr>\n",
       "        <tr>\n",
       "            <td>BadgeNum</td>\n",
       "            <td>int</td>\n",
       "            <td>YES</td>\n",
       "            <td></td>\n",
       "            <td>None</td>\n",
       "            <td></td>\n",
       "        </tr>\n",
       "        <tr>\n",
       "            <td>FirstName</td>\n",
       "            <td>varchar(255)</td>\n",
       "            <td>YES</td>\n",
       "            <td></td>\n",
       "            <td>None</td>\n",
       "            <td></td>\n",
       "        </tr>\n",
       "        <tr>\n",
       "            <td>LastName</td>\n",
       "            <td>varchar(255)</td>\n",
       "            <td>YES</td>\n",
       "            <td></td>\n",
       "            <td>None</td>\n",
       "            <td></td>\n",
       "        </tr>\n",
       "        <tr>\n",
       "            <td>Age</td>\n",
       "            <td>int</td>\n",
       "            <td>YES</td>\n",
       "            <td></td>\n",
       "            <td>None</td>\n",
       "            <td></td>\n",
       "        </tr>\n",
       "        <tr>\n",
       "            <td>OtherAttr</td>\n",
       "            <td>float</td>\n",
       "            <td>YES</td>\n",
       "            <td></td>\n",
       "            <td>None</td>\n",
       "            <td></td>\n",
       "        </tr>\n",
       "    </tbody>\n",
       "</table>"
      ],
      "text/plain": [
       "[('UserID', 'varchar(30)', 'YES', '', None, ''),\n",
       " ('BadgeNum', 'int', 'YES', '', None, ''),\n",
       " ('FirstName', 'varchar(255)', 'YES', '', None, ''),\n",
       " ('LastName', 'varchar(255)', 'YES', '', None, ''),\n",
       " ('Age', 'int', 'YES', '', None, ''),\n",
       " ('OtherAttr', 'float', 'YES', '', None, '')]"
      ]
     },
     "execution_count": 17,
     "metadata": {},
     "output_type": "execute_result"
    }
   ],
   "source": [
    "%%sql\n",
    "\n",
    "# describe the table `Users`\n",
    "DESCRIBE Users;"
   ]
  },
  {
   "cell_type": "markdown",
   "id": "959376c7",
   "metadata": {},
   "source": [
    "Following the previous examples, let's perform the same transactions using the `mysql.connector` driver. Since the `Users` table already exists, we will create a new table called `Users_py`.\n",
    "\n",
    "Remember the following points:\n",
    "\n",
    "- Utilize the DB Cursor to execute the transactions.\n",
    "- Transactions that change the content of the DB must be _committed_ to the DB.\n",
    "- Transactions returning the content of the DB host their results _in the cursor_."
   ]
  },
  {
   "cell_type": "code",
   "execution_count": 18,
   "id": "08b57830",
   "metadata": {},
   "outputs": [],
   "source": [
    "# create a table following the schema on the slides\n",
    "sql = 'CREATE TABLE Users_py (\\\n",
    "       UserID    varchar(30),\\\n",
    "       BadgeNum  int(16),\\\n",
    "       FirstName varchar(255),\\\n",
    "       LastName  varchar(255),\\\n",
    "       Age       int,\\\n",
    "       OtherAttr float);'\n",
    "dbc.execute(sql)\n",
    "db.commit()"
   ]
  },
  {
   "cell_type": "code",
   "execution_count": 19,
   "id": "47a353a2",
   "metadata": {},
   "outputs": [
    {
     "data": {
      "text/plain": [
       "[('Users',), ('Users_py',)]"
      ]
     },
     "execution_count": 19,
     "metadata": {},
     "output_type": "execute_result"
    }
   ],
   "source": [
    "# show the tables in the current database\n",
    "dbc.execute(\"SHOW TABLES\")\n",
    "dbc.fetchall()"
   ]
  },
  {
   "cell_type": "code",
   "execution_count": 20,
   "id": "ea6ff865",
   "metadata": {},
   "outputs": [
    {
     "data": {
      "text/plain": [
       "[('UserID', 'varchar(30)', 'YES', '', None, ''),\n",
       " ('BadgeNum', 'int', 'YES', '', None, ''),\n",
       " ('FirstName', 'varchar(255)', 'YES', '', None, ''),\n",
       " ('LastName', 'varchar(255)', 'YES', '', None, ''),\n",
       " ('Age', 'int', 'YES', '', None, ''),\n",
       " ('OtherAttr', 'float', 'YES', '', None, '')]"
      ]
     },
     "execution_count": 20,
     "metadata": {},
     "output_type": "execute_result"
    }
   ],
   "source": [
    "# describe the table `Users_py`\n",
    "dbc.execute(\"DESCRIBE Users_py\")\n",
    "dbc.fetchall()"
   ]
  },
  {
   "cell_type": "markdown",
   "id": "362814c1",
   "metadata": {},
   "source": [
    "## 03 Declaring contstraints and altering tables"
   ]
  },
  {
   "cell_type": "markdown",
   "id": "c0443720",
   "metadata": {},
   "source": [
    "Before moving on, let's clean up all existing tables in our database.\n",
    "\n",
    "To remove an existing table from the database, you can use the following instruction:\n",
    "\n",
    "```mysql\n",
    "DROP TABLE IF EXISTS <NAME OF YOUR TABLE>;\n",
    "```\n",
    "\n",
    "**CAUTION**: Dropping a table deletes all records from that table and severs all connections with other tables based on foreign keys. This action can render the entire database unusable. Be extremely careful when executing this command."
   ]
  },
  {
   "cell_type": "code",
   "execution_count": 21,
   "id": "c555b534",
   "metadata": {},
   "outputs": [
    {
     "name": "stdout",
     "output_type": "stream",
     "text": [
      " * mysql+mysqlconnector://root:***@db\n",
      "0 rows affected.\n"
     ]
    },
    {
     "data": {
      "text/plain": [
       "[]"
      ]
     },
     "execution_count": 21,
     "metadata": {},
     "output_type": "execute_result"
    }
   ],
   "source": [
    "%%sql \n",
    "\n",
    "# drop the table Users\n",
    "DROP TABLE IF EXISTS Users;"
   ]
  },
  {
   "cell_type": "markdown",
   "id": "710dad35",
   "metadata": {},
   "source": [
    "Let's also drop the `Users_py` table using the Python connector.\n",
    "This is once again an action that alters the database, thus we must `commit` it."
   ]
  },
  {
   "cell_type": "code",
   "execution_count": 22,
   "id": "3a6d26e5",
   "metadata": {},
   "outputs": [],
   "source": [
    "# drop the table Users_py\n",
    "dbc.execute(\"DROP TABLE IF EXISTS Users_py\")\n",
    "db.commit()"
   ]
  },
  {
   "cell_type": "code",
   "execution_count": 23,
   "id": "4cd9b099",
   "metadata": {},
   "outputs": [
    {
     "data": {
      "text/plain": [
       "[]"
      ]
     },
     "execution_count": 23,
     "metadata": {},
     "output_type": "execute_result"
    }
   ],
   "source": [
    "# inspect the content of the database\n",
    "dbc.execute(\"SHOW TABLES\")\n",
    "dbc.fetchall()"
   ]
  },
  {
   "cell_type": "markdown",
   "id": "6e686164",
   "metadata": {},
   "source": [
    "Create a new `products` table with the following schema:\n",
    "\n",
    "| Attribute    | Type    | Extra info | Constraint                |\n",
    "|--------------|---------|------------|---------------------------|\n",
    "| productID    | Integer |            | NOT NULL AUTO_INCREMENT  |\n",
    "| productName  | String  | Max length 30 | DEFAULT ''            |\n",
    "| unitPrice    | Float   |            | NOT NULL DEFAULT 99999.99|\n",
    "| unitsInStock | Integer | Unsigned   | NOT NULL DEFAULT 0        |\n",
    "\n",
    "\n",
    "The `productID` attribute will be our `PRIMARY KEY`.\n",
    "\n",
    "This can be declared either inline, or at the end of the table definition:\n",
    "\n",
    "```mysql\n",
    "productID INT NOT NULL UNIQUE AUTO_INCREMENT PRIMARY KEY\n",
    "```\n",
    "\n",
    "or \n",
    "\n",
    "```mysql\n",
    "productID INT NOT NULL UNIQUE AUTO_INCREMENT\n",
    "[...]\n",
    "PRIMARY KEY (productID)\n",
    "```"
   ]
  },
  {
   "cell_type": "code",
   "execution_count": 24,
   "id": "90189133",
   "metadata": {},
   "outputs": [
    {
     "name": "stdout",
     "output_type": "stream",
     "text": [
      " * mysql+mysqlconnector://root:***@db\n",
      "0 rows affected.\n"
     ]
    },
    {
     "data": {
      "text/plain": [
       "[]"
      ]
     },
     "execution_count": 24,
     "metadata": {},
     "output_type": "execute_result"
    }
   ],
   "source": [
    "%%sql\n",
    "\n",
    "# create the products table\n",
    "CREATE TABLE IF NOT EXISTS products (\n",
    "         productID    INT          NOT NULL UNIQUE AUTO_INCREMENT PRIMARY KEY,\n",
    "         productName  VARCHAR(30)  DEFAULT '' ,\n",
    "         unitPrice    FLOAT        NOT NULL DEFAULT 99999.99,\n",
    "         unitsInStock INT UNSIGNED NOT NULL DEFAULT 0\n",
    ");"
   ]
  },
  {
   "cell_type": "code",
   "execution_count": 25,
   "id": "4ee4e53f",
   "metadata": {},
   "outputs": [
    {
     "name": "stdout",
     "output_type": "stream",
     "text": [
      " * mysql+mysqlconnector://root:***@db\n",
      "4 rows affected.\n"
     ]
    },
    {
     "data": {
      "text/html": [
       "<table>\n",
       "    <thead>\n",
       "        <tr>\n",
       "            <th>Field</th>\n",
       "            <th>Type</th>\n",
       "            <th>Null</th>\n",
       "            <th>Key</th>\n",
       "            <th>Default</th>\n",
       "            <th>Extra</th>\n",
       "        </tr>\n",
       "    </thead>\n",
       "    <tbody>\n",
       "        <tr>\n",
       "            <td>productID</td>\n",
       "            <td>int</td>\n",
       "            <td>NO</td>\n",
       "            <td>PRI</td>\n",
       "            <td>None</td>\n",
       "            <td>auto_increment</td>\n",
       "        </tr>\n",
       "        <tr>\n",
       "            <td>productName</td>\n",
       "            <td>varchar(30)</td>\n",
       "            <td>YES</td>\n",
       "            <td></td>\n",
       "            <td></td>\n",
       "            <td></td>\n",
       "        </tr>\n",
       "        <tr>\n",
       "            <td>unitPrice</td>\n",
       "            <td>float</td>\n",
       "            <td>NO</td>\n",
       "            <td></td>\n",
       "            <td>100000</td>\n",
       "            <td></td>\n",
       "        </tr>\n",
       "        <tr>\n",
       "            <td>unitsInStock</td>\n",
       "            <td>int unsigned</td>\n",
       "            <td>NO</td>\n",
       "            <td></td>\n",
       "            <td>0</td>\n",
       "            <td></td>\n",
       "        </tr>\n",
       "    </tbody>\n",
       "</table>"
      ],
      "text/plain": [
       "[('productID', 'int', 'NO', 'PRI', None, 'auto_increment'),\n",
       " ('productName', 'varchar(30)', 'YES', '', '', ''),\n",
       " ('unitPrice', 'float', 'NO', '', '100000', ''),\n",
       " ('unitsInStock', 'int unsigned', 'NO', '', '0', '')]"
      ]
     },
     "execution_count": 25,
     "metadata": {},
     "output_type": "execute_result"
    }
   ],
   "source": [
    "%%sql\n",
    "\n",
    "# inspect the table schema\n",
    "DESCRIBE products;"
   ]
  },
  {
   "cell_type": "markdown",
   "id": "d6603107",
   "metadata": {},
   "source": [
    "The table does not contain any constraints, default values, or foreign keys.\n",
    "\n",
    "The **schema** of a given table can be altered by adding/removing Attributes, as well as by adding constraints.\n",
    "\n",
    "Let's first add a new attribute to the table:\n",
    "\n",
    "| Attribute       | Type    | Extra info     | Constraint                |\n",
    "|-----------------|---------|----------------|---------------------------|\n",
    "| productID       | Integer |                | NOT NULL AUTO_INCREMENT  |\n",
    "| productName     | String  | Max length 30  | DEFAULT ''               |\n",
    "| unitPrice       | Float   |                | NOT NULL DEFAULT 99999.99|\n",
    "| unitsInStock    | Integer | Unsigned       | NOT NULL DEFAULT 0       |\n",
    "| **isDiscontinued** | **Bool** |              | NOT NULL                  |\n",
    "\n",
    "\n",
    "To alter the **schema** of a table and create a new column we can act on it with:\n",
    "\n",
    "```mysql\n",
    "ALTER TABLE <THE TABLE>\n",
    "ADD COLUMN <NEW COL> <THE NEW ATTRIBUTE DECLARATION>;\n",
    "```\n"
   ]
  },
  {
   "cell_type": "markdown",
   "id": "d0dda2e9",
   "metadata": {},
   "source": [
    "#### Alter the `products` table and add the `isDiscontinued` attribute"
   ]
  },
  {
   "cell_type": "code",
   "execution_count": 26,
   "id": "7e3963ab",
   "metadata": {},
   "outputs": [
    {
     "name": "stdout",
     "output_type": "stream",
     "text": [
      " * mysql+mysqlconnector://root:***@db\n",
      "0 rows affected.\n"
     ]
    },
    {
     "data": {
      "text/plain": [
       "[]"
      ]
     },
     "execution_count": 26,
     "metadata": {},
     "output_type": "execute_result"
    }
   ],
   "source": [
    "%%sql\n",
    "\n",
    "# alter the table\n",
    "ALTER TABLE products\n",
    "ADD COLUMN isDiscontinued BOOL NOT NULL;"
   ]
  },
  {
   "cell_type": "code",
   "execution_count": 27,
   "id": "c076d918",
   "metadata": {},
   "outputs": [
    {
     "name": "stdout",
     "output_type": "stream",
     "text": [
      " * mysql+mysqlconnector://root:***@db\n",
      "5 rows affected.\n"
     ]
    },
    {
     "data": {
      "text/html": [
       "<table>\n",
       "    <thead>\n",
       "        <tr>\n",
       "            <th>Field</th>\n",
       "            <th>Type</th>\n",
       "            <th>Null</th>\n",
       "            <th>Key</th>\n",
       "            <th>Default</th>\n",
       "            <th>Extra</th>\n",
       "        </tr>\n",
       "    </thead>\n",
       "    <tbody>\n",
       "        <tr>\n",
       "            <td>productID</td>\n",
       "            <td>int</td>\n",
       "            <td>NO</td>\n",
       "            <td>PRI</td>\n",
       "            <td>None</td>\n",
       "            <td>auto_increment</td>\n",
       "        </tr>\n",
       "        <tr>\n",
       "            <td>productName</td>\n",
       "            <td>varchar(30)</td>\n",
       "            <td>YES</td>\n",
       "            <td></td>\n",
       "            <td></td>\n",
       "            <td></td>\n",
       "        </tr>\n",
       "        <tr>\n",
       "            <td>unitPrice</td>\n",
       "            <td>float</td>\n",
       "            <td>NO</td>\n",
       "            <td></td>\n",
       "            <td>100000</td>\n",
       "            <td></td>\n",
       "        </tr>\n",
       "        <tr>\n",
       "            <td>unitsInStock</td>\n",
       "            <td>int unsigned</td>\n",
       "            <td>NO</td>\n",
       "            <td></td>\n",
       "            <td>0</td>\n",
       "            <td></td>\n",
       "        </tr>\n",
       "        <tr>\n",
       "            <td>isDiscontinued</td>\n",
       "            <td>tinyint(1)</td>\n",
       "            <td>NO</td>\n",
       "            <td></td>\n",
       "            <td>None</td>\n",
       "            <td></td>\n",
       "        </tr>\n",
       "    </tbody>\n",
       "</table>"
      ],
      "text/plain": [
       "[('productID', 'int', 'NO', 'PRI', None, 'auto_increment'),\n",
       " ('productName', 'varchar(30)', 'YES', '', '', ''),\n",
       " ('unitPrice', 'float', 'NO', '', '100000', ''),\n",
       " ('unitsInStock', 'int unsigned', 'NO', '', '0', ''),\n",
       " ('isDiscontinued', 'tinyint(1)', 'NO', '', None, '')]"
      ]
     },
     "execution_count": 27,
     "metadata": {},
     "output_type": "execute_result"
    }
   ],
   "source": [
    "%%sql\n",
    "\n",
    "# inspect the table schema\n",
    "DESCRIBE products;"
   ]
  },
  {
   "cell_type": "markdown",
   "id": "fb44152a",
   "metadata": {},
   "source": [
    "The `isDiscontinued` attribute does not contain any meaningful constraint or default value.\n",
    "Let's consider `0` as a good default value for this attribute:\n",
    "\n",
    "| Attribute | Type | Extra info | Constraint | \n",
    "| --- | --- | --- |--- |\n",
    "| productID   | Integer | | NOT NULL AUTO_INCREMENT |\n",
    "| productName | String | Max length 30 | DEFAULT '' |\n",
    "| unitPrice   | Float | | NOT NULL DEFAULT 99999.99|\n",
    "| unitsInStock | Integer | Unsigned | NOT NULL DEFAULT 0 |\n",
    "| isDiscontinued  | Bool | | NOT NULL **DEFAULT 0** |\n",
    "\n",
    "We can use the same `ALTER TABLE` instruction to do this, and set a new default:\n",
    "    \n",
    "```mysql\n",
    "ALTER TABLE <THE TABLE>\n",
    "ALTER <ATTRIBUTE> SET DEFAULT <NEW DEFAULT>;\n",
    "```"
   ]
  },
  {
   "cell_type": "code",
   "execution_count": 28,
   "id": "a48d16d3",
   "metadata": {},
   "outputs": [
    {
     "name": "stdout",
     "output_type": "stream",
     "text": [
      " * mysql+mysqlconnector://root:***@db\n",
      "0 rows affected.\n"
     ]
    },
    {
     "data": {
      "text/plain": [
       "[]"
      ]
     },
     "execution_count": 28,
     "metadata": {},
     "output_type": "execute_result"
    }
   ],
   "source": [
    "%%sql \n",
    "\n",
    "# alter the table\n",
    "ALTER TABLE products \n",
    "ALTER isDiscontinued SET DEFAULT 0;"
   ]
  },
  {
   "cell_type": "code",
   "execution_count": 29,
   "id": "34fd03b5",
   "metadata": {},
   "outputs": [
    {
     "name": "stdout",
     "output_type": "stream",
     "text": [
      " * mysql+mysqlconnector://root:***@db\n",
      "5 rows affected.\n"
     ]
    },
    {
     "data": {
      "text/html": [
       "<table>\n",
       "    <thead>\n",
       "        <tr>\n",
       "            <th>Field</th>\n",
       "            <th>Type</th>\n",
       "            <th>Null</th>\n",
       "            <th>Key</th>\n",
       "            <th>Default</th>\n",
       "            <th>Extra</th>\n",
       "        </tr>\n",
       "    </thead>\n",
       "    <tbody>\n",
       "        <tr>\n",
       "            <td>productID</td>\n",
       "            <td>int</td>\n",
       "            <td>NO</td>\n",
       "            <td>PRI</td>\n",
       "            <td>None</td>\n",
       "            <td>auto_increment</td>\n",
       "        </tr>\n",
       "        <tr>\n",
       "            <td>productName</td>\n",
       "            <td>varchar(30)</td>\n",
       "            <td>YES</td>\n",
       "            <td></td>\n",
       "            <td></td>\n",
       "            <td></td>\n",
       "        </tr>\n",
       "        <tr>\n",
       "            <td>unitPrice</td>\n",
       "            <td>float</td>\n",
       "            <td>NO</td>\n",
       "            <td></td>\n",
       "            <td>100000</td>\n",
       "            <td></td>\n",
       "        </tr>\n",
       "        <tr>\n",
       "            <td>unitsInStock</td>\n",
       "            <td>int unsigned</td>\n",
       "            <td>NO</td>\n",
       "            <td></td>\n",
       "            <td>0</td>\n",
       "            <td></td>\n",
       "        </tr>\n",
       "        <tr>\n",
       "            <td>isDiscontinued</td>\n",
       "            <td>tinyint(1)</td>\n",
       "            <td>NO</td>\n",
       "            <td></td>\n",
       "            <td>0</td>\n",
       "            <td></td>\n",
       "        </tr>\n",
       "    </tbody>\n",
       "</table>"
      ],
      "text/plain": [
       "[('productID', 'int', 'NO', 'PRI', None, 'auto_increment'),\n",
       " ('productName', 'varchar(30)', 'YES', '', '', ''),\n",
       " ('unitPrice', 'float', 'NO', '', '100000', ''),\n",
       " ('unitsInStock', 'int unsigned', 'NO', '', '0', ''),\n",
       " ('isDiscontinued', 'tinyint(1)', 'NO', '', '0', '')]"
      ]
     },
     "execution_count": 29,
     "metadata": {},
     "output_type": "execute_result"
    }
   ],
   "source": [
    "%%sql\n",
    "\n",
    "# inspect the table schema\n",
    "DESCRIBE products;"
   ]
  },
  {
   "cell_type": "markdown",
   "id": "1500dc54",
   "metadata": {},
   "source": [
    "We can also impose `productName` to be not-null by altering the table one final time.\n",
    "\n",
    "| Attribute | Type | Extra info | Constraint | \n",
    "| --- | --- | --- |--- |\n",
    "| productID   | Integer | | NOT NULL AUTO_INCREMENT |\n",
    "| productName | String | Max length 30 | **NOT NULL** DEFAULT '' |\n",
    "| unitPrice   | Float | | NOT NULL DEFAULT 99999.99|\n",
    "| unitsInStock | Integer | Unsigned | NOT NULL DEFAULT 0 |\n",
    "| isDiscontinued  | Bool | | NOT NULL DEFAULT 0 |\n",
    "\n",
    "\n",
    "In MySQL, this implies modifying the entire attribute, thus the Type will have to be re-stated:\n",
    "    \n",
    "```mysql\n",
    "ALTER TABLE <THE TABLE>\n",
    "MODIFY <ATTRIBUTE> <ATTRIBUTE TYPE> <CONSTRAINT>;\n",
    "```"
   ]
  },
  {
   "cell_type": "code",
   "execution_count": 30,
   "id": "413885a2",
   "metadata": {},
   "outputs": [
    {
     "name": "stdout",
     "output_type": "stream",
     "text": [
      " * mysql+mysqlconnector://root:***@db\n",
      "0 rows affected.\n"
     ]
    },
    {
     "data": {
      "text/plain": [
       "[]"
      ]
     },
     "execution_count": 30,
     "metadata": {},
     "output_type": "execute_result"
    }
   ],
   "source": [
    "%%sql\n",
    "\n",
    "# alter the table\n",
    "ALTER TABLE products\n",
    "MODIFY productName VARCHAR(30) NOT NULL;"
   ]
  },
  {
   "cell_type": "code",
   "execution_count": 31,
   "id": "9c3f5024",
   "metadata": {},
   "outputs": [
    {
     "name": "stdout",
     "output_type": "stream",
     "text": [
      " * mysql+mysqlconnector://root:***@db\n",
      "5 rows affected.\n"
     ]
    },
    {
     "data": {
      "text/html": [
       "<table>\n",
       "    <thead>\n",
       "        <tr>\n",
       "            <th>Field</th>\n",
       "            <th>Type</th>\n",
       "            <th>Null</th>\n",
       "            <th>Key</th>\n",
       "            <th>Default</th>\n",
       "            <th>Extra</th>\n",
       "        </tr>\n",
       "    </thead>\n",
       "    <tbody>\n",
       "        <tr>\n",
       "            <td>productID</td>\n",
       "            <td>int</td>\n",
       "            <td>NO</td>\n",
       "            <td>PRI</td>\n",
       "            <td>None</td>\n",
       "            <td>auto_increment</td>\n",
       "        </tr>\n",
       "        <tr>\n",
       "            <td>productName</td>\n",
       "            <td>varchar(30)</td>\n",
       "            <td>NO</td>\n",
       "            <td></td>\n",
       "            <td>None</td>\n",
       "            <td></td>\n",
       "        </tr>\n",
       "        <tr>\n",
       "            <td>unitPrice</td>\n",
       "            <td>float</td>\n",
       "            <td>NO</td>\n",
       "            <td></td>\n",
       "            <td>100000</td>\n",
       "            <td></td>\n",
       "        </tr>\n",
       "        <tr>\n",
       "            <td>unitsInStock</td>\n",
       "            <td>int unsigned</td>\n",
       "            <td>NO</td>\n",
       "            <td></td>\n",
       "            <td>0</td>\n",
       "            <td></td>\n",
       "        </tr>\n",
       "        <tr>\n",
       "            <td>isDiscontinued</td>\n",
       "            <td>tinyint(1)</td>\n",
       "            <td>NO</td>\n",
       "            <td></td>\n",
       "            <td>0</td>\n",
       "            <td></td>\n",
       "        </tr>\n",
       "    </tbody>\n",
       "</table>"
      ],
      "text/plain": [
       "[('productID', 'int', 'NO', 'PRI', None, 'auto_increment'),\n",
       " ('productName', 'varchar(30)', 'NO', '', None, ''),\n",
       " ('unitPrice', 'float', 'NO', '', '100000', ''),\n",
       " ('unitsInStock', 'int unsigned', 'NO', '', '0', ''),\n",
       " ('isDiscontinued', 'tinyint(1)', 'NO', '', '0', '')]"
      ]
     },
     "execution_count": 31,
     "metadata": {},
     "output_type": "execute_result"
    }
   ],
   "source": [
    "%%sql\n",
    "\n",
    "# inspect the table schema\n",
    "DESCRIBE products;"
   ]
  },
  {
   "cell_type": "markdown",
   "id": "4f0cc301",
   "metadata": {},
   "source": [
    "Let's now create a `suppliers` table with the following description:\n",
    "\n",
    "| Attribute | Type | Extra info | Constraint | \n",
    "| --- | --- | --- |--- |\n",
    "| supplierID   | Integer | | NOT NULL AUTO_INCREMENT |\n",
    "| supplierName | String | Max length 30 | NOT NULL DEFAULT \"\" |\n",
    "| countryCode   | Char | Length 3 | NOT NULL |\n",
    "| email   | String | Max length 30  | NOT NULL |\n",
    "\n",
    "`supplierID` is going to act as the table's primary key in this case."
   ]
  },
  {
   "cell_type": "code",
   "execution_count": 32,
   "id": "047652e7",
   "metadata": {},
   "outputs": [
    {
     "name": "stdout",
     "output_type": "stream",
     "text": [
      " * mysql+mysqlconnector://root:***@db\n",
      "0 rows affected.\n"
     ]
    },
    {
     "data": {
      "text/plain": [
       "[]"
      ]
     },
     "execution_count": 32,
     "metadata": {},
     "output_type": "execute_result"
    }
   ],
   "source": [
    "%%sql\n",
    "\n",
    "# create the suppliers table\n",
    "CREATE TABLE suppliers (\n",
    "    supplierID      INT NOT NULL UNIQUE AUTO_INCREMENT PRIMARY KEY,\n",
    "    supplierName    VARCHAR(30) NOT NULL DEFAULT \"\",\n",
    "    countryCode     CHAR(3) NOT NULL,\n",
    "    email           VARCHAR(30) NOT NULL\n",
    ");\n"
   ]
  },
  {
   "cell_type": "code",
   "execution_count": 33,
   "id": "388c5176",
   "metadata": {},
   "outputs": [
    {
     "name": "stdout",
     "output_type": "stream",
     "text": [
      " * mysql+mysqlconnector://root:***@db\n",
      "4 rows affected.\n"
     ]
    },
    {
     "data": {
      "text/html": [
       "<table>\n",
       "    <thead>\n",
       "        <tr>\n",
       "            <th>Field</th>\n",
       "            <th>Type</th>\n",
       "            <th>Null</th>\n",
       "            <th>Key</th>\n",
       "            <th>Default</th>\n",
       "            <th>Extra</th>\n",
       "        </tr>\n",
       "    </thead>\n",
       "    <tbody>\n",
       "        <tr>\n",
       "            <td>supplierID</td>\n",
       "            <td>int</td>\n",
       "            <td>NO</td>\n",
       "            <td>PRI</td>\n",
       "            <td>None</td>\n",
       "            <td>auto_increment</td>\n",
       "        </tr>\n",
       "        <tr>\n",
       "            <td>supplierName</td>\n",
       "            <td>varchar(30)</td>\n",
       "            <td>NO</td>\n",
       "            <td></td>\n",
       "            <td></td>\n",
       "            <td></td>\n",
       "        </tr>\n",
       "        <tr>\n",
       "            <td>countryCode</td>\n",
       "            <td>char(3)</td>\n",
       "            <td>NO</td>\n",
       "            <td></td>\n",
       "            <td>None</td>\n",
       "            <td></td>\n",
       "        </tr>\n",
       "        <tr>\n",
       "            <td>email</td>\n",
       "            <td>varchar(30)</td>\n",
       "            <td>NO</td>\n",
       "            <td></td>\n",
       "            <td>None</td>\n",
       "            <td></td>\n",
       "        </tr>\n",
       "    </tbody>\n",
       "</table>"
      ],
      "text/plain": [
       "[('supplierID', 'int', 'NO', 'PRI', None, 'auto_increment'),\n",
       " ('supplierName', 'varchar(30)', 'NO', '', '', ''),\n",
       " ('countryCode', 'char(3)', 'NO', '', None, ''),\n",
       " ('email', 'varchar(30)', 'NO', '', None, '')]"
      ]
     },
     "execution_count": 33,
     "metadata": {},
     "output_type": "execute_result"
    }
   ],
   "source": [
    "%%sql \n",
    "\n",
    "# inspect the table schema\n",
    "DESCRIBE suppliers;"
   ]
  },
  {
   "cell_type": "markdown",
   "id": "20235130",
   "metadata": {},
   "source": [
    "Alter the table to include a default \"ITA\" for `countryCode`"
   ]
  },
  {
   "cell_type": "code",
   "execution_count": 34,
   "id": "88e112a7",
   "metadata": {},
   "outputs": [
    {
     "name": "stdout",
     "output_type": "stream",
     "text": [
      " * mysql+mysqlconnector://root:***@db\n",
      "0 rows affected.\n"
     ]
    },
    {
     "data": {
      "text/plain": [
       "[]"
      ]
     },
     "execution_count": 34,
     "metadata": {},
     "output_type": "execute_result"
    }
   ],
   "source": [
    "%%sql \n",
    "\n",
    "# alter the table\n",
    "ALTER TABLE suppliers \n",
    "ALTER countryCode SET DEFAULT \"---\";"
   ]
  },
  {
   "cell_type": "code",
   "execution_count": 35,
   "id": "1f743d2f",
   "metadata": {},
   "outputs": [
    {
     "name": "stdout",
     "output_type": "stream",
     "text": [
      " * mysql+mysqlconnector://root:***@db\n",
      "4 rows affected.\n"
     ]
    },
    {
     "data": {
      "text/html": [
       "<table>\n",
       "    <thead>\n",
       "        <tr>\n",
       "            <th>Field</th>\n",
       "            <th>Type</th>\n",
       "            <th>Null</th>\n",
       "            <th>Key</th>\n",
       "            <th>Default</th>\n",
       "            <th>Extra</th>\n",
       "        </tr>\n",
       "    </thead>\n",
       "    <tbody>\n",
       "        <tr>\n",
       "            <td>supplierID</td>\n",
       "            <td>int</td>\n",
       "            <td>NO</td>\n",
       "            <td>PRI</td>\n",
       "            <td>None</td>\n",
       "            <td>auto_increment</td>\n",
       "        </tr>\n",
       "        <tr>\n",
       "            <td>supplierName</td>\n",
       "            <td>varchar(30)</td>\n",
       "            <td>NO</td>\n",
       "            <td></td>\n",
       "            <td></td>\n",
       "            <td></td>\n",
       "        </tr>\n",
       "        <tr>\n",
       "            <td>countryCode</td>\n",
       "            <td>char(3)</td>\n",
       "            <td>NO</td>\n",
       "            <td></td>\n",
       "            <td>---</td>\n",
       "            <td></td>\n",
       "        </tr>\n",
       "        <tr>\n",
       "            <td>email</td>\n",
       "            <td>varchar(30)</td>\n",
       "            <td>NO</td>\n",
       "            <td></td>\n",
       "            <td>None</td>\n",
       "            <td></td>\n",
       "        </tr>\n",
       "    </tbody>\n",
       "</table>"
      ],
      "text/plain": [
       "[('supplierID', 'int', 'NO', 'PRI', None, 'auto_increment'),\n",
       " ('supplierName', 'varchar(30)', 'NO', '', '', ''),\n",
       " ('countryCode', 'char(3)', 'NO', '', '---', ''),\n",
       " ('email', 'varchar(30)', 'NO', '', None, '')]"
      ]
     },
     "execution_count": 35,
     "metadata": {},
     "output_type": "execute_result"
    }
   ],
   "source": [
    "%%sql \n",
    "\n",
    "# inspect the table schema\n",
    "DESCRIBE suppliers;"
   ]
  },
  {
   "cell_type": "markdown",
   "id": "dc1acf30",
   "metadata": {},
   "source": [
    "To establish a relation between the `products` and `suppliers` tables, we have to consider that:\n",
    "    \n",
    "- a supplier can supply multiple products\n",
    "- a product can be supplied by multiple suppliers\n",
    "\n",
    "This is a **many-to-many** relationship, which requires a supporting external table.\n",
    "\n",
    "To establish a many-to-many relationship between the products and suppliers tables, we create a junction table named `supplier_to_product` with foreign keys referencing the `productID` from the `products` table and the `supplierID` from the `suppliers` table.\n",
    "\n",
    "Create a new `supplier_to_product` table with the following attributes:\n",
    "    \n",
    "| Attribute | Type | Extra info | Constraint | \n",
    "| --- | --- | --- |--- |\n",
    "| prodID   | Integer | | NOT NULL |\n",
    "| supID    | Integer | | NOT NULL |\n"
   ]
  },
  {
   "cell_type": "code",
   "execution_count": 36,
   "id": "28dc7826",
   "metadata": {},
   "outputs": [
    {
     "name": "stdout",
     "output_type": "stream",
     "text": [
      " * mysql+mysqlconnector://root:***@db\n",
      "0 rows affected.\n"
     ]
    },
    {
     "data": {
      "text/plain": [
       "[]"
      ]
     },
     "execution_count": 36,
     "metadata": {},
     "output_type": "execute_result"
    }
   ],
   "source": [
    "%%sql\n",
    "\n",
    "# create the support table\n",
    "CREATE TABLE supplier_to_product (\n",
    "    prodID     INT NOT NULL,\n",
    "    supID      INT NOT NULL\n",
    ");"
   ]
  },
  {
   "cell_type": "markdown",
   "id": "c4a331ac",
   "metadata": {},
   "source": [
    "Neither `prodID` nor `supID` is a good primary key in this case, as we can have both appearing multiple times in the table.\n",
    "\n",
    "However, a good primary key for this table is the combination `(prodID,supID)` which is unique, and thus, a good key.\n",
    "\n",
    "We can alter the table to add the primary key statement:\n",
    "    \n",
    "```mysql\n",
    "ALTER TABLE <TABLE>\n",
    "ADD PRIMARY KEY (<ATTRIBUTE 1>, <ATTRIBUTE 2>);\n",
    "```"
   ]
  },
  {
   "cell_type": "code",
   "execution_count": 37,
   "id": "3a767937",
   "metadata": {},
   "outputs": [
    {
     "name": "stdout",
     "output_type": "stream",
     "text": [
      " * mysql+mysqlconnector://root:***@db\n",
      "0 rows affected.\n"
     ]
    },
    {
     "data": {
      "text/plain": [
       "[]"
      ]
     },
     "execution_count": 37,
     "metadata": {},
     "output_type": "execute_result"
    }
   ],
   "source": [
    "%%sql\n",
    "\n",
    "# alter the table\n",
    "ALTER TABLE supplier_to_product\n",
    "ADD PRIMARY KEY (prodID, supID);"
   ]
  },
  {
   "cell_type": "code",
   "execution_count": 38,
   "id": "ea9ada72",
   "metadata": {},
   "outputs": [
    {
     "name": "stdout",
     "output_type": "stream",
     "text": [
      " * mysql+mysqlconnector://root:***@db\n",
      "2 rows affected.\n"
     ]
    },
    {
     "data": {
      "text/html": [
       "<table>\n",
       "    <thead>\n",
       "        <tr>\n",
       "            <th>Field</th>\n",
       "            <th>Type</th>\n",
       "            <th>Null</th>\n",
       "            <th>Key</th>\n",
       "            <th>Default</th>\n",
       "            <th>Extra</th>\n",
       "        </tr>\n",
       "    </thead>\n",
       "    <tbody>\n",
       "        <tr>\n",
       "            <td>prodID</td>\n",
       "            <td>int</td>\n",
       "            <td>NO</td>\n",
       "            <td>PRI</td>\n",
       "            <td>None</td>\n",
       "            <td></td>\n",
       "        </tr>\n",
       "        <tr>\n",
       "            <td>supID</td>\n",
       "            <td>int</td>\n",
       "            <td>NO</td>\n",
       "            <td>PRI</td>\n",
       "            <td>None</td>\n",
       "            <td></td>\n",
       "        </tr>\n",
       "    </tbody>\n",
       "</table>"
      ],
      "text/plain": [
       "[('prodID', 'int', 'NO', 'PRI', None, ''),\n",
       " ('supID', 'int', 'NO', 'PRI', None, '')]"
      ]
     },
     "execution_count": 38,
     "metadata": {},
     "output_type": "execute_result"
    }
   ],
   "source": [
    "%%sql \n",
    "\n",
    "# inspect the table schema\n",
    "DESCRIBE supplier_to_product;"
   ]
  },
  {
   "cell_type": "markdown",
   "id": "0cdf1d3f",
   "metadata": {},
   "source": [
    "Finally, we can link the 3 tables together by stating which attributes act as the foreign keys in the `supplier_to_product` table, and to which attributes in the parent tables they refer to.\n",
    "\n",
    "- `prodID` points to the `productID` attribute of `products` table\n",
    "- `supID` points to the `supplierID` attribute of `supplier` table\n",
    "\n",
    "This translates into:\n",
    "- `prodID` is a foreign key for `supplier_to_product`\n",
    "- `subID` is a foreign key for `supplier_to_product`\n",
    "- the combination `(prodID, supID)` is the primary key of `supplier_to_product`\n",
    "\n",
    "We can declare an attribute as a foreign key by altering the table:\n",
    "\n",
    "```mysql\n",
    "ALTER TABLE <TABLE>\n",
    "ADD FOREIGN KEY (<ATTRIBUTE IN THIS TABLE>) REFERENCES <OTHER TABLE>(<ATTRIBUTE IN OTHER TABLE>);\n",
    "```"
   ]
  },
  {
   "cell_type": "code",
   "execution_count": 39,
   "id": "bc45af7e",
   "metadata": {},
   "outputs": [
    {
     "name": "stdout",
     "output_type": "stream",
     "text": [
      " * mysql+mysqlconnector://root:***@db\n",
      "0 rows affected.\n"
     ]
    },
    {
     "data": {
      "text/plain": [
       "[]"
      ]
     },
     "execution_count": 39,
     "metadata": {},
     "output_type": "execute_result"
    }
   ],
   "source": [
    "%%sql \n",
    "\n",
    "# alter the table\n",
    "ALTER TABLE supplier_to_product \n",
    "ADD CONSTRAINT FK_prod\n",
    "FOREIGN KEY (prodID) REFERENCES products(productID);"
   ]
  },
  {
   "cell_type": "code",
   "execution_count": 40,
   "id": "2d7962d2",
   "metadata": {},
   "outputs": [
    {
     "name": "stdout",
     "output_type": "stream",
     "text": [
      " * mysql+mysqlconnector://root:***@db\n",
      "0 rows affected.\n"
     ]
    },
    {
     "data": {
      "text/plain": [
       "[]"
      ]
     },
     "execution_count": 40,
     "metadata": {},
     "output_type": "execute_result"
    }
   ],
   "source": [
    "%%sql \n",
    "\n",
    "# alter the table\n",
    "ALTER TABLE supplier_to_product \n",
    "ADD CONSTRAINT FK_sup\n",
    "FOREIGN KEY (supID) REFERENCES suppliers(supplierID);"
   ]
  },
  {
   "cell_type": "code",
   "execution_count": 41,
   "id": "83be4b2c",
   "metadata": {},
   "outputs": [
    {
     "name": "stdout",
     "output_type": "stream",
     "text": [
      " * mysql+mysqlconnector://root:***@db\n",
      "2 rows affected.\n"
     ]
    },
    {
     "data": {
      "text/html": [
       "<table>\n",
       "    <thead>\n",
       "        <tr>\n",
       "            <th>Field</th>\n",
       "            <th>Type</th>\n",
       "            <th>Null</th>\n",
       "            <th>Key</th>\n",
       "            <th>Default</th>\n",
       "            <th>Extra</th>\n",
       "        </tr>\n",
       "    </thead>\n",
       "    <tbody>\n",
       "        <tr>\n",
       "            <td>prodID</td>\n",
       "            <td>int</td>\n",
       "            <td>NO</td>\n",
       "            <td>PRI</td>\n",
       "            <td>None</td>\n",
       "            <td></td>\n",
       "        </tr>\n",
       "        <tr>\n",
       "            <td>supID</td>\n",
       "            <td>int</td>\n",
       "            <td>NO</td>\n",
       "            <td>PRI</td>\n",
       "            <td>None</td>\n",
       "            <td></td>\n",
       "        </tr>\n",
       "    </tbody>\n",
       "</table>"
      ],
      "text/plain": [
       "[('prodID', 'int', 'NO', 'PRI', None, ''),\n",
       " ('supID', 'int', 'NO', 'PRI', None, '')]"
      ]
     },
     "execution_count": 41,
     "metadata": {},
     "output_type": "execute_result"
    }
   ],
   "source": [
    "%%sql \n",
    "\n",
    "# inspect the table schema\n",
    "DESCRIBE supplier_to_product;"
   ]
  },
  {
   "cell_type": "markdown",
   "id": "f814bec8",
   "metadata": {},
   "source": [
    "## 04 Inserting Updating and Deleting records"
   ]
  },
  {
   "cell_type": "markdown",
   "id": "fe24a550",
   "metadata": {},
   "source": [
    "The tables are currently empty. \n",
    "We can inspect their content by performing a simple \"read\" query using `SELECT`.\n",
    "We will discuss later the full syntax of the `SELECT` statement... for the time being, it's important to realize that this command will show the entire content of all columns of the table we are inspecting.\n",
    "\n",
    "```mysql\n",
    "SELECT * FROM <TABLE>;\n",
    "```\n",
    "\n",
    "To insert a single record into a table we can proceed in either of the two following ways:\n",
    "\n",
    "1. By explicitly specifying the names of the columns when passing the tuple containing the values\n",
    "```mysql\n",
    "INSERT INTO <TABLE> (<COLUMN1>, <COLUMN2>, <COLUMN3>, ...)\n",
    "VALUES (<VALUE1>, <VALUE2>, <VALUE3>, ...);\n",
    "```\n",
    "This will work also in the case attributes with a default value will not be explicitly passed\n",
    "\n",
    "\n",
    "2. By implicitly using all the columns when passing the tuple containing the values\n",
    "```mysql\n",
    "INSERT INTO <TABLE> \n",
    "VALUES (<VALUE1>, <VALUE2>, ..., <VALUEn>);\n",
    "```\n",
    "\n",
    "**NB**: 1. is the usually recommended way to perform a data insertion in SQL, as (pretty much always in coding) **explicit is better than implicit**"
   ]
  },
  {
   "cell_type": "markdown",
   "id": "1df79446",
   "metadata": {},
   "source": [
    "Using the `mysql.connector` we can formulate the same data insertion in a more Pythonic way, e.g. to include this statement programmatically into a loop or a function call:\n",
    "    \n",
    "```python\n",
    "sql_ = \"INSERT INTO <TABLE> (<COLUMN1>, <COLUMN2>, <COLUMN3>, ...) VALUES (%s, %s, %s, ...)\"\n",
    "val_ = (<VALUE1>, <VALUE2>, <VALUE3>, ...)\n",
    "db_cursor.execute(sql_, val_)\n",
    "db.commit()\n",
    "```\n",
    "\n",
    "Being an active change to the database instance, remember to commit the insert."
   ]
  },
  {
   "cell_type": "markdown",
   "id": "1729007b",
   "metadata": {},
   "source": [
    "#### Perform a simple data insertion\n",
    "\n",
    "- Verify that the product table is actually empty.\n",
    "- Insert the following list of products into the `products` table.\n",
    "- Check the content of the table after the transaction to verify that both the `AUTO_INCREMENT` key and the default values have been taken into account.\n",
    "\n",
    "| productName | unitPrice | unitsInStock | isDiscontinued | \n",
    "| --- | --- | --- |--- |\n",
    "| \"Founders Porter\" | 4.9 | 12 | 0 |\n"
   ]
  },
  {
   "cell_type": "code",
   "execution_count": 42,
   "id": "77043333",
   "metadata": {},
   "outputs": [
    {
     "name": "stdout",
     "output_type": "stream",
     "text": [
      " * mysql+mysqlconnector://root:***@db\n",
      "0 rows affected.\n"
     ]
    },
    {
     "data": {
      "text/html": [
       "<table>\n",
       "    <thead>\n",
       "        <tr>\n",
       "            <th>productID</th>\n",
       "            <th>productName</th>\n",
       "            <th>unitPrice</th>\n",
       "            <th>unitsInStock</th>\n",
       "            <th>isDiscontinued</th>\n",
       "        </tr>\n",
       "    </thead>\n",
       "    <tbody>\n",
       "    </tbody>\n",
       "</table>"
      ],
      "text/plain": [
       "[]"
      ]
     },
     "execution_count": 42,
     "metadata": {},
     "output_type": "execute_result"
    }
   ],
   "source": [
    "%%sql \n",
    "\n",
    "# retrieve the content of the table\n",
    "SELECT * FROM products;"
   ]
  },
  {
   "cell_type": "code",
   "execution_count": 43,
   "id": "60d0e8b6",
   "metadata": {},
   "outputs": [
    {
     "name": "stdout",
     "output_type": "stream",
     "text": [
      " * mysql+mysqlconnector://root:***@db\n",
      "1 rows affected.\n"
     ]
    },
    {
     "data": {
      "text/plain": [
       "[]"
      ]
     },
     "execution_count": 43,
     "metadata": {},
     "output_type": "execute_result"
    }
   ],
   "source": [
    "%%sql\n",
    "\n",
    "# insert records into the table\n",
    "INSERT INTO products (productName, unitPrice, unitsInStock)\n",
    "VALUES ('Founders Porter',4.9 ,12);"
   ]
  },
  {
   "cell_type": "code",
   "execution_count": 44,
   "id": "9213b1fd",
   "metadata": {},
   "outputs": [
    {
     "name": "stdout",
     "output_type": "stream",
     "text": [
      " * mysql+mysqlconnector://root:***@db\n",
      "1 rows affected.\n"
     ]
    },
    {
     "data": {
      "text/html": [
       "<table>\n",
       "    <thead>\n",
       "        <tr>\n",
       "            <th>productID</th>\n",
       "            <th>productName</th>\n",
       "            <th>unitPrice</th>\n",
       "            <th>unitsInStock</th>\n",
       "            <th>isDiscontinued</th>\n",
       "        </tr>\n",
       "    </thead>\n",
       "    <tbody>\n",
       "        <tr>\n",
       "            <td>1</td>\n",
       "            <td>Founders Porter</td>\n",
       "            <td>4.9</td>\n",
       "            <td>12</td>\n",
       "            <td>0</td>\n",
       "        </tr>\n",
       "    </tbody>\n",
       "</table>"
      ],
      "text/plain": [
       "[(1, 'Founders Porter', 4.9, 12, 0)]"
      ]
     },
     "execution_count": 44,
     "metadata": {},
     "output_type": "execute_result"
    }
   ],
   "source": [
    "%%sql \n",
    "\n",
    "# retrieve the content of the table\n",
    "SELECT * FROM products;"
   ]
  },
  {
   "cell_type": "markdown",
   "id": "df5f4ee3",
   "metadata": {},
   "source": [
    "Multi-values insert can be performed in a similar way by separating multiple tuples with a comma:\n",
    "\n",
    "```mysql\n",
    "INSERT INTO <TABLE> (<COLUMN1>, <COLUMN2>, <COLUMN3>, ...)\n",
    "VALUES \n",
    "(<VALUE11>, <VALUE12>, <VALUE13>, ...), \n",
    "(<VALUE21>, <VALUE22>, <VALUE23>, ...), \n",
    "(<VALUE31>, <VALUE32>, <VALUE33>, ...);\n",
    "```\n",
    "\n",
    "\n",
    "The Python-based command is similar to the previous one, but it drops the `execute` in favor of `executemany`, using a list of tuples as values:\n",
    "\n",
    "```python\n",
    "sql_ = \"INSERT INTO <TABLE> (<COLUMN1>, <COLUMN2>, <COLUMN3>, ...) VALUES (%s, %s, %s, ...)\"\n",
    "val_ = [\n",
    "    (<VALUE11>, <VALUE12>, <VALUE13>, ...),\n",
    "    (<VALUE21>, <VALUE22>, <VALUE23>, ...),\n",
    "    (<VALUE31>, <VALUE32>, <VALUE33>, ...) ]\n",
    "db_cursor.executemany(sql_, val_)\n",
    "db.commit()\n",
    "```"
   ]
  },
  {
   "cell_type": "markdown",
   "id": "f463c2ef",
   "metadata": {},
   "source": [
    "Add a few more products to the `product` table:\n",
    "    \n",
    "| productName | unitPrice | unitsInStock | isDiscontinued | \n",
    "| --- | --- | --- |--- |\n",
    "| \"Punk IPA\" | 5.2 | 45 |  |\n",
    "| \"HB Dunkel\" | 4.5 | 250 |  |\n",
    "| \"Forst Xmas \" | 8.0 | 2 |  |\n",
    "| \"Damm Complot \" | 3.7 | 120 |  |\n",
    "     "
   ]
  },
  {
   "cell_type": "code",
   "execution_count": 45,
   "id": "0433c281",
   "metadata": {},
   "outputs": [
    {
     "data": {
      "text/plain": [
       "[(1, 'Founders Porter', 4.9, 12, 0),\n",
       " (2, 'Punk IPA', 5.2, 45, 0),\n",
       " (3, 'HB Dunkel', 4.5, 250, 0),\n",
       " (4, 'Forst Xmas', 8.0, 2, 0),\n",
       " (5, 'Damm Complot', 3.7, 120, 0)]"
      ]
     },
     "execution_count": 45,
     "metadata": {},
     "output_type": "execute_result"
    }
   ],
   "source": [
    "# insert records into the table\n",
    "sql_ = \"INSERT INTO products (productName, unitPrice, unitsInStock) VALUES (%s, %s, %s)\"\n",
    "val_ = [\n",
    "    ('Punk IPA',     5.2,  45),\n",
    "    ('HB Dunkel',    4.5, 250),\n",
    "    ('Forst Xmas',   8.0,   2),\n",
    "    ('Damm Complot', 3.7, 120)]\n",
    "dbc.executemany(sql_, val_)\n",
    "db.commit()\n",
    "     \n",
    "dbc.execute(\"SELECT * FROM products\"); \n",
    "dbc.fetchall()"
   ]
  },
  {
   "cell_type": "markdown",
   "id": "48a71bab",
   "metadata": {},
   "source": [
    "Updating entries is a delicate issue in databases, as we can potentially modify all records associated with a number of conditions. This makes the update operation quite powerful and possibly error-prone if not performed with extreme caution.\n",
    "\n",
    "```mysql\n",
    "UPDATE <TABLE>\n",
    "SET <ATTRIBUTE> = <NEW VALUE>\n",
    "WHERE <CONDITION>;\n",
    "```\n",
    "\n",
    "or\n",
    "\n",
    "```python\n",
    "sql_ = \"UPDATE <TABLE> SET <ATTRIBUTE> = <NEW VALUE> WHERE <CONDITION>\"\n",
    "db_cursor.execute(sql)\n",
    "db.commit()\n",
    "\n",
    "```\n",
    "\n",
    "#### Let's update a single record with a \"very explicit\" condition statement:\n",
    "\n",
    "- Assign `isDiscontinued` equal to `1` to the \"Forst Xmas\" product.\n",
    "- Check if the update has taken place."
   ]
  },
  {
   "cell_type": "code",
   "execution_count": 46,
   "id": "b7314cfc",
   "metadata": {},
   "outputs": [
    {
     "name": "stdout",
     "output_type": "stream",
     "text": [
      " * mysql+mysqlconnector://root:***@db\n",
      "1 rows affected.\n"
     ]
    },
    {
     "data": {
      "text/plain": [
       "[]"
      ]
     },
     "execution_count": 46,
     "metadata": {},
     "output_type": "execute_result"
    }
   ],
   "source": [
    "%%sql\n",
    "\n",
    "# update the content of the table\n",
    "UPDATE products \n",
    "SET isDiscontinued = 1\n",
    "WHERE productName = \"Forst Xmas\";"
   ]
  },
  {
   "cell_type": "markdown",
   "id": "211e9d47",
   "metadata": {},
   "source": [
    "Similarly, deleting entries is quite risky if not done with plenty of caution, as a wrong `WHERE` condition might inadvertently lead to the deletion of a large part of your database records. \n",
    "\n",
    "Remember, with `DELETE`, we remove entire records (i.e., tuples) from the database, not just the content of the `WHERE` conditional statement. \n",
    "\n",
    "```mysql\n",
    "DELETE FROM <TABLE>\n",
    "WHERE <CONDITION>;\n",
    "```\n",
    "\n",
    "or\n",
    "\n",
    "```python\n",
    "sql_ = \"DELETE FROM <TABLE> WHERE <CONDITION>\"\n",
    "db_cursor.execute(sql)\n",
    "db.commit()\n",
    "\n",
    "```\n",
    "\n",
    "#### Delete all records under a set of conditions:\n",
    "\n",
    "- Delete all products whose name begins with 'F' and ends with 's'.\n",
    "- Check if the deletion has taken place."
   ]
  },
  {
   "cell_type": "code",
   "execution_count": 47,
   "id": "7d9d6b73",
   "metadata": {},
   "outputs": [
    {
     "name": "stdout",
     "output_type": "stream",
     "text": [
      " * mysql+mysqlconnector://root:***@db\n",
      "1 rows affected.\n"
     ]
    },
    {
     "data": {
      "text/plain": [
       "[]"
      ]
     },
     "execution_count": 47,
     "metadata": {},
     "output_type": "execute_result"
    }
   ],
   "source": [
    "%%sql\n",
    "\n",
    "# delete records from the table\n",
    "DELETE FROM products \n",
    "WHERE productName LIKE \"F%s\";"
   ]
  },
  {
   "cell_type": "code",
   "execution_count": 48,
   "id": "d3073944",
   "metadata": {},
   "outputs": [
    {
     "name": "stdout",
     "output_type": "stream",
     "text": [
      " * mysql+mysqlconnector://root:***@db\n",
      "4 rows affected.\n"
     ]
    },
    {
     "data": {
      "text/html": [
       "<table>\n",
       "    <thead>\n",
       "        <tr>\n",
       "            <th>productID</th>\n",
       "            <th>productName</th>\n",
       "            <th>unitPrice</th>\n",
       "            <th>unitsInStock</th>\n",
       "            <th>isDiscontinued</th>\n",
       "        </tr>\n",
       "    </thead>\n",
       "    <tbody>\n",
       "        <tr>\n",
       "            <td>1</td>\n",
       "            <td>Founders Porter</td>\n",
       "            <td>4.9</td>\n",
       "            <td>12</td>\n",
       "            <td>0</td>\n",
       "        </tr>\n",
       "        <tr>\n",
       "            <td>2</td>\n",
       "            <td>Punk IPA</td>\n",
       "            <td>5.2</td>\n",
       "            <td>45</td>\n",
       "            <td>0</td>\n",
       "        </tr>\n",
       "        <tr>\n",
       "            <td>3</td>\n",
       "            <td>HB Dunkel</td>\n",
       "            <td>4.5</td>\n",
       "            <td>250</td>\n",
       "            <td>0</td>\n",
       "        </tr>\n",
       "        <tr>\n",
       "            <td>5</td>\n",
       "            <td>Damm Complot</td>\n",
       "            <td>3.7</td>\n",
       "            <td>120</td>\n",
       "            <td>0</td>\n",
       "        </tr>\n",
       "    </tbody>\n",
       "</table>"
      ],
      "text/plain": [
       "[(1, 'Founders Porter', 4.9, 12, 0),\n",
       " (2, 'Punk IPA', 5.2, 45, 0),\n",
       " (3, 'HB Dunkel', 4.5, 250, 0),\n",
       " (5, 'Damm Complot', 3.7, 120, 0)]"
      ]
     },
     "execution_count": 48,
     "metadata": {},
     "output_type": "execute_result"
    }
   ],
   "source": [
    "%%sql\n",
    "\n",
    "# retrieve the content of the table\n",
    "SELECT * FROM products;"
   ]
  },
  {
   "cell_type": "markdown",
   "id": "b1d2c12b",
   "metadata": {},
   "source": [
    "#### Populate the `suppliers` table according to the following list\n",
    "\n",
    "| supplierName | countryCode | email|\n",
    "| --- | --- | ---|\n",
    "| \"A hop in the park\" | \"USA\" | \"contactme@ahop.com\" |\n",
    "| \"Allez Hops! Cave à bièr\" | \"FRA\" | \"itsme@allezhops.com\" |\n",
    "| \"Wild Hops \" | \"ITA\" | \"myemail@wildhops.it\" |\n",
    "|\"Beer Paradise\"|\"ITA\"|\"beer@beerparadise.it\"|\n"
   ]
  },
  {
   "cell_type": "code",
   "execution_count": 49,
   "id": "ceeb23b1",
   "metadata": {},
   "outputs": [
    {
     "name": "stdout",
     "output_type": "stream",
     "text": [
      " * mysql+mysqlconnector://root:***@db\n",
      "4 rows affected.\n"
     ]
    },
    {
     "data": {
      "text/plain": [
       "[]"
      ]
     },
     "execution_count": 49,
     "metadata": {},
     "output_type": "execute_result"
    }
   ],
   "source": [
    "%%sql\n",
    "\n",
    "# insert records into the table\n",
    "INSERT INTO suppliers (supplierName, countryCode, email) VALUES\n",
    "(\"A hop in the park\",\"USA\",\"contactme@ahop.com\"),\n",
    "(\"Allez Hops! Cave à bièr\",\"FRA\",\"itsme@allezhops.com\"),\n",
    "(\"Wild Hops\",\"ITA\",\"myemail@wildhops.it\"),\n",
    "(\"Beer Paradise\",\"ITA\",\"beer@beerparadise.it\");"
   ]
  },
  {
   "cell_type": "code",
   "execution_count": 50,
   "id": "7ba0fb13",
   "metadata": {},
   "outputs": [
    {
     "name": "stdout",
     "output_type": "stream",
     "text": [
      " * mysql+mysqlconnector://root:***@db\n",
      "4 rows affected.\n"
     ]
    },
    {
     "data": {
      "text/html": [
       "<table>\n",
       "    <thead>\n",
       "        <tr>\n",
       "            <th>supplierID</th>\n",
       "            <th>supplierName</th>\n",
       "            <th>countryCode</th>\n",
       "            <th>email</th>\n",
       "        </tr>\n",
       "    </thead>\n",
       "    <tbody>\n",
       "        <tr>\n",
       "            <td>1</td>\n",
       "            <td>A hop in the park</td>\n",
       "            <td>USA</td>\n",
       "            <td>contactme@ahop.com</td>\n",
       "        </tr>\n",
       "        <tr>\n",
       "            <td>2</td>\n",
       "            <td>Allez Hops! Cave à bièr</td>\n",
       "            <td>FRA</td>\n",
       "            <td>itsme@allezhops.com</td>\n",
       "        </tr>\n",
       "        <tr>\n",
       "            <td>3</td>\n",
       "            <td>Wild Hops</td>\n",
       "            <td>ITA</td>\n",
       "            <td>myemail@wildhops.it</td>\n",
       "        </tr>\n",
       "        <tr>\n",
       "            <td>4</td>\n",
       "            <td>Beer Paradise</td>\n",
       "            <td>ITA</td>\n",
       "            <td>beer@beerparadise.it</td>\n",
       "        </tr>\n",
       "    </tbody>\n",
       "</table>"
      ],
      "text/plain": [
       "[(1, 'A hop in the park', 'USA', 'contactme@ahop.com'),\n",
       " (2, 'Allez Hops! Cave à bièr', 'FRA', 'itsme@allezhops.com'),\n",
       " (3, 'Wild Hops', 'ITA', 'myemail@wildhops.it'),\n",
       " (4, 'Beer Paradise', 'ITA', 'beer@beerparadise.it')]"
      ]
     },
     "execution_count": 50,
     "metadata": {},
     "output_type": "execute_result"
    }
   ],
   "source": [
    "%%sql\n",
    "\n",
    "# retrieve the content of the table\n",
    "SELECT * FROM suppliers;"
   ]
  },
  {
   "cell_type": "markdown",
   "id": "1ae2a140",
   "metadata": {},
   "source": [
    "Complete the database with the two additional steps:\n",
    "\n",
    "- Update the \"A hop in the park\" email address to \"anewemail@ahop.com\"\n",
    "- Populate the table of connections between products and suppliers\n",
    "    - Remember that the `supplier_to_product` table is linked to the other two via the respective Foreign Keys \n",
    "\n",
    "| supplier | products provided |\n",
    "| --- | --- | \n",
    "| \"A hop in the park\" | \"Punk IPA\", \"HB Dunkel\" |"
   ]
  },
  {
   "cell_type": "code",
   "execution_count": 51,
   "id": "3bb5a042",
   "metadata": {},
   "outputs": [
    {
     "name": "stdout",
     "output_type": "stream",
     "text": [
      "(1, 'A hop in the park', 'USA', 'anewemail@ahop.com')\n",
      "(2, 'Allez Hops! Cave à bièr', 'FRA', 'itsme@allezhops.com')\n",
      "(3, 'Wild Hops', 'ITA', 'myemail@wildhops.it')\n",
      "(4, 'Beer Paradise', 'ITA', 'beer@beerparadise.it')\n"
     ]
    }
   ],
   "source": [
    "sql_ = \"UPDATE suppliers SET email = %s WHERE supplierName LIKE %s;\"\n",
    "val_ = ('anewemail@ahop.com', 'A hop%')\n",
    "dbc.execute(sql_, val_)\n",
    "db.commit()\n",
    "     \n",
    "dbc.execute(\"SELECT * FROM suppliers\"); \n",
    "for _ in dbc:\n",
    "     print(_)"
   ]
  },
  {
   "cell_type": "code",
   "execution_count": 52,
   "id": "d97b44b9",
   "metadata": {},
   "outputs": [
    {
     "name": "stdout",
     "output_type": "stream",
     "text": [
      " * mysql+mysqlconnector://root:***@db\n",
      "4 rows affected.\n"
     ]
    },
    {
     "data": {
      "text/html": [
       "<table>\n",
       "    <thead>\n",
       "        <tr>\n",
       "            <th>productID</th>\n",
       "            <th>productName</th>\n",
       "            <th>unitPrice</th>\n",
       "            <th>unitsInStock</th>\n",
       "            <th>isDiscontinued</th>\n",
       "        </tr>\n",
       "    </thead>\n",
       "    <tbody>\n",
       "        <tr>\n",
       "            <td>1</td>\n",
       "            <td>Founders Porter</td>\n",
       "            <td>4.9</td>\n",
       "            <td>12</td>\n",
       "            <td>0</td>\n",
       "        </tr>\n",
       "        <tr>\n",
       "            <td>2</td>\n",
       "            <td>Punk IPA</td>\n",
       "            <td>5.2</td>\n",
       "            <td>45</td>\n",
       "            <td>0</td>\n",
       "        </tr>\n",
       "        <tr>\n",
       "            <td>3</td>\n",
       "            <td>HB Dunkel</td>\n",
       "            <td>4.5</td>\n",
       "            <td>250</td>\n",
       "            <td>0</td>\n",
       "        </tr>\n",
       "        <tr>\n",
       "            <td>5</td>\n",
       "            <td>Damm Complot</td>\n",
       "            <td>3.7</td>\n",
       "            <td>120</td>\n",
       "            <td>0</td>\n",
       "        </tr>\n",
       "    </tbody>\n",
       "</table>"
      ],
      "text/plain": [
       "[(1, 'Founders Porter', 4.9, 12, 0),\n",
       " (2, 'Punk IPA', 5.2, 45, 0),\n",
       " (3, 'HB Dunkel', 4.5, 250, 0),\n",
       " (5, 'Damm Complot', 3.7, 120, 0)]"
      ]
     },
     "execution_count": 52,
     "metadata": {},
     "output_type": "execute_result"
    }
   ],
   "source": [
    "%%sql \n",
    "\n",
    "SELECT * FROM products;"
   ]
  },
  {
   "cell_type": "code",
   "execution_count": 53,
   "id": "9cc19220",
   "metadata": {},
   "outputs": [
    {
     "name": "stdout",
     "output_type": "stream",
     "text": [
      " * mysql+mysqlconnector://root:***@db\n",
      "4 rows affected.\n"
     ]
    },
    {
     "data": {
      "text/html": [
       "<table>\n",
       "    <thead>\n",
       "        <tr>\n",
       "            <th>supplierID</th>\n",
       "            <th>supplierName</th>\n",
       "            <th>countryCode</th>\n",
       "            <th>email</th>\n",
       "        </tr>\n",
       "    </thead>\n",
       "    <tbody>\n",
       "        <tr>\n",
       "            <td>1</td>\n",
       "            <td>A hop in the park</td>\n",
       "            <td>USA</td>\n",
       "            <td>anewemail@ahop.com</td>\n",
       "        </tr>\n",
       "        <tr>\n",
       "            <td>2</td>\n",
       "            <td>Allez Hops! Cave à bièr</td>\n",
       "            <td>FRA</td>\n",
       "            <td>itsme@allezhops.com</td>\n",
       "        </tr>\n",
       "        <tr>\n",
       "            <td>3</td>\n",
       "            <td>Wild Hops</td>\n",
       "            <td>ITA</td>\n",
       "            <td>myemail@wildhops.it</td>\n",
       "        </tr>\n",
       "        <tr>\n",
       "            <td>4</td>\n",
       "            <td>Beer Paradise</td>\n",
       "            <td>ITA</td>\n",
       "            <td>beer@beerparadise.it</td>\n",
       "        </tr>\n",
       "    </tbody>\n",
       "</table>"
      ],
      "text/plain": [
       "[(1, 'A hop in the park', 'USA', 'anewemail@ahop.com'),\n",
       " (2, 'Allez Hops! Cave à bièr', 'FRA', 'itsme@allezhops.com'),\n",
       " (3, 'Wild Hops', 'ITA', 'myemail@wildhops.it'),\n",
       " (4, 'Beer Paradise', 'ITA', 'beer@beerparadise.it')]"
      ]
     },
     "execution_count": 53,
     "metadata": {},
     "output_type": "execute_result"
    }
   ],
   "source": [
    "%%sql \n",
    "\n",
    "SELECT * FROM suppliers;"
   ]
  },
  {
   "cell_type": "code",
   "execution_count": 54,
   "id": "ed7fd828",
   "metadata": {},
   "outputs": [
    {
     "name": "stdout",
     "output_type": "stream",
     "text": [
      " * mysql+mysqlconnector://root:***@db\n",
      "0 rows affected.\n"
     ]
    },
    {
     "data": {
      "text/html": [
       "<table>\n",
       "    <thead>\n",
       "        <tr>\n",
       "            <th>prodID</th>\n",
       "            <th>supID</th>\n",
       "        </tr>\n",
       "    </thead>\n",
       "    <tbody>\n",
       "    </tbody>\n",
       "</table>"
      ],
      "text/plain": [
       "[]"
      ]
     },
     "execution_count": 54,
     "metadata": {},
     "output_type": "execute_result"
    }
   ],
   "source": [
    "%%sql \n",
    "\n",
    "SELECT * FROM supplier_to_product;"
   ]
  },
  {
   "cell_type": "code",
   "execution_count": 55,
   "id": "2edd4989",
   "metadata": {},
   "outputs": [
    {
     "name": "stdout",
     "output_type": "stream",
     "text": [
      " * mysql+mysqlconnector://root:***@db\n",
      "2 rows affected.\n"
     ]
    },
    {
     "data": {
      "text/plain": [
       "[]"
      ]
     },
     "execution_count": 55,
     "metadata": {},
     "output_type": "execute_result"
    }
   ],
   "source": [
    "%%sql\n",
    "\n",
    "INSERT INTO supplier_to_product\n",
    "VALUES \n",
    "(2,1),\n",
    "(3,1);"
   ]
  },
  {
   "cell_type": "code",
   "execution_count": 56,
   "id": "5f054ddf",
   "metadata": {
    "scrolled": true
   },
   "outputs": [
    {
     "name": "stdout",
     "output_type": "stream",
     "text": [
      " * mysql+mysqlconnector://root:***@db\n",
      "2 rows affected.\n"
     ]
    },
    {
     "data": {
      "text/html": [
       "<table>\n",
       "    <thead>\n",
       "        <tr>\n",
       "            <th>prodID</th>\n",
       "            <th>supID</th>\n",
       "        </tr>\n",
       "    </thead>\n",
       "    <tbody>\n",
       "        <tr>\n",
       "            <td>2</td>\n",
       "            <td>1</td>\n",
       "        </tr>\n",
       "        <tr>\n",
       "            <td>3</td>\n",
       "            <td>1</td>\n",
       "        </tr>\n",
       "    </tbody>\n",
       "</table>"
      ],
      "text/plain": [
       "[(2, 1), (3, 1)]"
      ]
     },
     "execution_count": 56,
     "metadata": {},
     "output_type": "execute_result"
    }
   ],
   "source": [
    "%%sql \n",
    "\n",
    "SELECT * FROM supplier_to_product;"
   ]
  },
  {
   "cell_type": "markdown",
   "id": "6efb0512",
   "metadata": {},
   "source": [
    "Export the DB you have created into a .sql file, and store it for later use.\n",
    "\n",
    "1. Connect to the \"server\" Docker container using bash\n",
    "2. Dump the database using the `mysqldump` command \n",
    "```bash\n",
    "$ mysqldump -u <USER> -p <DB NAME>  >  <FULL/PATH/TO/NEW/DB_DUMP.sql>\n",
    "```\n",
    "3. use the folder `/mapd-workspace/dbs` to store the file, as it's the one currently visible from both in- and outside the container"
   ]
  },
  {
   "cell_type": "markdown",
   "id": "b6e3c94e",
   "metadata": {},
   "source": [
    "## 04 Basic queries "
   ]
  },
  {
   "cell_type": "markdown",
   "id": "7f903ed5",
   "metadata": {},
   "source": [
    "The `SELECT` statement allows us to perform queries and retrieve data from a DB.\n",
    "\n",
    "We can perform queries on a single table in the DB, as well as perform complex queries that span multiple interconnected tables, with one-to-one, one-to-many, and many-to-many relationships across records.\n",
    "\n",
    "Any `SELECT` statement is composed of at least:\n",
    "\n",
    "```sql\n",
    "SELECT <TABLE1.ATTRIBUTE1>, <TABLE2.ATTRIBUTE2>   --# the list of attributes to show\n",
    "                                                  --# the * wildcard symbol means ALL attributes\n",
    "    \n",
    "FROM <TABLE1>, <TABLE2>                           --# the table, or list of tables \n",
    "                                                  --# from which to extract the attributes\n",
    "\n",
    "WHERE <CONDITIONS>                                --# (optional) condition statement\n",
    "```\n",
    "\n",
    "The same structure applies to Python-based connectors:\n",
    "\n",
    "```python\n",
    "db_cursor.execute(\"\"\"\n",
    "    SELECT <TABLE1.ATTRIBUTE1>, <TABLE2.ATTRIBUTE2>\n",
    "    FROM <TABLE1>, <TABLE2>\n",
    "    WHERE <CONDITIONS>\n",
    "\"\"\")\n",
    "res_ = db_cursor.fetchall()\n",
    "for _ in res_:\n",
    "    print(_)\n",
    "```\n",
    "\n",
    "As an alternative, `db_cursor.fetchone()` can be used to print out only one of possibly many records."
   ]
  },
  {
   "cell_type": "markdown",
   "id": "2a3bae29",
   "metadata": {},
   "source": [
    "#### Get the email of all suppliers from Italy"
   ]
  },
  {
   "cell_type": "code",
   "execution_count": 57,
   "id": "1a67d7cb",
   "metadata": {},
   "outputs": [
    {
     "name": "stdout",
     "output_type": "stream",
     "text": [
      " * mysql+mysqlconnector://root:***@db\n",
      "2 rows affected.\n"
     ]
    },
    {
     "data": {
      "text/html": [
       "<table>\n",
       "    <thead>\n",
       "        <tr>\n",
       "            <th>email</th>\n",
       "        </tr>\n",
       "    </thead>\n",
       "    <tbody>\n",
       "        <tr>\n",
       "            <td>myemail@wildhops.it</td>\n",
       "        </tr>\n",
       "        <tr>\n",
       "            <td>beer@beerparadise.it</td>\n",
       "        </tr>\n",
       "    </tbody>\n",
       "</table>"
      ],
      "text/plain": [
       "[('myemail@wildhops.it',), ('beer@beerparadise.it',)]"
      ]
     },
     "execution_count": 57,
     "metadata": {},
     "output_type": "execute_result"
    }
   ],
   "source": [
    "%%sql\n",
    "\n",
    "SELECT email\n",
    "FROM suppliers\n",
    "WHERE countryCode=\"ITA\";"
   ]
  },
  {
   "cell_type": "markdown",
   "id": "204da1bf",
   "metadata": {},
   "source": [
    "#### Get all information for products with unit price greater than 4"
   ]
  },
  {
   "cell_type": "code",
   "execution_count": 58,
   "id": "55a8d28f",
   "metadata": {},
   "outputs": [
    {
     "name": "stdout",
     "output_type": "stream",
     "text": [
      " * mysql+mysqlconnector://root:***@db\n",
      "3 rows affected.\n"
     ]
    },
    {
     "data": {
      "text/html": [
       "<table>\n",
       "    <thead>\n",
       "        <tr>\n",
       "            <th>productID</th>\n",
       "            <th>productName</th>\n",
       "            <th>unitPrice</th>\n",
       "            <th>unitsInStock</th>\n",
       "            <th>isDiscontinued</th>\n",
       "        </tr>\n",
       "    </thead>\n",
       "    <tbody>\n",
       "        <tr>\n",
       "            <td>1</td>\n",
       "            <td>Founders Porter</td>\n",
       "            <td>4.9</td>\n",
       "            <td>12</td>\n",
       "            <td>0</td>\n",
       "        </tr>\n",
       "        <tr>\n",
       "            <td>2</td>\n",
       "            <td>Punk IPA</td>\n",
       "            <td>5.2</td>\n",
       "            <td>45</td>\n",
       "            <td>0</td>\n",
       "        </tr>\n",
       "        <tr>\n",
       "            <td>3</td>\n",
       "            <td>HB Dunkel</td>\n",
       "            <td>4.5</td>\n",
       "            <td>250</td>\n",
       "            <td>0</td>\n",
       "        </tr>\n",
       "    </tbody>\n",
       "</table>"
      ],
      "text/plain": [
       "[(1, 'Founders Porter', 4.9, 12, 0),\n",
       " (2, 'Punk IPA', 5.2, 45, 0),\n",
       " (3, 'HB Dunkel', 4.5, 250, 0)]"
      ]
     },
     "execution_count": 58,
     "metadata": {},
     "output_type": "execute_result"
    }
   ],
   "source": [
    "%%sql\n",
    "\n",
    "SELECT *\n",
    "FROM products\n",
    "WHERE unitPrice>4;"
   ]
  },
  {
   "cell_type": "markdown",
   "id": "3c3c7ce0",
   "metadata": {},
   "source": [
    "#### Select all products with unit cost less than 5, and list them in descending order of units in stock"
   ]
  },
  {
   "cell_type": "code",
   "execution_count": 80,
   "id": "75e4826c",
   "metadata": {},
   "outputs": [
    {
     "name": "stdout",
     "output_type": "stream",
     "text": [
      " * mysql+mysqlconnector://root:***@db\n",
      "3 rows affected.\n"
     ]
    },
    {
     "data": {
      "text/html": [
       "<table>\n",
       "    <thead>\n",
       "        <tr>\n",
       "            <th>productID</th>\n",
       "            <th>productName</th>\n",
       "            <th>unitPrice</th>\n",
       "            <th>unitsInStock</th>\n",
       "            <th>isDiscontinued</th>\n",
       "        </tr>\n",
       "    </thead>\n",
       "    <tbody>\n",
       "        <tr>\n",
       "            <td>3</td>\n",
       "            <td>HB Dunkel</td>\n",
       "            <td>4.5</td>\n",
       "            <td>250</td>\n",
       "            <td>0</td>\n",
       "        </tr>\n",
       "        <tr>\n",
       "            <td>5</td>\n",
       "            <td>Damm Complot</td>\n",
       "            <td>3.7</td>\n",
       "            <td>120</td>\n",
       "            <td>0</td>\n",
       "        </tr>\n",
       "        <tr>\n",
       "            <td>1</td>\n",
       "            <td>Founders Porter</td>\n",
       "            <td>4.9</td>\n",
       "            <td>12</td>\n",
       "            <td>0</td>\n",
       "        </tr>\n",
       "    </tbody>\n",
       "</table>"
      ],
      "text/plain": [
       "[(3, 'HB Dunkel', 4.5, 250, 0),\n",
       " (5, 'Damm Complot', 3.7, 120, 0),\n",
       " (1, 'Founders Porter', 4.9, 12, 0)]"
      ]
     },
     "execution_count": 80,
     "metadata": {},
     "output_type": "execute_result"
    }
   ],
   "source": [
    "%%sql\n",
    "\n",
    "SELECT *\n",
    "FROM products P\n",
    "WHERE P.unitPrice<5\n",
    "ORDER BY P.unitsInStock DESC;"
   ]
  },
  {
   "cell_type": "markdown",
   "id": "3c3b89b1",
   "metadata": {},
   "source": [
    "**Group by** is a common statement that allows us to perform data aggregation.\n",
    "\n",
    "If you're familiar with `pandas`, this should not be new to you.\n",
    "\n",
    "Just remember:\n",
    "1. No group by statement is possible without an aggregation function.\n",
    "2. Group by operations can be quite computationally expensive. In the case of large databases, group by operations might require a long time to execute."
   ]
  },
  {
   "cell_type": "markdown",
   "id": "6ec4ca2b",
   "metadata": {},
   "source": [
    "#### Plot the distribution of suppliers by country"
   ]
  },
  {
   "cell_type": "code",
   "execution_count": 60,
   "id": "4daebdf0",
   "metadata": {},
   "outputs": [
    {
     "name": "stdout",
     "output_type": "stream",
     "text": [
      " * mysql+mysqlconnector://root:***@db\n",
      "4 rows affected.\n"
     ]
    },
    {
     "data": {
      "text/html": [
       "<table>\n",
       "    <thead>\n",
       "        <tr>\n",
       "            <th>Field</th>\n",
       "            <th>Type</th>\n",
       "            <th>Null</th>\n",
       "            <th>Key</th>\n",
       "            <th>Default</th>\n",
       "            <th>Extra</th>\n",
       "        </tr>\n",
       "    </thead>\n",
       "    <tbody>\n",
       "        <tr>\n",
       "            <td>supplierID</td>\n",
       "            <td>int</td>\n",
       "            <td>NO</td>\n",
       "            <td>PRI</td>\n",
       "            <td>None</td>\n",
       "            <td>auto_increment</td>\n",
       "        </tr>\n",
       "        <tr>\n",
       "            <td>supplierName</td>\n",
       "            <td>varchar(30)</td>\n",
       "            <td>NO</td>\n",
       "            <td></td>\n",
       "            <td></td>\n",
       "            <td></td>\n",
       "        </tr>\n",
       "        <tr>\n",
       "            <td>countryCode</td>\n",
       "            <td>char(3)</td>\n",
       "            <td>NO</td>\n",
       "            <td></td>\n",
       "            <td>---</td>\n",
       "            <td></td>\n",
       "        </tr>\n",
       "        <tr>\n",
       "            <td>email</td>\n",
       "            <td>varchar(30)</td>\n",
       "            <td>NO</td>\n",
       "            <td></td>\n",
       "            <td>None</td>\n",
       "            <td></td>\n",
       "        </tr>\n",
       "    </tbody>\n",
       "</table>"
      ],
      "text/plain": [
       "[('supplierID', 'int', 'NO', 'PRI', None, 'auto_increment'),\n",
       " ('supplierName', 'varchar(30)', 'NO', '', '', ''),\n",
       " ('countryCode', 'char(3)', 'NO', '', '---', ''),\n",
       " ('email', 'varchar(30)', 'NO', '', None, '')]"
      ]
     },
     "execution_count": 60,
     "metadata": {},
     "output_type": "execute_result"
    }
   ],
   "source": [
    "%%sql \n",
    "\n",
    "DESCRIBE suppliers;"
   ]
  },
  {
   "cell_type": "code",
   "execution_count": 61,
   "id": "33a6c991",
   "metadata": {},
   "outputs": [
    {
     "name": "stdout",
     "output_type": "stream",
     "text": [
      " * mysql+mysqlconnector://root:***@db\n",
      "3 rows affected.\n",
      "+-------+-------------+\n",
      "| count | countryCode |\n",
      "+-------+-------------+\n",
      "|   1   |     USA     |\n",
      "|   1   |     FRA     |\n",
      "|   2   |     ITA     |\n",
      "+-------+-------------+\n"
     ]
    },
    {
     "data": {
      "image/png": "[encoded data removed]",
      "text/plain": [
       "<Figure size 640x480 with 1 Axes>"
      ]
     },
     "metadata": {},
     "output_type": "display_data"
    }
   ],
   "source": [
    "res_ = %sql SELECT COUNT(countryCode) AS count, countryCode FROM suppliers GROUP BY countryCode;\n",
    "\n",
    "print (res_);\n",
    "\n",
    "res_.bar();"
   ]
  },
  {
   "cell_type": "markdown",
   "id": "6e432001",
   "metadata": {},
   "source": [
    "The main strength of Relational DBs is the possibility of matching information from different tables through **Join** operations.\n",
    "\n",
    "A join, either performed explicitly or implicitly is:\n",
    "\n",
    "1. Computationally expensive. In the case of large databases, join operations might require a long time to execute.\n",
    "2. Very easy to be done wrong, thus resulting in non-meaningful results.\n",
    "\n",
    "Be sure of which attributes (most often keys) you are performing a join operation on."
   ]
  },
  {
   "cell_type": "markdown",
   "id": "11a1d6a9",
   "metadata": {},
   "source": [
    "#### Join the `supplier_to_product` table with the `suppliers` table "
   ]
  },
  {
   "cell_type": "code",
   "execution_count": 62,
   "id": "4bc795d1",
   "metadata": {},
   "outputs": [
    {
     "name": "stdout",
     "output_type": "stream",
     "text": [
      " * mysql+mysqlconnector://root:***@db\n",
      "2 rows affected.\n"
     ]
    },
    {
     "data": {
      "text/html": [
       "<table>\n",
       "    <thead>\n",
       "        <tr>\n",
       "            <th>supplierID</th>\n",
       "            <th>supplierName</th>\n",
       "            <th>countryCode</th>\n",
       "            <th>email</th>\n",
       "            <th>prodID</th>\n",
       "            <th>supID</th>\n",
       "        </tr>\n",
       "    </thead>\n",
       "    <tbody>\n",
       "        <tr>\n",
       "            <td>1</td>\n",
       "            <td>A hop in the park</td>\n",
       "            <td>USA</td>\n",
       "            <td>anewemail@ahop.com</td>\n",
       "            <td>2</td>\n",
       "            <td>1</td>\n",
       "        </tr>\n",
       "        <tr>\n",
       "            <td>1</td>\n",
       "            <td>A hop in the park</td>\n",
       "            <td>USA</td>\n",
       "            <td>anewemail@ahop.com</td>\n",
       "            <td>3</td>\n",
       "            <td>1</td>\n",
       "        </tr>\n",
       "    </tbody>\n",
       "</table>"
      ],
      "text/plain": [
       "[(1, 'A hop in the park', 'USA', 'anewemail@ahop.com', 2, 1),\n",
       " (1, 'A hop in the park', 'USA', 'anewemail@ahop.com', 3, 1)]"
      ]
     },
     "execution_count": 62,
     "metadata": {},
     "output_type": "execute_result"
    }
   ],
   "source": [
    "%%sql\n",
    "\n",
    "SELECT * \n",
    "FROM suppliers, supplier_to_product\n",
    "WHERE supplier_to_product.supID = suppliers.supplierID;"
   ]
  },
  {
   "cell_type": "code",
   "execution_count": 63,
   "id": "0d7fa9ff",
   "metadata": {},
   "outputs": [
    {
     "name": "stdout",
     "output_type": "stream",
     "text": [
      " * mysql+mysqlconnector://root:***@db\n",
      "2 rows affected.\n"
     ]
    },
    {
     "data": {
      "text/html": [
       "<table>\n",
       "    <thead>\n",
       "        <tr>\n",
       "            <th>supplierID</th>\n",
       "            <th>supplierName</th>\n",
       "            <th>countryCode</th>\n",
       "            <th>email</th>\n",
       "            <th>prodID</th>\n",
       "            <th>supID</th>\n",
       "        </tr>\n",
       "    </thead>\n",
       "    <tbody>\n",
       "        <tr>\n",
       "            <td>1</td>\n",
       "            <td>A hop in the park</td>\n",
       "            <td>USA</td>\n",
       "            <td>anewemail@ahop.com</td>\n",
       "            <td>2</td>\n",
       "            <td>1</td>\n",
       "        </tr>\n",
       "        <tr>\n",
       "            <td>1</td>\n",
       "            <td>A hop in the park</td>\n",
       "            <td>USA</td>\n",
       "            <td>anewemail@ahop.com</td>\n",
       "            <td>3</td>\n",
       "            <td>1</td>\n",
       "        </tr>\n",
       "    </tbody>\n",
       "</table>"
      ],
      "text/plain": [
       "[(1, 'A hop in the park', 'USA', 'anewemail@ahop.com', 2, 1),\n",
       " (1, 'A hop in the park', 'USA', 'anewemail@ahop.com', 3, 1)]"
      ]
     },
     "execution_count": 63,
     "metadata": {},
     "output_type": "execute_result"
    }
   ],
   "source": [
    "%%sql\n",
    "\n",
    "SELECT * \n",
    "FROM suppliers\n",
    "INNER JOIN supplier_to_product ON supplier_to_product.supID = suppliers.supplierID;"
   ]
  },
  {
   "cell_type": "code",
   "execution_count": 64,
   "id": "5320ecc7",
   "metadata": {},
   "outputs": [
    {
     "name": "stdout",
     "output_type": "stream",
     "text": [
      " * mysql+mysqlconnector://root:***@db\n",
      "5 rows affected.\n"
     ]
    },
    {
     "data": {
      "text/html": [
       "<table>\n",
       "    <thead>\n",
       "        <tr>\n",
       "            <th>supplierID</th>\n",
       "            <th>supplierName</th>\n",
       "            <th>countryCode</th>\n",
       "            <th>email</th>\n",
       "            <th>prodID</th>\n",
       "            <th>supID</th>\n",
       "        </tr>\n",
       "    </thead>\n",
       "    <tbody>\n",
       "        <tr>\n",
       "            <td>1</td>\n",
       "            <td>A hop in the park</td>\n",
       "            <td>USA</td>\n",
       "            <td>anewemail@ahop.com</td>\n",
       "            <td>2</td>\n",
       "            <td>1</td>\n",
       "        </tr>\n",
       "        <tr>\n",
       "            <td>1</td>\n",
       "            <td>A hop in the park</td>\n",
       "            <td>USA</td>\n",
       "            <td>anewemail@ahop.com</td>\n",
       "            <td>3</td>\n",
       "            <td>1</td>\n",
       "        </tr>\n",
       "        <tr>\n",
       "            <td>2</td>\n",
       "            <td>Allez Hops! Cave à bièr</td>\n",
       "            <td>FRA</td>\n",
       "            <td>itsme@allezhops.com</td>\n",
       "            <td>None</td>\n",
       "            <td>None</td>\n",
       "        </tr>\n",
       "        <tr>\n",
       "            <td>3</td>\n",
       "            <td>Wild Hops</td>\n",
       "            <td>ITA</td>\n",
       "            <td>myemail@wildhops.it</td>\n",
       "            <td>None</td>\n",
       "            <td>None</td>\n",
       "        </tr>\n",
       "        <tr>\n",
       "            <td>4</td>\n",
       "            <td>Beer Paradise</td>\n",
       "            <td>ITA</td>\n",
       "            <td>beer@beerparadise.it</td>\n",
       "            <td>None</td>\n",
       "            <td>None</td>\n",
       "        </tr>\n",
       "    </tbody>\n",
       "</table>"
      ],
      "text/plain": [
       "[(1, 'A hop in the park', 'USA', 'anewemail@ahop.com', 2, 1),\n",
       " (1, 'A hop in the park', 'USA', 'anewemail@ahop.com', 3, 1),\n",
       " (2, 'Allez Hops! Cave à bièr', 'FRA', 'itsme@allezhops.com', None, None),\n",
       " (3, 'Wild Hops', 'ITA', 'myemail@wildhops.it', None, None),\n",
       " (4, 'Beer Paradise', 'ITA', 'beer@beerparadise.it', None, None)]"
      ]
     },
     "execution_count": 64,
     "metadata": {},
     "output_type": "execute_result"
    }
   ],
   "source": [
    "%%sql\n",
    "\n",
    "SELECT * \n",
    "FROM suppliers\n",
    "LEFT JOIN supplier_to_product ON supplier_to_product.supID = suppliers.supplierID;"
   ]
  },
  {
   "cell_type": "code",
   "execution_count": 65,
   "id": "69e06305",
   "metadata": {},
   "outputs": [
    {
     "name": "stdout",
     "output_type": "stream",
     "text": [
      " * mysql+mysqlconnector://root:***@db\n",
      "2 rows affected.\n"
     ]
    },
    {
     "data": {
      "text/html": [
       "<table>\n",
       "    <thead>\n",
       "        <tr>\n",
       "            <th>supplierID</th>\n",
       "            <th>supplierName</th>\n",
       "            <th>countryCode</th>\n",
       "            <th>email</th>\n",
       "            <th>prodID</th>\n",
       "            <th>supID</th>\n",
       "        </tr>\n",
       "    </thead>\n",
       "    <tbody>\n",
       "        <tr>\n",
       "            <td>1</td>\n",
       "            <td>A hop in the park</td>\n",
       "            <td>USA</td>\n",
       "            <td>anewemail@ahop.com</td>\n",
       "            <td>2</td>\n",
       "            <td>1</td>\n",
       "        </tr>\n",
       "        <tr>\n",
       "            <td>1</td>\n",
       "            <td>A hop in the park</td>\n",
       "            <td>USA</td>\n",
       "            <td>anewemail@ahop.com</td>\n",
       "            <td>3</td>\n",
       "            <td>1</td>\n",
       "        </tr>\n",
       "    </tbody>\n",
       "</table>"
      ],
      "text/plain": [
       "[(1, 'A hop in the park', 'USA', 'anewemail@ahop.com', 2, 1),\n",
       " (1, 'A hop in the park', 'USA', 'anewemail@ahop.com', 3, 1)]"
      ]
     },
     "execution_count": 65,
     "metadata": {},
     "output_type": "execute_result"
    }
   ],
   "source": [
    "%%sql\n",
    "\n",
    "SELECT * \n",
    "FROM suppliers\n",
    "RIGHT JOIN supplier_to_product ON supplier_to_product.supID = suppliers.supplierID;"
   ]
  },
  {
   "cell_type": "markdown",
   "id": "caf6e72f",
   "metadata": {},
   "source": [
    "We can concatenate multiple join operations to extract higher-level information out of the connections stored in the database.\n",
    "\n",
    "#### Add the corresponding product names to the previous join"
   ]
  },
  {
   "cell_type": "code",
   "execution_count": 66,
   "id": "beb2261a",
   "metadata": {},
   "outputs": [
    {
     "name": "stdout",
     "output_type": "stream",
     "text": [
      " * mysql+mysqlconnector://root:***@db\n",
      "2 rows affected.\n"
     ]
    },
    {
     "data": {
      "text/html": [
       "<table>\n",
       "    <thead>\n",
       "        <tr>\n",
       "            <th>supplierID</th>\n",
       "            <th>supplierName</th>\n",
       "            <th>countryCode</th>\n",
       "            <th>email</th>\n",
       "            <th>prodID</th>\n",
       "            <th>supID</th>\n",
       "            <th>productID</th>\n",
       "            <th>productName</th>\n",
       "            <th>unitPrice</th>\n",
       "            <th>unitsInStock</th>\n",
       "            <th>isDiscontinued</th>\n",
       "        </tr>\n",
       "    </thead>\n",
       "    <tbody>\n",
       "        <tr>\n",
       "            <td>1</td>\n",
       "            <td>A hop in the park</td>\n",
       "            <td>USA</td>\n",
       "            <td>anewemail@ahop.com</td>\n",
       "            <td>2</td>\n",
       "            <td>1</td>\n",
       "            <td>2</td>\n",
       "            <td>Punk IPA</td>\n",
       "            <td>5.2</td>\n",
       "            <td>45</td>\n",
       "            <td>0</td>\n",
       "        </tr>\n",
       "        <tr>\n",
       "            <td>1</td>\n",
       "            <td>A hop in the park</td>\n",
       "            <td>USA</td>\n",
       "            <td>anewemail@ahop.com</td>\n",
       "            <td>3</td>\n",
       "            <td>1</td>\n",
       "            <td>3</td>\n",
       "            <td>HB Dunkel</td>\n",
       "            <td>4.5</td>\n",
       "            <td>250</td>\n",
       "            <td>0</td>\n",
       "        </tr>\n",
       "    </tbody>\n",
       "</table>"
      ],
      "text/plain": [
       "[(1, 'A hop in the park', 'USA', 'anewemail@ahop.com', 2, 1, 2, 'Punk IPA', 5.2, 45, 0),\n",
       " (1, 'A hop in the park', 'USA', 'anewemail@ahop.com', 3, 1, 3, 'HB Dunkel', 4.5, 250, 0)]"
      ]
     },
     "execution_count": 66,
     "metadata": {},
     "output_type": "execute_result"
    }
   ],
   "source": [
    "%%sql\n",
    "\n",
    "SELECT * \n",
    "FROM suppliers\n",
    "INNER JOIN supplier_to_product ON supplier_to_product.supID = suppliers.supplierID\n",
    "INNER JOIN products ON supplier_to_product.prodID = products.productID;"
   ]
  },
  {
   "cell_type": "markdown",
   "id": "bdc02965",
   "metadata": {},
   "source": [
    "The conjunction of `SELECT`, `GROUP BY`, and `JOIN` statements will allow us to extract non-trivial information out of any Relational database.\n",
    "\n",
    "#### Add the following records to the `supplier_to_product` table, and perform the following queries:\n",
    "    \n",
    "| supplier | products provided |\n",
    "| --- | --- | \n",
    "| \"Wild Hops\" | \"Founders Porter\", \"Punk IPA\", \"HB Dunkel\", \"Damm Complot\" |    \n",
    "| \"Beer Paradise\" | \"Punk IPA\", \"Damm Complot\" |    \n",
    "| \"Allez Hops! Cave à bièr\" | \"Founders Porter\", \"HB Dunkel\" |    \n",
    "\n",
    "1. show all suppliers of \"Damm Complot\"\n",
    "2. retrieve the email address of all possible suppliers of \"Punk IPA\"\n",
    "3. list the unit price of all products supplied by Italian firms, listed in descending order (of unit price)  "
   ]
  },
  {
   "cell_type": "code",
   "execution_count": 67,
   "id": "1796e1fe",
   "metadata": {},
   "outputs": [
    {
     "name": "stdout",
     "output_type": "stream",
     "text": [
      "(2, 1)\n",
      "(3, 1)\n",
      "(1, 2)\n",
      "(3, 2)\n",
      "(1, 3)\n",
      "(2, 3)\n",
      "(3, 3)\n",
      "(5, 3)\n",
      "(2, 4)\n",
      "(5, 4)\n"
     ]
    }
   ],
   "source": [
    "sql_ = \"INSERT INTO supplier_to_product (prodID, supID) VALUES (%s, %s)\"\n",
    "val_ = [\n",
    "    # supplier Allez Hops\n",
    "    (1, 2),\n",
    "    (3, 2),\n",
    "\n",
    "    # supplier Wild Hops\n",
    "    (1, 3),\n",
    "    (2, 3),\n",
    "    (3, 3),\n",
    "    (5, 3),\n",
    "\n",
    "    # supplier Beer Paradise\n",
    "    (2, 4),\n",
    "    (5, 4),\n",
    "]\n",
    "\n",
    "\n",
    "dbc.executemany(sql_, val_)\n",
    "db.commit()\n",
    "     \n",
    "dbc.execute(\"SELECT * FROM supplier_to_product\"); \n",
    "for _ in dbc:\n",
    "     print(_)"
   ]
  },
  {
   "cell_type": "code",
   "execution_count": 68,
   "id": "da587e06",
   "metadata": {},
   "outputs": [
    {
     "name": "stdout",
     "output_type": "stream",
     "text": [
      " * mysql+mysqlconnector://root:***@db\n",
      "3 rows affected.\n"
     ]
    },
    {
     "data": {
      "text/html": [
       "<table>\n",
       "    <thead>\n",
       "        <tr>\n",
       "            <th>supplierName</th>\n",
       "        </tr>\n",
       "    </thead>\n",
       "    <tbody>\n",
       "        <tr>\n",
       "            <td>A hop in the park</td>\n",
       "        </tr>\n",
       "        <tr>\n",
       "            <td>Wild Hops</td>\n",
       "        </tr>\n",
       "        <tr>\n",
       "            <td>Beer Paradise</td>\n",
       "        </tr>\n",
       "    </tbody>\n",
       "</table>"
      ],
      "text/plain": [
       "[('A hop in the park',), ('Wild Hops',), ('Beer Paradise',)]"
      ]
     },
     "execution_count": 68,
     "metadata": {},
     "output_type": "execute_result"
    }
   ],
   "source": [
    "%%sql\n",
    "\n",
    "SELECT suppliers.supplierName\n",
    "FROM supplier_to_product\n",
    "INNER JOIN suppliers ON supplier_to_product.supID = suppliers.supplierID\n",
    "INNER JOIN products ON supplier_to_product.prodID = products.productID\n",
    "WHERE products.productName = \"Punk IPA\";"
   ]
  },
  {
   "cell_type": "code",
   "execution_count": 69,
   "id": "7fcd95d8",
   "metadata": {},
   "outputs": [
    {
     "name": "stdout",
     "output_type": "stream",
     "text": [
      " * mysql+mysqlconnector://root:***@db\n",
      "3 rows affected.\n"
     ]
    },
    {
     "data": {
      "text/html": [
       "<table>\n",
       "    <thead>\n",
       "        <tr>\n",
       "            <th>email</th>\n",
       "        </tr>\n",
       "    </thead>\n",
       "    <tbody>\n",
       "        <tr>\n",
       "            <td>anewemail@ahop.com</td>\n",
       "        </tr>\n",
       "        <tr>\n",
       "            <td>myemail@wildhops.it</td>\n",
       "        </tr>\n",
       "        <tr>\n",
       "            <td>beer@beerparadise.it</td>\n",
       "        </tr>\n",
       "    </tbody>\n",
       "</table>"
      ],
      "text/plain": [
       "[('anewemail@ahop.com',), ('myemail@wildhops.it',), ('beer@beerparadise.it',)]"
      ]
     },
     "execution_count": 69,
     "metadata": {},
     "output_type": "execute_result"
    }
   ],
   "source": [
    "%%sql\n",
    "\n",
    "SELECT suppliers.email \n",
    "FROM supplier_to_product\n",
    "INNER JOIN suppliers ON supplier_to_product.supID = suppliers.supplierID\n",
    "INNER JOIN products ON supplier_to_product.prodID = products.productID\n",
    "WHERE products.productName = \"Punk IPA\";"
   ]
  },
  {
   "cell_type": "code",
   "execution_count": 70,
   "id": "e5f990bf",
   "metadata": {},
   "outputs": [
    {
     "name": "stdout",
     "output_type": "stream",
     "text": [
      " * mysql+mysqlconnector://root:***@db\n",
      "4 rows affected.\n"
     ]
    },
    {
     "data": {
      "text/html": [
       "<table>\n",
       "    <thead>\n",
       "        <tr>\n",
       "            <th>unitPrice</th>\n",
       "            <th>productName</th>\n",
       "        </tr>\n",
       "    </thead>\n",
       "    <tbody>\n",
       "        <tr>\n",
       "            <td>5.2</td>\n",
       "            <td>Punk IPA</td>\n",
       "        </tr>\n",
       "        <tr>\n",
       "            <td>4.9</td>\n",
       "            <td>Founders Porter</td>\n",
       "        </tr>\n",
       "        <tr>\n",
       "            <td>4.5</td>\n",
       "            <td>HB Dunkel</td>\n",
       "        </tr>\n",
       "        <tr>\n",
       "            <td>3.7</td>\n",
       "            <td>Damm Complot</td>\n",
       "        </tr>\n",
       "    </tbody>\n",
       "</table>"
      ],
      "text/plain": [
       "[(5.2, 'Punk IPA'),\n",
       " (4.9, 'Founders Porter'),\n",
       " (4.5, 'HB Dunkel'),\n",
       " (3.7, 'Damm Complot')]"
      ]
     },
     "execution_count": 70,
     "metadata": {},
     "output_type": "execute_result"
    }
   ],
   "source": [
    "%%sql\n",
    "\n",
    "SELECT DISTINCT products.unitPrice, products.productName\n",
    "FROM supplier_to_product\n",
    "INNER JOIN suppliers ON supplier_to_product.supID = suppliers.supplierID\n",
    "INNER JOIN products ON supplier_to_product.prodID = products.productID\n",
    "WHERE suppliers.countryCode = \"ITA\"\n",
    "ORDER BY unitPrice DESC;"
   ]
  },
  {
   "cell_type": "markdown",
   "id": "213be6c6",
   "metadata": {},
   "source": [
    "## 05 Queries on well-formed DBs\n",
    "\n",
    "In MySQL, we can load entire databases from external files.\n",
    "\n",
    "The files will contain the full database structure (tables and constraints) and will populate all tables with all records.\n",
    "\n",
    "To load a database into the MySQL server from the interactive Docker shell, we can simply do the following:\n",
    "\n",
    "1. Create a new database named `world`.\n",
    "2. Import the content of the file `/mapd-workspace/dbs/world.sql` into the newly created database via:\n",
    "\n",
    "```bash\n",
    "$ mysql -u root -p world < /mapd-workspace/dbs/world.sql\n",
    "```\n",
    "\n",
    "**NB**: The `/mapd-workspace` directory has been defined as a Docker Volume and is a shared location with your computer."
   ]
  },
  {
   "cell_type": "markdown",
   "id": "33389e65",
   "metadata": {},
   "source": [
    "#### Using the `world` DB, perform queries to answer the following questions.\n",
    "\n",
    "Additional references can be found here https://dev.mysql.com/doc/world-setup/en/\n",
    "\n",
    "\n",
    "Use a **single query** to answer the questions:\n",
    "\n",
    "1. Which country has the largest population?\n",
    "2. Get the total number of cities in Canada.\n",
    "3. Select the country with the most cities.\n",
    "4. List all the languages spoken in the Southeast Asia region.\n",
    "5. Identify the 5 most spoken languages by number of countries.\n",
    "6. What is the total population of the cities in the Caribbean region?\n",
    "7. What Countries have a City named \"Kingston\"?\n",
    "8. Plot the population density by country, limiting to the 25 with the least density.\n",
    "9. Plot the GNP (Gross Nation Product) of all countries that become independent between 1850 and 1910, limiting to the 10 with the highest GNP.\n",
    "10. Create a scatter plot of the life expectancy vs the GNP of all countries that have Spanish as their Official language.\n",
    "\n",
    "\n",
    "##### Suggestions:\n",
    "- Start by inspecting the database tables' structure\n",
    "- When in doubt, check the table content by selecting only a few lines (use `LIMIT` to avoid returning all records)\n",
    "- Before finalizing the query, you can always perform \"intermediate\" queries to check if complex operations (e.g. `GROUP BY` and `JOIN`) are stated correctly"
   ]
  },
  {
   "cell_type": "code",
   "execution_count": 10,
   "id": "c33df49a",
   "metadata": {},
   "outputs": [
    {
     "name": "stdout",
     "output_type": "stream",
     "text": [
      " * mysql+mysqlconnector://root:***@db\n",
      "0 rows affected.\n",
      "3 rows affected.\n",
      "15 rows affected.\n"
     ]
    },
    {
     "data": {
      "text/html": [
       "<table>\n",
       "    <thead>\n",
       "        <tr>\n",
       "            <th>Field</th>\n",
       "            <th>Type</th>\n",
       "            <th>Null</th>\n",
       "            <th>Key</th>\n",
       "            <th>Default</th>\n",
       "            <th>Extra</th>\n",
       "        </tr>\n",
       "    </thead>\n",
       "    <tbody>\n",
       "        <tr>\n",
       "            <td>Code</td>\n",
       "            <td>char(3)</td>\n",
       "            <td>NO</td>\n",
       "            <td>PRI</td>\n",
       "            <td></td>\n",
       "            <td></td>\n",
       "        </tr>\n",
       "        <tr>\n",
       "            <td>Name</td>\n",
       "            <td>char(52)</td>\n",
       "            <td>NO</td>\n",
       "            <td></td>\n",
       "            <td></td>\n",
       "            <td></td>\n",
       "        </tr>\n",
       "        <tr>\n",
       "            <td>Continent</td>\n",
       "            <td>enum(&#x27;Asia&#x27;,&#x27;Europe&#x27;,&#x27;North America&#x27;,&#x27;Africa&#x27;,&#x27;Oceania&#x27;,&#x27;Antarctica&#x27;,&#x27;South America&#x27;)</td>\n",
       "            <td>NO</td>\n",
       "            <td></td>\n",
       "            <td>Asia</td>\n",
       "            <td></td>\n",
       "        </tr>\n",
       "        <tr>\n",
       "            <td>Region</td>\n",
       "            <td>char(26)</td>\n",
       "            <td>NO</td>\n",
       "            <td></td>\n",
       "            <td></td>\n",
       "            <td></td>\n",
       "        </tr>\n",
       "        <tr>\n",
       "            <td>SurfaceArea</td>\n",
       "            <td>decimal(10,2)</td>\n",
       "            <td>NO</td>\n",
       "            <td></td>\n",
       "            <td>0.00</td>\n",
       "            <td></td>\n",
       "        </tr>\n",
       "        <tr>\n",
       "            <td>IndepYear</td>\n",
       "            <td>smallint</td>\n",
       "            <td>YES</td>\n",
       "            <td></td>\n",
       "            <td>None</td>\n",
       "            <td></td>\n",
       "        </tr>\n",
       "        <tr>\n",
       "            <td>Population</td>\n",
       "            <td>int</td>\n",
       "            <td>NO</td>\n",
       "            <td></td>\n",
       "            <td>0</td>\n",
       "            <td></td>\n",
       "        </tr>\n",
       "        <tr>\n",
       "            <td>LifeExpectancy</td>\n",
       "            <td>decimal(3,1)</td>\n",
       "            <td>YES</td>\n",
       "            <td></td>\n",
       "            <td>None</td>\n",
       "            <td></td>\n",
       "        </tr>\n",
       "        <tr>\n",
       "            <td>GNP</td>\n",
       "            <td>decimal(10,2)</td>\n",
       "            <td>YES</td>\n",
       "            <td></td>\n",
       "            <td>None</td>\n",
       "            <td></td>\n",
       "        </tr>\n",
       "        <tr>\n",
       "            <td>GNPOld</td>\n",
       "            <td>decimal(10,2)</td>\n",
       "            <td>YES</td>\n",
       "            <td></td>\n",
       "            <td>None</td>\n",
       "            <td></td>\n",
       "        </tr>\n",
       "        <tr>\n",
       "            <td>LocalName</td>\n",
       "            <td>char(45)</td>\n",
       "            <td>NO</td>\n",
       "            <td></td>\n",
       "            <td></td>\n",
       "            <td></td>\n",
       "        </tr>\n",
       "        <tr>\n",
       "            <td>GovernmentForm</td>\n",
       "            <td>char(45)</td>\n",
       "            <td>NO</td>\n",
       "            <td></td>\n",
       "            <td></td>\n",
       "            <td></td>\n",
       "        </tr>\n",
       "        <tr>\n",
       "            <td>HeadOfState</td>\n",
       "            <td>char(60)</td>\n",
       "            <td>YES</td>\n",
       "            <td></td>\n",
       "            <td>None</td>\n",
       "            <td></td>\n",
       "        </tr>\n",
       "        <tr>\n",
       "            <td>Capital</td>\n",
       "            <td>int</td>\n",
       "            <td>YES</td>\n",
       "            <td></td>\n",
       "            <td>None</td>\n",
       "            <td></td>\n",
       "        </tr>\n",
       "        <tr>\n",
       "            <td>Code2</td>\n",
       "            <td>char(2)</td>\n",
       "            <td>NO</td>\n",
       "            <td></td>\n",
       "            <td></td>\n",
       "            <td></td>\n",
       "        </tr>\n",
       "    </tbody>\n",
       "</table>"
      ],
      "text/plain": [
       "[('Code', 'char(3)', 'NO', 'PRI', '', ''),\n",
       " ('Name', 'char(52)', 'NO', '', '', ''),\n",
       " ('Continent', \"enum('Asia','Europe','North America','Africa','Oceania','Antarctica','South America')\", 'NO', '', 'Asia', ''),\n",
       " ('Region', 'char(26)', 'NO', '', '', ''),\n",
       " ('SurfaceArea', 'decimal(10,2)', 'NO', '', '0.00', ''),\n",
       " ('IndepYear', 'smallint', 'YES', '', None, ''),\n",
       " ('Population', 'int', 'NO', '', '0', ''),\n",
       " ('LifeExpectancy', 'decimal(3,1)', 'YES', '', None, ''),\n",
       " ('GNP', 'decimal(10,2)', 'YES', '', None, ''),\n",
       " ('GNPOld', 'decimal(10,2)', 'YES', '', None, ''),\n",
       " ('LocalName', 'char(45)', 'NO', '', '', ''),\n",
       " ('GovernmentForm', 'char(45)', 'NO', '', '', ''),\n",
       " ('HeadOfState', 'char(60)', 'YES', '', None, ''),\n",
       " ('Capital', 'int', 'YES', '', None, ''),\n",
       " ('Code2', 'char(2)', 'NO', '', '', '')]"
      ]
     },
     "execution_count": 10,
     "metadata": {},
     "output_type": "execute_result"
    }
   ],
   "source": [
    "%%sql\n",
    "\n",
    "USE world; \n",
    "\n",
    "SHOW TABLES;\n",
    "DESCRIBE country;"
   ]
  },
  {
   "cell_type": "code",
   "execution_count": 88,
   "id": "04a4a767-42ff-4a43-80c4-4a5cb745ad91",
   "metadata": {},
   "outputs": [
    {
     "name": "stdout",
     "output_type": "stream",
     "text": [
      " * mysql+mysqlconnector://root:***@db\n",
      "1 rows affected.\n"
     ]
    },
    {
     "data": {
      "text/html": [
       "<table>\n",
       "    <thead>\n",
       "        <tr>\n",
       "            <th>COUNT(Code)</th>\n",
       "        </tr>\n",
       "    </thead>\n",
       "    <tbody>\n",
       "        <tr>\n",
       "            <td>239</td>\n",
       "        </tr>\n",
       "    </tbody>\n",
       "</table>"
      ],
      "text/plain": [
       "[(239,)]"
      ]
     },
     "execution_count": 88,
     "metadata": {},
     "output_type": "execute_result"
    }
   ],
   "source": [
    "%%sql\n",
    "\n",
    "SELECT COUNT(Code)\n",
    "FROM country;"
   ]
  },
  {
   "cell_type": "markdown",
   "id": "962bf1c9",
   "metadata": {},
   "source": [
    "#### 1 - Which country has the largest population?"
   ]
  },
  {
   "cell_type": "code",
   "execution_count": 91,
   "id": "917f715b",
   "metadata": {},
   "outputs": [
    {
     "name": "stdout",
     "output_type": "stream",
     "text": [
      " * mysql+mysqlconnector://root:***@db\n",
      "1 rows affected.\n"
     ]
    },
    {
     "data": {
      "text/html": [
       "<table>\n",
       "    <thead>\n",
       "        <tr>\n",
       "            <th>Population</th>\n",
       "            <th>Code</th>\n",
       "        </tr>\n",
       "    </thead>\n",
       "    <tbody>\n",
       "        <tr>\n",
       "            <td>1277558000</td>\n",
       "            <td>CHN</td>\n",
       "        </tr>\n",
       "    </tbody>\n",
       "</table>"
      ],
      "text/plain": [
       "[(1277558000, 'CHN')]"
      ]
     },
     "execution_count": 91,
     "metadata": {},
     "output_type": "execute_result"
    }
   ],
   "source": [
    "%%sql \n",
    "\n",
    "SELECT Population, Code \n",
    "FROM country\n",
    "ORDER BY  Population DESC\n",
    "LIMIT 1;"
   ]
  },
  {
   "cell_type": "markdown",
   "id": "132f54ba",
   "metadata": {},
   "source": [
    "#### 2 - Get the total number of cities in Canada."
   ]
  },
  {
   "cell_type": "code",
   "execution_count": 92,
   "id": "4a2b32f2-9648-4c6e-9b2c-90aa86ff8aed",
   "metadata": {},
   "outputs": [
    {
     "name": "stdout",
     "output_type": "stream",
     "text": [
      " * mysql+mysqlconnector://root:***@db\n",
      "5 rows affected.\n"
     ]
    },
    {
     "data": {
      "text/html": [
       "<table>\n",
       "    <thead>\n",
       "        <tr>\n",
       "            <th>Field</th>\n",
       "            <th>Type</th>\n",
       "            <th>Null</th>\n",
       "            <th>Key</th>\n",
       "            <th>Default</th>\n",
       "            <th>Extra</th>\n",
       "        </tr>\n",
       "    </thead>\n",
       "    <tbody>\n",
       "        <tr>\n",
       "            <td>ID</td>\n",
       "            <td>int</td>\n",
       "            <td>NO</td>\n",
       "            <td>PRI</td>\n",
       "            <td>None</td>\n",
       "            <td>auto_increment</td>\n",
       "        </tr>\n",
       "        <tr>\n",
       "            <td>Name</td>\n",
       "            <td>char(35)</td>\n",
       "            <td>NO</td>\n",
       "            <td></td>\n",
       "            <td></td>\n",
       "            <td></td>\n",
       "        </tr>\n",
       "        <tr>\n",
       "            <td>CountryCode</td>\n",
       "            <td>char(3)</td>\n",
       "            <td>NO</td>\n",
       "            <td>MUL</td>\n",
       "            <td></td>\n",
       "            <td></td>\n",
       "        </tr>\n",
       "        <tr>\n",
       "            <td>District</td>\n",
       "            <td>char(20)</td>\n",
       "            <td>NO</td>\n",
       "            <td></td>\n",
       "            <td></td>\n",
       "            <td></td>\n",
       "        </tr>\n",
       "        <tr>\n",
       "            <td>Population</td>\n",
       "            <td>int</td>\n",
       "            <td>NO</td>\n",
       "            <td></td>\n",
       "            <td>0</td>\n",
       "            <td></td>\n",
       "        </tr>\n",
       "    </tbody>\n",
       "</table>"
      ],
      "text/plain": [
       "[('ID', 'int', 'NO', 'PRI', None, 'auto_increment'),\n",
       " ('Name', 'char(35)', 'NO', '', '', ''),\n",
       " ('CountryCode', 'char(3)', 'NO', 'MUL', '', ''),\n",
       " ('District', 'char(20)', 'NO', '', '', ''),\n",
       " ('Population', 'int', 'NO', '', '0', '')]"
      ]
     },
     "execution_count": 92,
     "metadata": {},
     "output_type": "execute_result"
    }
   ],
   "source": [
    "%%sql \n",
    "\n",
    "DESCRIBE city;"
   ]
  },
  {
   "cell_type": "code",
   "execution_count": 95,
   "id": "5ef438fe",
   "metadata": {
    "scrolled": true
   },
   "outputs": [
    {
     "name": "stdout",
     "output_type": "stream",
     "text": [
      " * mysql+mysqlconnector://root:***@db\n",
      "1 rows affected.\n"
     ]
    },
    {
     "data": {
      "text/html": [
       "<table>\n",
       "    <thead>\n",
       "        <tr>\n",
       "            <th>CitiesInCanada</th>\n",
       "        </tr>\n",
       "    </thead>\n",
       "    <tbody>\n",
       "        <tr>\n",
       "            <td>49</td>\n",
       "        </tr>\n",
       "    </tbody>\n",
       "</table>"
      ],
      "text/plain": [
       "[(49,)]"
      ]
     },
     "execution_count": 95,
     "metadata": {},
     "output_type": "execute_result"
    }
   ],
   "source": [
    "%%sql \n",
    "\n",
    "SELECT COUNT(ID) AS CitiesInCanada /*usually better to count on the primary key*/\n",
    "FROM city\n",
    "WHERE CountryCode = \"CAN\";"
   ]
  },
  {
   "cell_type": "markdown",
   "id": "3aa6bf99",
   "metadata": {},
   "source": [
    "#### 3 - Select the country with the most cities."
   ]
  },
  {
   "cell_type": "code",
   "execution_count": 99,
   "id": "b83bf346",
   "metadata": {},
   "outputs": [
    {
     "name": "stdout",
     "output_type": "stream",
     "text": [
      " * mysql+mysqlconnector://root:***@db\n",
      "1 rows affected.\n"
     ]
    },
    {
     "data": {
      "text/html": [
       "<table>\n",
       "    <thead>\n",
       "        <tr>\n",
       "            <th>nCities</th>\n",
       "            <th>CountryCode</th>\n",
       "        </tr>\n",
       "    </thead>\n",
       "    <tbody>\n",
       "        <tr>\n",
       "            <td>363</td>\n",
       "            <td>CHN</td>\n",
       "        </tr>\n",
       "    </tbody>\n",
       "</table>"
      ],
      "text/plain": [
       "[(363, 'CHN')]"
      ]
     },
     "execution_count": 99,
     "metadata": {},
     "output_type": "execute_result"
    }
   ],
   "source": [
    "%%sql \n",
    "\n",
    "SELECT COUNT(ID) AS nCities, CountryCode\n",
    "FROM city\n",
    "GROUP BY CountryCode\n",
    "ORDER BY nCities DESC\n",
    "LIMIT 1;"
   ]
  },
  {
   "cell_type": "markdown",
   "id": "ede586ff",
   "metadata": {},
   "source": [
    "#### 4 - List all the languages spoken in the Southeast Asia region."
   ]
  },
  {
   "cell_type": "code",
   "execution_count": 108,
   "id": "a1cc5223-0e3d-417b-b73a-1879ae9bfec6",
   "metadata": {},
   "outputs": [
    {
     "name": "stdout",
     "output_type": "stream",
     "text": [
      " * mysql+mysqlconnector://root:***@db\n",
      "4 rows affected.\n"
     ]
    },
    {
     "data": {
      "text/html": [
       "<table>\n",
       "    <thead>\n",
       "        <tr>\n",
       "            <th>Field</th>\n",
       "            <th>Type</th>\n",
       "            <th>Null</th>\n",
       "            <th>Key</th>\n",
       "            <th>Default</th>\n",
       "            <th>Extra</th>\n",
       "        </tr>\n",
       "    </thead>\n",
       "    <tbody>\n",
       "        <tr>\n",
       "            <td>CountryCode</td>\n",
       "            <td>char(3)</td>\n",
       "            <td>NO</td>\n",
       "            <td>PRI</td>\n",
       "            <td></td>\n",
       "            <td></td>\n",
       "        </tr>\n",
       "        <tr>\n",
       "            <td>Language</td>\n",
       "            <td>char(30)</td>\n",
       "            <td>NO</td>\n",
       "            <td>PRI</td>\n",
       "            <td></td>\n",
       "            <td></td>\n",
       "        </tr>\n",
       "        <tr>\n",
       "            <td>IsOfficial</td>\n",
       "            <td>enum(&#x27;T&#x27;,&#x27;F&#x27;)</td>\n",
       "            <td>NO</td>\n",
       "            <td></td>\n",
       "            <td>F</td>\n",
       "            <td></td>\n",
       "        </tr>\n",
       "        <tr>\n",
       "            <td>Percentage</td>\n",
       "            <td>decimal(4,1)</td>\n",
       "            <td>NO</td>\n",
       "            <td></td>\n",
       "            <td>0.0</td>\n",
       "            <td></td>\n",
       "        </tr>\n",
       "    </tbody>\n",
       "</table>"
      ],
      "text/plain": [
       "[('CountryCode', 'char(3)', 'NO', 'PRI', '', ''),\n",
       " ('Language', 'char(30)', 'NO', 'PRI', '', ''),\n",
       " ('IsOfficial', \"enum('T','F')\", 'NO', '', 'F', ''),\n",
       " ('Percentage', 'decimal(4,1)', 'NO', '', '0.0', '')]"
      ]
     },
     "execution_count": 108,
     "metadata": {},
     "output_type": "execute_result"
    }
   ],
   "source": [
    "%%sql\n",
    "\n",
    "DESCRIBE countrylanguage;"
   ]
  },
  {
   "cell_type": "code",
   "execution_count": 11,
   "id": "db3e2aab-a64c-4079-ba3b-29f62ffaa609",
   "metadata": {},
   "outputs": [
    {
     "name": "stdout",
     "output_type": "stream",
     "text": [
      " * mysql+mysqlconnector://root:***@db\n",
      "25 rows affected.\n"
     ]
    },
    {
     "data": {
      "text/html": [
       "<table>\n",
       "    <thead>\n",
       "        <tr>\n",
       "            <th>region</th>\n",
       "        </tr>\n",
       "    </thead>\n",
       "    <tbody>\n",
       "        <tr>\n",
       "            <td>Caribbean</td>\n",
       "        </tr>\n",
       "        <tr>\n",
       "            <td>Southern and Central Asia</td>\n",
       "        </tr>\n",
       "        <tr>\n",
       "            <td>Central Africa</td>\n",
       "        </tr>\n",
       "        <tr>\n",
       "            <td>Southern Europe</td>\n",
       "        </tr>\n",
       "        <tr>\n",
       "            <td>Middle East</td>\n",
       "        </tr>\n",
       "        <tr>\n",
       "            <td>South America</td>\n",
       "        </tr>\n",
       "        <tr>\n",
       "            <td>Polynesia</td>\n",
       "        </tr>\n",
       "        <tr>\n",
       "            <td>Antarctica</td>\n",
       "        </tr>\n",
       "        <tr>\n",
       "            <td>Australia and New Zealand</td>\n",
       "        </tr>\n",
       "        <tr>\n",
       "            <td>Western Europe</td>\n",
       "        </tr>\n",
       "        <tr>\n",
       "            <td>Eastern Africa</td>\n",
       "        </tr>\n",
       "        <tr>\n",
       "            <td>Western Africa</td>\n",
       "        </tr>\n",
       "        <tr>\n",
       "            <td>Eastern Europe</td>\n",
       "        </tr>\n",
       "        <tr>\n",
       "            <td>Central America</td>\n",
       "        </tr>\n",
       "        <tr>\n",
       "            <td>North America</td>\n",
       "        </tr>\n",
       "        <tr>\n",
       "            <td>Southeast Asia</td>\n",
       "        </tr>\n",
       "        <tr>\n",
       "            <td>Southern Africa</td>\n",
       "        </tr>\n",
       "        <tr>\n",
       "            <td>Eastern Asia</td>\n",
       "        </tr>\n",
       "        <tr>\n",
       "            <td>Nordic Countries</td>\n",
       "        </tr>\n",
       "        <tr>\n",
       "            <td>Northern Africa</td>\n",
       "        </tr>\n",
       "        <tr>\n",
       "            <td>Baltic Countries</td>\n",
       "        </tr>\n",
       "        <tr>\n",
       "            <td>Melanesia</td>\n",
       "        </tr>\n",
       "        <tr>\n",
       "            <td>Micronesia</td>\n",
       "        </tr>\n",
       "        <tr>\n",
       "            <td>British Islands</td>\n",
       "        </tr>\n",
       "        <tr>\n",
       "            <td>Micronesia/Caribbean</td>\n",
       "        </tr>\n",
       "    </tbody>\n",
       "</table>"
      ],
      "text/plain": [
       "[('Caribbean',),\n",
       " ('Southern and Central Asia',),\n",
       " ('Central Africa',),\n",
       " ('Southern Europe',),\n",
       " ('Middle East',),\n",
       " ('South America',),\n",
       " ('Polynesia',),\n",
       " ('Antarctica',),\n",
       " ('Australia and New Zealand',),\n",
       " ('Western Europe',),\n",
       " ('Eastern Africa',),\n",
       " ('Western Africa',),\n",
       " ('Eastern Europe',),\n",
       " ('Central America',),\n",
       " ('North America',),\n",
       " ('Southeast Asia',),\n",
       " ('Southern Africa',),\n",
       " ('Eastern Asia',),\n",
       " ('Nordic Countries',),\n",
       " ('Northern Africa',),\n",
       " ('Baltic Countries',),\n",
       " ('Melanesia',),\n",
       " ('Micronesia',),\n",
       " ('British Islands',),\n",
       " ('Micronesia/Caribbean',)]"
      ]
     },
     "execution_count": 11,
     "metadata": {},
     "output_type": "execute_result"
    }
   ],
   "source": [
    "%%sql\n",
    "\n",
    "SELECT DISTINCT(region)\n",
    "FROM country"
   ]
  },
  {
   "cell_type": "code",
   "execution_count": 12,
   "id": "18633ba2",
   "metadata": {},
   "outputs": [
    {
     "name": "stdout",
     "output_type": "stream",
     "text": [
      " * mysql+mysqlconnector://root:***@db\n",
      "47 rows affected.\n"
     ]
    },
    {
     "data": {
      "text/html": [
       "<table>\n",
       "    <thead>\n",
       "        <tr>\n",
       "            <th>language</th>\n",
       "        </tr>\n",
       "    </thead>\n",
       "    <tbody>\n",
       "        <tr>\n",
       "            <td>Chinese</td>\n",
       "        </tr>\n",
       "        <tr>\n",
       "            <td>English</td>\n",
       "        </tr>\n",
       "        <tr>\n",
       "            <td>Malay</td>\n",
       "        </tr>\n",
       "        <tr>\n",
       "            <td>Malay-English</td>\n",
       "        </tr>\n",
       "        <tr>\n",
       "            <td>Bali</td>\n",
       "        </tr>\n",
       "        <tr>\n",
       "            <td>Banja</td>\n",
       "        </tr>\n",
       "        <tr>\n",
       "            <td>Batakki</td>\n",
       "        </tr>\n",
       "        <tr>\n",
       "            <td>Bugi</td>\n",
       "        </tr>\n",
       "        <tr>\n",
       "            <td>Javanese</td>\n",
       "        </tr>\n",
       "        <tr>\n",
       "            <td>Madura</td>\n",
       "        </tr>\n",
       "        <tr>\n",
       "            <td>Minangkabau</td>\n",
       "        </tr>\n",
       "        <tr>\n",
       "            <td>Sunda</td>\n",
       "        </tr>\n",
       "        <tr>\n",
       "            <td>Khmer</td>\n",
       "        </tr>\n",
       "        <tr>\n",
       "            <td>Tšam</td>\n",
       "        </tr>\n",
       "        <tr>\n",
       "            <td>Vietnamese</td>\n",
       "        </tr>\n",
       "        <tr>\n",
       "            <td>Lao</td>\n",
       "        </tr>\n",
       "        <tr>\n",
       "            <td>Lao-Soung</td>\n",
       "        </tr>\n",
       "        <tr>\n",
       "            <td>Mon-khmer</td>\n",
       "        </tr>\n",
       "        <tr>\n",
       "            <td>Thai</td>\n",
       "        </tr>\n",
       "        <tr>\n",
       "            <td>Burmese</td>\n",
       "        </tr>\n",
       "        <tr>\n",
       "            <td>Chin</td>\n",
       "        </tr>\n",
       "        <tr>\n",
       "            <td>Kachin</td>\n",
       "        </tr>\n",
       "        <tr>\n",
       "            <td>Karen</td>\n",
       "        </tr>\n",
       "        <tr>\n",
       "            <td>Kayah</td>\n",
       "        </tr>\n",
       "        <tr>\n",
       "            <td>Mon</td>\n",
       "        </tr>\n",
       "        <tr>\n",
       "            <td>Rakhine</td>\n",
       "        </tr>\n",
       "        <tr>\n",
       "            <td>Shan</td>\n",
       "        </tr>\n",
       "        <tr>\n",
       "            <td>Dusun</td>\n",
       "        </tr>\n",
       "        <tr>\n",
       "            <td>Iban</td>\n",
       "        </tr>\n",
       "        <tr>\n",
       "            <td>Tamil</td>\n",
       "        </tr>\n",
       "        <tr>\n",
       "            <td>Bicol</td>\n",
       "        </tr>\n",
       "        <tr>\n",
       "            <td>Cebuano</td>\n",
       "        </tr>\n",
       "        <tr>\n",
       "            <td>Hiligaynon</td>\n",
       "        </tr>\n",
       "        <tr>\n",
       "            <td>Ilocano</td>\n",
       "        </tr>\n",
       "        <tr>\n",
       "            <td>Maguindanao</td>\n",
       "        </tr>\n",
       "        <tr>\n",
       "            <td>Maranao</td>\n",
       "        </tr>\n",
       "        <tr>\n",
       "            <td>Pampango</td>\n",
       "        </tr>\n",
       "        <tr>\n",
       "            <td>Pangasinan</td>\n",
       "        </tr>\n",
       "        <tr>\n",
       "            <td>Pilipino</td>\n",
       "        </tr>\n",
       "        <tr>\n",
       "            <td>Waray-waray</td>\n",
       "        </tr>\n",
       "        <tr>\n",
       "            <td>Kuy</td>\n",
       "        </tr>\n",
       "        <tr>\n",
       "            <td>Portuguese</td>\n",
       "        </tr>\n",
       "        <tr>\n",
       "            <td>Man</td>\n",
       "        </tr>\n",
       "        <tr>\n",
       "            <td>Miao</td>\n",
       "        </tr>\n",
       "        <tr>\n",
       "            <td>Muong</td>\n",
       "        </tr>\n",
       "        <tr>\n",
       "            <td>Nung</td>\n",
       "        </tr>\n",
       "        <tr>\n",
       "            <td>Tho</td>\n",
       "        </tr>\n",
       "    </tbody>\n",
       "</table>"
      ],
      "text/plain": [
       "[('Chinese',),\n",
       " ('English',),\n",
       " ('Malay',),\n",
       " ('Malay-English',),\n",
       " ('Bali',),\n",
       " ('Banja',),\n",
       " ('Batakki',),\n",
       " ('Bugi',),\n",
       " ('Javanese',),\n",
       " ('Madura',),\n",
       " ('Minangkabau',),\n",
       " ('Sunda',),\n",
       " ('Khmer',),\n",
       " ('Tšam',),\n",
       " ('Vietnamese',),\n",
       " ('Lao',),\n",
       " ('Lao-Soung',),\n",
       " ('Mon-khmer',),\n",
       " ('Thai',),\n",
       " ('Burmese',),\n",
       " ('Chin',),\n",
       " ('Kachin',),\n",
       " ('Karen',),\n",
       " ('Kayah',),\n",
       " ('Mon',),\n",
       " ('Rakhine',),\n",
       " ('Shan',),\n",
       " ('Dusun',),\n",
       " ('Iban',),\n",
       " ('Tamil',),\n",
       " ('Bicol',),\n",
       " ('Cebuano',),\n",
       " ('Hiligaynon',),\n",
       " ('Ilocano',),\n",
       " ('Maguindanao',),\n",
       " ('Maranao',),\n",
       " ('Pampango',),\n",
       " ('Pangasinan',),\n",
       " ('Pilipino',),\n",
       " ('Waray-waray',),\n",
       " ('Kuy',),\n",
       " ('Portuguese',),\n",
       " ('Man',),\n",
       " ('Miao',),\n",
       " ('Muong',),\n",
       " ('Nung',),\n",
       " ('Tho',)]"
      ]
     },
     "execution_count": 12,
     "metadata": {},
     "output_type": "execute_result"
    }
   ],
   "source": [
    "%%sql\n",
    "\n",
    "SELECT DISTINCT language\n",
    "FROM countrylanguage\n",
    "INNER JOIN country ON countrylanguage.CountryCode = country.Code\n",
    "WHERE country.Region = 'Southeast Asia';"
   ]
  },
  {
   "cell_type": "markdown",
   "id": "e78c356c",
   "metadata": {},
   "source": [
    "#### 5 - Identify the 5 most spoken languages by number of countries."
   ]
  },
  {
   "cell_type": "code",
   "execution_count": 1,
   "id": "0db18e84-d0e2-4566-99ce-a5f3e99ec456",
   "metadata": {},
   "outputs": [
    {
     "name": "stderr",
     "output_type": "stream",
     "text": [
      "UsageError: Cell magic `%%sql` not found.\n"
     ]
    }
   ],
   "source": [
    "%%sql \n",
    "\n",
    "SELECT *\n",
    "FROM countrylanguage\n",
    "LIMIT 10;"
   ]
  },
  {
   "cell_type": "code",
   "execution_count": 14,
   "id": "f258596b-f76c-4b29-b725-7d221d708e14",
   "metadata": {},
   "outputs": [
    {
     "name": "stdout",
     "output_type": "stream",
     "text": [
      " * mysql+mysqlconnector://root:***@db\n",
      "(mysql.connector.errors.ProgrammingError) 1064 (42000): You have an error in your SQL syntax; check the manual that corresponds to your MySQL server version for the right syntax to use near 'DESC\n",
      "LIMIT 5' at line 4\n",
      "[SQL: SELECT Language, COUNT(countryCode) as nCountries\n",
      "FROM countrylanguage\n",
      "GROUP BY Language\n",
      "ORDER BY DESC\n",
      "LIMIT 5;]\n",
      "(Background on this error at: https://sqlalche.me/e/20/f405)\n"
     ]
    }
   ],
   "source": [
    "%%sql\n",
    "\n",
    "SELECT Language, COUNT(countryCode) as nCountries\n",
    "FROM countrylanguage\n",
    "GROUP BY Language\n",
    "ORDER BY DESC\n",
    "LIMIT 5;"
   ]
  },
  {
   "cell_type": "markdown",
   "id": "756a2c09-5591-4151-9a09-4fbbcc7292d4",
   "metadata": {},
   "source": [
    "LEt's do it with HAVING:"
   ]
  },
  {
   "cell_type": "code",
   "execution_count": 15,
   "id": "b5d95099-fa4c-4742-9181-cfa1f3de4f22",
   "metadata": {},
   "outputs": [
    {
     "name": "stdout",
     "output_type": "stream",
     "text": [
      " * mysql+mysqlconnector://root:***@db\n",
      "(mysql.connector.errors.ProgrammingError) 1064 (42000): You have an error in your SQL syntax; check the manual that corresponds to your MySQL server version for the right syntax to use near 'DESC\n",
      "LIMIT 5' at line 5\n",
      "[SQL: SELECT Language, COUNT(countryCode) AS nCountries\n",
      "FROM countrylanguage\n",
      "WHERE IsOfficial='T'\n",
      "GROUP BY Language\n",
      "ORDER BY DESC\n",
      "LIMIT 5;]\n",
      "(Background on this error at: https://sqlalche.me/e/20/f405)\n"
     ]
    }
   ],
   "source": [
    "%%sql\n",
    "\n",
    "SELECT Language, COUNT(countryCode) AS nCountries\n",
    "FROM countrylanguage\n",
    "WHERE IsOfficial='T'\n",
    "GROUP BY Language\n",
    "ORDER BY DESC\n",
    "LIMIT 5;"
   ]
  },
  {
   "cell_type": "markdown",
   "id": "0c6bd462",
   "metadata": {},
   "source": [
    "#### 6 - What is the total population of the cities in the Caribbean region?"
   ]
  },
  {
   "cell_type": "code",
   "execution_count": 16,
   "id": "cc79efa0-54ef-45e4-b046-7f106bacada3",
   "metadata": {},
   "outputs": [
    {
     "name": "stdout",
     "output_type": "stream",
     "text": [
      " * mysql+mysqlconnector://root:***@db\n",
      "5 rows affected.\n"
     ]
    },
    {
     "data": {
      "text/html": [
       "<table>\n",
       "    <thead>\n",
       "        <tr>\n",
       "            <th>Field</th>\n",
       "            <th>Type</th>\n",
       "            <th>Null</th>\n",
       "            <th>Key</th>\n",
       "            <th>Default</th>\n",
       "            <th>Extra</th>\n",
       "        </tr>\n",
       "    </thead>\n",
       "    <tbody>\n",
       "        <tr>\n",
       "            <td>ID</td>\n",
       "            <td>int</td>\n",
       "            <td>NO</td>\n",
       "            <td>PRI</td>\n",
       "            <td>None</td>\n",
       "            <td>auto_increment</td>\n",
       "        </tr>\n",
       "        <tr>\n",
       "            <td>Name</td>\n",
       "            <td>char(35)</td>\n",
       "            <td>NO</td>\n",
       "            <td></td>\n",
       "            <td></td>\n",
       "            <td></td>\n",
       "        </tr>\n",
       "        <tr>\n",
       "            <td>CountryCode</td>\n",
       "            <td>char(3)</td>\n",
       "            <td>NO</td>\n",
       "            <td>MUL</td>\n",
       "            <td></td>\n",
       "            <td></td>\n",
       "        </tr>\n",
       "        <tr>\n",
       "            <td>District</td>\n",
       "            <td>char(20)</td>\n",
       "            <td>NO</td>\n",
       "            <td></td>\n",
       "            <td></td>\n",
       "            <td></td>\n",
       "        </tr>\n",
       "        <tr>\n",
       "            <td>Population</td>\n",
       "            <td>int</td>\n",
       "            <td>NO</td>\n",
       "            <td></td>\n",
       "            <td>0</td>\n",
       "            <td></td>\n",
       "        </tr>\n",
       "    </tbody>\n",
       "</table>"
      ],
      "text/plain": [
       "[('ID', 'int', 'NO', 'PRI', None, 'auto_increment'),\n",
       " ('Name', 'char(35)', 'NO', '', '', ''),\n",
       " ('CountryCode', 'char(3)', 'NO', 'MUL', '', ''),\n",
       " ('District', 'char(20)', 'NO', '', '', ''),\n",
       " ('Population', 'int', 'NO', '', '0', '')]"
      ]
     },
     "execution_count": 16,
     "metadata": {},
     "output_type": "execute_result"
    }
   ],
   "source": [
    "%%sql\n",
    "\n",
    "DESCRIBE city"
   ]
  },
  {
   "cell_type": "code",
   "execution_count": 17,
   "id": "c8a642d3-a918-46c4-a875-3784b43bd880",
   "metadata": {},
   "outputs": [
    {
     "name": "stdout",
     "output_type": "stream",
     "text": [
      " * mysql+mysqlconnector://root:***@db\n",
      "15 rows affected.\n"
     ]
    },
    {
     "data": {
      "text/html": [
       "<table>\n",
       "    <thead>\n",
       "        <tr>\n",
       "            <th>Field</th>\n",
       "            <th>Type</th>\n",
       "            <th>Null</th>\n",
       "            <th>Key</th>\n",
       "            <th>Default</th>\n",
       "            <th>Extra</th>\n",
       "        </tr>\n",
       "    </thead>\n",
       "    <tbody>\n",
       "        <tr>\n",
       "            <td>Code</td>\n",
       "            <td>char(3)</td>\n",
       "            <td>NO</td>\n",
       "            <td>PRI</td>\n",
       "            <td></td>\n",
       "            <td></td>\n",
       "        </tr>\n",
       "        <tr>\n",
       "            <td>Name</td>\n",
       "            <td>char(52)</td>\n",
       "            <td>NO</td>\n",
       "            <td></td>\n",
       "            <td></td>\n",
       "            <td></td>\n",
       "        </tr>\n",
       "        <tr>\n",
       "            <td>Continent</td>\n",
       "            <td>enum(&#x27;Asia&#x27;,&#x27;Europe&#x27;,&#x27;North America&#x27;,&#x27;Africa&#x27;,&#x27;Oceania&#x27;,&#x27;Antarctica&#x27;,&#x27;South America&#x27;)</td>\n",
       "            <td>NO</td>\n",
       "            <td></td>\n",
       "            <td>Asia</td>\n",
       "            <td></td>\n",
       "        </tr>\n",
       "        <tr>\n",
       "            <td>Region</td>\n",
       "            <td>char(26)</td>\n",
       "            <td>NO</td>\n",
       "            <td></td>\n",
       "            <td></td>\n",
       "            <td></td>\n",
       "        </tr>\n",
       "        <tr>\n",
       "            <td>SurfaceArea</td>\n",
       "            <td>decimal(10,2)</td>\n",
       "            <td>NO</td>\n",
       "            <td></td>\n",
       "            <td>0.00</td>\n",
       "            <td></td>\n",
       "        </tr>\n",
       "        <tr>\n",
       "            <td>IndepYear</td>\n",
       "            <td>smallint</td>\n",
       "            <td>YES</td>\n",
       "            <td></td>\n",
       "            <td>None</td>\n",
       "            <td></td>\n",
       "        </tr>\n",
       "        <tr>\n",
       "            <td>Population</td>\n",
       "            <td>int</td>\n",
       "            <td>NO</td>\n",
       "            <td></td>\n",
       "            <td>0</td>\n",
       "            <td></td>\n",
       "        </tr>\n",
       "        <tr>\n",
       "            <td>LifeExpectancy</td>\n",
       "            <td>decimal(3,1)</td>\n",
       "            <td>YES</td>\n",
       "            <td></td>\n",
       "            <td>None</td>\n",
       "            <td></td>\n",
       "        </tr>\n",
       "        <tr>\n",
       "            <td>GNP</td>\n",
       "            <td>decimal(10,2)</td>\n",
       "            <td>YES</td>\n",
       "            <td></td>\n",
       "            <td>None</td>\n",
       "            <td></td>\n",
       "        </tr>\n",
       "        <tr>\n",
       "            <td>GNPOld</td>\n",
       "            <td>decimal(10,2)</td>\n",
       "            <td>YES</td>\n",
       "            <td></td>\n",
       "            <td>None</td>\n",
       "            <td></td>\n",
       "        </tr>\n",
       "        <tr>\n",
       "            <td>LocalName</td>\n",
       "            <td>char(45)</td>\n",
       "            <td>NO</td>\n",
       "            <td></td>\n",
       "            <td></td>\n",
       "            <td></td>\n",
       "        </tr>\n",
       "        <tr>\n",
       "            <td>GovernmentForm</td>\n",
       "            <td>char(45)</td>\n",
       "            <td>NO</td>\n",
       "            <td></td>\n",
       "            <td></td>\n",
       "            <td></td>\n",
       "        </tr>\n",
       "        <tr>\n",
       "            <td>HeadOfState</td>\n",
       "            <td>char(60)</td>\n",
       "            <td>YES</td>\n",
       "            <td></td>\n",
       "            <td>None</td>\n",
       "            <td></td>\n",
       "        </tr>\n",
       "        <tr>\n",
       "            <td>Capital</td>\n",
       "            <td>int</td>\n",
       "            <td>YES</td>\n",
       "            <td></td>\n",
       "            <td>None</td>\n",
       "            <td></td>\n",
       "        </tr>\n",
       "        <tr>\n",
       "            <td>Code2</td>\n",
       "            <td>char(2)</td>\n",
       "            <td>NO</td>\n",
       "            <td></td>\n",
       "            <td></td>\n",
       "            <td></td>\n",
       "        </tr>\n",
       "    </tbody>\n",
       "</table>"
      ],
      "text/plain": [
       "[('Code', 'char(3)', 'NO', 'PRI', '', ''),\n",
       " ('Name', 'char(52)', 'NO', '', '', ''),\n",
       " ('Continent', \"enum('Asia','Europe','North America','Africa','Oceania','Antarctica','South America')\", 'NO', '', 'Asia', ''),\n",
       " ('Region', 'char(26)', 'NO', '', '', ''),\n",
       " ('SurfaceArea', 'decimal(10,2)', 'NO', '', '0.00', ''),\n",
       " ('IndepYear', 'smallint', 'YES', '', None, ''),\n",
       " ('Population', 'int', 'NO', '', '0', ''),\n",
       " ('LifeExpectancy', 'decimal(3,1)', 'YES', '', None, ''),\n",
       " ('GNP', 'decimal(10,2)', 'YES', '', None, ''),\n",
       " ('GNPOld', 'decimal(10,2)', 'YES', '', None, ''),\n",
       " ('LocalName', 'char(45)', 'NO', '', '', ''),\n",
       " ('GovernmentForm', 'char(45)', 'NO', '', '', ''),\n",
       " ('HeadOfState', 'char(60)', 'YES', '', None, ''),\n",
       " ('Capital', 'int', 'YES', '', None, ''),\n",
       " ('Code2', 'char(2)', 'NO', '', '', '')]"
      ]
     },
     "execution_count": 17,
     "metadata": {},
     "output_type": "execute_result"
    }
   ],
   "source": [
    "%%sql\n",
    "\n",
    "DESCRIBE country"
   ]
  },
  {
   "cell_type": "code",
   "execution_count": 18,
   "id": "6de71059-e7ad-471a-93c7-28f595154441",
   "metadata": {},
   "outputs": [
    {
     "name": "stdout",
     "output_type": "stream",
     "text": [
      " * mysql+mysqlconnector://root:***@db\n",
      "25 rows affected.\n"
     ]
    },
    {
     "data": {
      "text/html": [
       "<table>\n",
       "    <thead>\n",
       "        <tr>\n",
       "            <th>Region</th>\n",
       "        </tr>\n",
       "    </thead>\n",
       "    <tbody>\n",
       "        <tr>\n",
       "            <td>Caribbean</td>\n",
       "        </tr>\n",
       "        <tr>\n",
       "            <td>Southern and Central Asia</td>\n",
       "        </tr>\n",
       "        <tr>\n",
       "            <td>Central Africa</td>\n",
       "        </tr>\n",
       "        <tr>\n",
       "            <td>Southern Europe</td>\n",
       "        </tr>\n",
       "        <tr>\n",
       "            <td>Middle East</td>\n",
       "        </tr>\n",
       "        <tr>\n",
       "            <td>South America</td>\n",
       "        </tr>\n",
       "        <tr>\n",
       "            <td>Polynesia</td>\n",
       "        </tr>\n",
       "        <tr>\n",
       "            <td>Antarctica</td>\n",
       "        </tr>\n",
       "        <tr>\n",
       "            <td>Australia and New Zealand</td>\n",
       "        </tr>\n",
       "        <tr>\n",
       "            <td>Western Europe</td>\n",
       "        </tr>\n",
       "        <tr>\n",
       "            <td>Eastern Africa</td>\n",
       "        </tr>\n",
       "        <tr>\n",
       "            <td>Western Africa</td>\n",
       "        </tr>\n",
       "        <tr>\n",
       "            <td>Eastern Europe</td>\n",
       "        </tr>\n",
       "        <tr>\n",
       "            <td>Central America</td>\n",
       "        </tr>\n",
       "        <tr>\n",
       "            <td>North America</td>\n",
       "        </tr>\n",
       "        <tr>\n",
       "            <td>Southeast Asia</td>\n",
       "        </tr>\n",
       "        <tr>\n",
       "            <td>Southern Africa</td>\n",
       "        </tr>\n",
       "        <tr>\n",
       "            <td>Eastern Asia</td>\n",
       "        </tr>\n",
       "        <tr>\n",
       "            <td>Nordic Countries</td>\n",
       "        </tr>\n",
       "        <tr>\n",
       "            <td>Northern Africa</td>\n",
       "        </tr>\n",
       "        <tr>\n",
       "            <td>Baltic Countries</td>\n",
       "        </tr>\n",
       "        <tr>\n",
       "            <td>Melanesia</td>\n",
       "        </tr>\n",
       "        <tr>\n",
       "            <td>Micronesia</td>\n",
       "        </tr>\n",
       "        <tr>\n",
       "            <td>British Islands</td>\n",
       "        </tr>\n",
       "        <tr>\n",
       "            <td>Micronesia/Caribbean</td>\n",
       "        </tr>\n",
       "    </tbody>\n",
       "</table>"
      ],
      "text/plain": [
       "[('Caribbean',),\n",
       " ('Southern and Central Asia',),\n",
       " ('Central Africa',),\n",
       " ('Southern Europe',),\n",
       " ('Middle East',),\n",
       " ('South America',),\n",
       " ('Polynesia',),\n",
       " ('Antarctica',),\n",
       " ('Australia and New Zealand',),\n",
       " ('Western Europe',),\n",
       " ('Eastern Africa',),\n",
       " ('Western Africa',),\n",
       " ('Eastern Europe',),\n",
       " ('Central America',),\n",
       " ('North America',),\n",
       " ('Southeast Asia',),\n",
       " ('Southern Africa',),\n",
       " ('Eastern Asia',),\n",
       " ('Nordic Countries',),\n",
       " ('Northern Africa',),\n",
       " ('Baltic Countries',),\n",
       " ('Melanesia',),\n",
       " ('Micronesia',),\n",
       " ('British Islands',),\n",
       " ('Micronesia/Caribbean',)]"
      ]
     },
     "execution_count": 18,
     "metadata": {},
     "output_type": "execute_result"
    }
   ],
   "source": [
    "%%sql\n",
    "\n",
    "SELECT DISTINCT Region\n",
    "FROM country"
   ]
  },
  {
   "cell_type": "code",
   "execution_count": 19,
   "id": "4f161542-5b81-4567-9f6c-2a0e1ee80f5e",
   "metadata": {},
   "outputs": [
    {
     "name": "stdout",
     "output_type": "stream",
     "text": [
      " * mysql+mysqlconnector://root:***@db\n",
      "58 rows affected.\n"
     ]
    },
    {
     "data": {
      "text/html": [
       "<table>\n",
       "    <thead>\n",
       "        <tr>\n",
       "            <th>Code</th>\n",
       "            <th>Name</th>\n",
       "            <th>Continent</th>\n",
       "            <th>Region</th>\n",
       "            <th>SurfaceArea</th>\n",
       "            <th>IndepYear</th>\n",
       "            <th>Population</th>\n",
       "            <th>LifeExpectancy</th>\n",
       "            <th>GNP</th>\n",
       "            <th>GNPOld</th>\n",
       "            <th>LocalName</th>\n",
       "            <th>GovernmentForm</th>\n",
       "            <th>HeadOfState</th>\n",
       "            <th>Capital</th>\n",
       "            <th>Code2</th>\n",
       "            <th>ID</th>\n",
       "            <th>Name_1</th>\n",
       "            <th>CountryCode</th>\n",
       "            <th>District</th>\n",
       "            <th>Population_1</th>\n",
       "        </tr>\n",
       "    </thead>\n",
       "    <tbody>\n",
       "        <tr>\n",
       "            <td>ABW</td>\n",
       "            <td>Aruba</td>\n",
       "            <td>North America</td>\n",
       "            <td>Caribbean</td>\n",
       "            <td>193.00</td>\n",
       "            <td>None</td>\n",
       "            <td>103000</td>\n",
       "            <td>78.4</td>\n",
       "            <td>828.00</td>\n",
       "            <td>793.00</td>\n",
       "            <td>Aruba</td>\n",
       "            <td>Nonmetropolitan Territory of The Netherlands</td>\n",
       "            <td>Beatrix</td>\n",
       "            <td>129</td>\n",
       "            <td>AW</td>\n",
       "            <td>129</td>\n",
       "            <td>Oranjestad</td>\n",
       "            <td>ABW</td>\n",
       "            <td>–</td>\n",
       "            <td>29034</td>\n",
       "        </tr>\n",
       "        <tr>\n",
       "            <td>AIA</td>\n",
       "            <td>Anguilla</td>\n",
       "            <td>North America</td>\n",
       "            <td>Caribbean</td>\n",
       "            <td>96.00</td>\n",
       "            <td>None</td>\n",
       "            <td>8000</td>\n",
       "            <td>76.1</td>\n",
       "            <td>63.20</td>\n",
       "            <td>None</td>\n",
       "            <td>Anguilla</td>\n",
       "            <td>Dependent Territory of the UK</td>\n",
       "            <td>Elisabeth II</td>\n",
       "            <td>62</td>\n",
       "            <td>AI</td>\n",
       "            <td>61</td>\n",
       "            <td>South Hill</td>\n",
       "            <td>AIA</td>\n",
       "            <td>–</td>\n",
       "            <td>961</td>\n",
       "        </tr>\n",
       "        <tr>\n",
       "            <td>AIA</td>\n",
       "            <td>Anguilla</td>\n",
       "            <td>North America</td>\n",
       "            <td>Caribbean</td>\n",
       "            <td>96.00</td>\n",
       "            <td>None</td>\n",
       "            <td>8000</td>\n",
       "            <td>76.1</td>\n",
       "            <td>63.20</td>\n",
       "            <td>None</td>\n",
       "            <td>Anguilla</td>\n",
       "            <td>Dependent Territory of the UK</td>\n",
       "            <td>Elisabeth II</td>\n",
       "            <td>62</td>\n",
       "            <td>AI</td>\n",
       "            <td>62</td>\n",
       "            <td>The Valley</td>\n",
       "            <td>AIA</td>\n",
       "            <td>–</td>\n",
       "            <td>595</td>\n",
       "        </tr>\n",
       "        <tr>\n",
       "            <td>ANT</td>\n",
       "            <td>Netherlands Antilles</td>\n",
       "            <td>North America</td>\n",
       "            <td>Caribbean</td>\n",
       "            <td>800.00</td>\n",
       "            <td>None</td>\n",
       "            <td>217000</td>\n",
       "            <td>74.7</td>\n",
       "            <td>1941.00</td>\n",
       "            <td>None</td>\n",
       "            <td>Nederlandse Antillen</td>\n",
       "            <td>Nonmetropolitan Territory of The Netherlands</td>\n",
       "            <td>Beatrix</td>\n",
       "            <td>33</td>\n",
       "            <td>AN</td>\n",
       "            <td>33</td>\n",
       "            <td>Willemstad</td>\n",
       "            <td>ANT</td>\n",
       "            <td>Curaçao</td>\n",
       "            <td>2345</td>\n",
       "        </tr>\n",
       "        <tr>\n",
       "            <td>ATG</td>\n",
       "            <td>Antigua and Barbuda</td>\n",
       "            <td>North America</td>\n",
       "            <td>Caribbean</td>\n",
       "            <td>442.00</td>\n",
       "            <td>1981</td>\n",
       "            <td>68000</td>\n",
       "            <td>70.5</td>\n",
       "            <td>612.00</td>\n",
       "            <td>584.00</td>\n",
       "            <td>Antigua and Barbuda</td>\n",
       "            <td>Constitutional Monarchy</td>\n",
       "            <td>Elisabeth II</td>\n",
       "            <td>63</td>\n",
       "            <td>AG</td>\n",
       "            <td>63</td>\n",
       "            <td>Saint John´s</td>\n",
       "            <td>ATG</td>\n",
       "            <td>St John</td>\n",
       "            <td>24000</td>\n",
       "        </tr>\n",
       "        <tr>\n",
       "            <td>BHS</td>\n",
       "            <td>Bahamas</td>\n",
       "            <td>North America</td>\n",
       "            <td>Caribbean</td>\n",
       "            <td>13878.00</td>\n",
       "            <td>1973</td>\n",
       "            <td>307000</td>\n",
       "            <td>71.1</td>\n",
       "            <td>3527.00</td>\n",
       "            <td>3347.00</td>\n",
       "            <td>The Bahamas</td>\n",
       "            <td>Constitutional Monarchy</td>\n",
       "            <td>Elisabeth II</td>\n",
       "            <td>148</td>\n",
       "            <td>BS</td>\n",
       "            <td>148</td>\n",
       "            <td>Nassau</td>\n",
       "            <td>BHS</td>\n",
       "            <td>New Providence</td>\n",
       "            <td>172000</td>\n",
       "        </tr>\n",
       "        <tr>\n",
       "            <td>BRB</td>\n",
       "            <td>Barbados</td>\n",
       "            <td>North America</td>\n",
       "            <td>Caribbean</td>\n",
       "            <td>430.00</td>\n",
       "            <td>1966</td>\n",
       "            <td>270000</td>\n",
       "            <td>73.0</td>\n",
       "            <td>2223.00</td>\n",
       "            <td>2186.00</td>\n",
       "            <td>Barbados</td>\n",
       "            <td>Constitutional Monarchy</td>\n",
       "            <td>Elisabeth II</td>\n",
       "            <td>174</td>\n",
       "            <td>BB</td>\n",
       "            <td>174</td>\n",
       "            <td>Bridgetown</td>\n",
       "            <td>BRB</td>\n",
       "            <td>St Michael</td>\n",
       "            <td>6070</td>\n",
       "        </tr>\n",
       "        <tr>\n",
       "            <td>CUB</td>\n",
       "            <td>Cuba</td>\n",
       "            <td>North America</td>\n",
       "            <td>Caribbean</td>\n",
       "            <td>110861.00</td>\n",
       "            <td>1902</td>\n",
       "            <td>11201000</td>\n",
       "            <td>76.2</td>\n",
       "            <td>17843.00</td>\n",
       "            <td>18862.00</td>\n",
       "            <td>Cuba</td>\n",
       "            <td>Socialistic Republic</td>\n",
       "            <td>Fidel Castro Ruz</td>\n",
       "            <td>2413</td>\n",
       "            <td>CU</td>\n",
       "            <td>2413</td>\n",
       "            <td>La Habana</td>\n",
       "            <td>CUB</td>\n",
       "            <td>La Habana</td>\n",
       "            <td>2256000</td>\n",
       "        </tr>\n",
       "        <tr>\n",
       "            <td>CUB</td>\n",
       "            <td>Cuba</td>\n",
       "            <td>North America</td>\n",
       "            <td>Caribbean</td>\n",
       "            <td>110861.00</td>\n",
       "            <td>1902</td>\n",
       "            <td>11201000</td>\n",
       "            <td>76.2</td>\n",
       "            <td>17843.00</td>\n",
       "            <td>18862.00</td>\n",
       "            <td>Cuba</td>\n",
       "            <td>Socialistic Republic</td>\n",
       "            <td>Fidel Castro Ruz</td>\n",
       "            <td>2413</td>\n",
       "            <td>CU</td>\n",
       "            <td>2414</td>\n",
       "            <td>Santiago de Cuba</td>\n",
       "            <td>CUB</td>\n",
       "            <td>Santiago de Cuba</td>\n",
       "            <td>433180</td>\n",
       "        </tr>\n",
       "        <tr>\n",
       "            <td>CUB</td>\n",
       "            <td>Cuba</td>\n",
       "            <td>North America</td>\n",
       "            <td>Caribbean</td>\n",
       "            <td>110861.00</td>\n",
       "            <td>1902</td>\n",
       "            <td>11201000</td>\n",
       "            <td>76.2</td>\n",
       "            <td>17843.00</td>\n",
       "            <td>18862.00</td>\n",
       "            <td>Cuba</td>\n",
       "            <td>Socialistic Republic</td>\n",
       "            <td>Fidel Castro Ruz</td>\n",
       "            <td>2413</td>\n",
       "            <td>CU</td>\n",
       "            <td>2415</td>\n",
       "            <td>Camagüey</td>\n",
       "            <td>CUB</td>\n",
       "            <td>Camagüey</td>\n",
       "            <td>298726</td>\n",
       "        </tr>\n",
       "        <tr>\n",
       "            <td>CUB</td>\n",
       "            <td>Cuba</td>\n",
       "            <td>North America</td>\n",
       "            <td>Caribbean</td>\n",
       "            <td>110861.00</td>\n",
       "            <td>1902</td>\n",
       "            <td>11201000</td>\n",
       "            <td>76.2</td>\n",
       "            <td>17843.00</td>\n",
       "            <td>18862.00</td>\n",
       "            <td>Cuba</td>\n",
       "            <td>Socialistic Republic</td>\n",
       "            <td>Fidel Castro Ruz</td>\n",
       "            <td>2413</td>\n",
       "            <td>CU</td>\n",
       "            <td>2416</td>\n",
       "            <td>Holguín</td>\n",
       "            <td>CUB</td>\n",
       "            <td>Holguín</td>\n",
       "            <td>249492</td>\n",
       "        </tr>\n",
       "        <tr>\n",
       "            <td>CUB</td>\n",
       "            <td>Cuba</td>\n",
       "            <td>North America</td>\n",
       "            <td>Caribbean</td>\n",
       "            <td>110861.00</td>\n",
       "            <td>1902</td>\n",
       "            <td>11201000</td>\n",
       "            <td>76.2</td>\n",
       "            <td>17843.00</td>\n",
       "            <td>18862.00</td>\n",
       "            <td>Cuba</td>\n",
       "            <td>Socialistic Republic</td>\n",
       "            <td>Fidel Castro Ruz</td>\n",
       "            <td>2413</td>\n",
       "            <td>CU</td>\n",
       "            <td>2417</td>\n",
       "            <td>Santa Clara</td>\n",
       "            <td>CUB</td>\n",
       "            <td>Villa Clara</td>\n",
       "            <td>207350</td>\n",
       "        </tr>\n",
       "        <tr>\n",
       "            <td>CUB</td>\n",
       "            <td>Cuba</td>\n",
       "            <td>North America</td>\n",
       "            <td>Caribbean</td>\n",
       "            <td>110861.00</td>\n",
       "            <td>1902</td>\n",
       "            <td>11201000</td>\n",
       "            <td>76.2</td>\n",
       "            <td>17843.00</td>\n",
       "            <td>18862.00</td>\n",
       "            <td>Cuba</td>\n",
       "            <td>Socialistic Republic</td>\n",
       "            <td>Fidel Castro Ruz</td>\n",
       "            <td>2413</td>\n",
       "            <td>CU</td>\n",
       "            <td>2418</td>\n",
       "            <td>Guantánamo</td>\n",
       "            <td>CUB</td>\n",
       "            <td>Guantánamo</td>\n",
       "            <td>205078</td>\n",
       "        </tr>\n",
       "        <tr>\n",
       "            <td>CUB</td>\n",
       "            <td>Cuba</td>\n",
       "            <td>North America</td>\n",
       "            <td>Caribbean</td>\n",
       "            <td>110861.00</td>\n",
       "            <td>1902</td>\n",
       "            <td>11201000</td>\n",
       "            <td>76.2</td>\n",
       "            <td>17843.00</td>\n",
       "            <td>18862.00</td>\n",
       "            <td>Cuba</td>\n",
       "            <td>Socialistic Republic</td>\n",
       "            <td>Fidel Castro Ruz</td>\n",
       "            <td>2413</td>\n",
       "            <td>CU</td>\n",
       "            <td>2419</td>\n",
       "            <td>Pinar del Río</td>\n",
       "            <td>CUB</td>\n",
       "            <td>Pinar del Río</td>\n",
       "            <td>142100</td>\n",
       "        </tr>\n",
       "        <tr>\n",
       "            <td>CUB</td>\n",
       "            <td>Cuba</td>\n",
       "            <td>North America</td>\n",
       "            <td>Caribbean</td>\n",
       "            <td>110861.00</td>\n",
       "            <td>1902</td>\n",
       "            <td>11201000</td>\n",
       "            <td>76.2</td>\n",
       "            <td>17843.00</td>\n",
       "            <td>18862.00</td>\n",
       "            <td>Cuba</td>\n",
       "            <td>Socialistic Republic</td>\n",
       "            <td>Fidel Castro Ruz</td>\n",
       "            <td>2413</td>\n",
       "            <td>CU</td>\n",
       "            <td>2420</td>\n",
       "            <td>Bayamo</td>\n",
       "            <td>CUB</td>\n",
       "            <td>Granma</td>\n",
       "            <td>141000</td>\n",
       "        </tr>\n",
       "        <tr>\n",
       "            <td>CUB</td>\n",
       "            <td>Cuba</td>\n",
       "            <td>North America</td>\n",
       "            <td>Caribbean</td>\n",
       "            <td>110861.00</td>\n",
       "            <td>1902</td>\n",
       "            <td>11201000</td>\n",
       "            <td>76.2</td>\n",
       "            <td>17843.00</td>\n",
       "            <td>18862.00</td>\n",
       "            <td>Cuba</td>\n",
       "            <td>Socialistic Republic</td>\n",
       "            <td>Fidel Castro Ruz</td>\n",
       "            <td>2413</td>\n",
       "            <td>CU</td>\n",
       "            <td>2421</td>\n",
       "            <td>Cienfuegos</td>\n",
       "            <td>CUB</td>\n",
       "            <td>Cienfuegos</td>\n",
       "            <td>132770</td>\n",
       "        </tr>\n",
       "        <tr>\n",
       "            <td>CUB</td>\n",
       "            <td>Cuba</td>\n",
       "            <td>North America</td>\n",
       "            <td>Caribbean</td>\n",
       "            <td>110861.00</td>\n",
       "            <td>1902</td>\n",
       "            <td>11201000</td>\n",
       "            <td>76.2</td>\n",
       "            <td>17843.00</td>\n",
       "            <td>18862.00</td>\n",
       "            <td>Cuba</td>\n",
       "            <td>Socialistic Republic</td>\n",
       "            <td>Fidel Castro Ruz</td>\n",
       "            <td>2413</td>\n",
       "            <td>CU</td>\n",
       "            <td>2422</td>\n",
       "            <td>Victoria de las Tunas</td>\n",
       "            <td>CUB</td>\n",
       "            <td>Las Tunas</td>\n",
       "            <td>132350</td>\n",
       "        </tr>\n",
       "        <tr>\n",
       "            <td>CUB</td>\n",
       "            <td>Cuba</td>\n",
       "            <td>North America</td>\n",
       "            <td>Caribbean</td>\n",
       "            <td>110861.00</td>\n",
       "            <td>1902</td>\n",
       "            <td>11201000</td>\n",
       "            <td>76.2</td>\n",
       "            <td>17843.00</td>\n",
       "            <td>18862.00</td>\n",
       "            <td>Cuba</td>\n",
       "            <td>Socialistic Republic</td>\n",
       "            <td>Fidel Castro Ruz</td>\n",
       "            <td>2413</td>\n",
       "            <td>CU</td>\n",
       "            <td>2423</td>\n",
       "            <td>Matanzas</td>\n",
       "            <td>CUB</td>\n",
       "            <td>Matanzas</td>\n",
       "            <td>123273</td>\n",
       "        </tr>\n",
       "        <tr>\n",
       "            <td>CUB</td>\n",
       "            <td>Cuba</td>\n",
       "            <td>North America</td>\n",
       "            <td>Caribbean</td>\n",
       "            <td>110861.00</td>\n",
       "            <td>1902</td>\n",
       "            <td>11201000</td>\n",
       "            <td>76.2</td>\n",
       "            <td>17843.00</td>\n",
       "            <td>18862.00</td>\n",
       "            <td>Cuba</td>\n",
       "            <td>Socialistic Republic</td>\n",
       "            <td>Fidel Castro Ruz</td>\n",
       "            <td>2413</td>\n",
       "            <td>CU</td>\n",
       "            <td>2424</td>\n",
       "            <td>Manzanillo</td>\n",
       "            <td>CUB</td>\n",
       "            <td>Granma</td>\n",
       "            <td>109350</td>\n",
       "        </tr>\n",
       "        <tr>\n",
       "            <td>CUB</td>\n",
       "            <td>Cuba</td>\n",
       "            <td>North America</td>\n",
       "            <td>Caribbean</td>\n",
       "            <td>110861.00</td>\n",
       "            <td>1902</td>\n",
       "            <td>11201000</td>\n",
       "            <td>76.2</td>\n",
       "            <td>17843.00</td>\n",
       "            <td>18862.00</td>\n",
       "            <td>Cuba</td>\n",
       "            <td>Socialistic Republic</td>\n",
       "            <td>Fidel Castro Ruz</td>\n",
       "            <td>2413</td>\n",
       "            <td>CU</td>\n",
       "            <td>2425</td>\n",
       "            <td>Sancti-Spíritus</td>\n",
       "            <td>CUB</td>\n",
       "            <td>Sancti-Spíritus</td>\n",
       "            <td>100751</td>\n",
       "        </tr>\n",
       "        <tr>\n",
       "            <td>CUB</td>\n",
       "            <td>Cuba</td>\n",
       "            <td>North America</td>\n",
       "            <td>Caribbean</td>\n",
       "            <td>110861.00</td>\n",
       "            <td>1902</td>\n",
       "            <td>11201000</td>\n",
       "            <td>76.2</td>\n",
       "            <td>17843.00</td>\n",
       "            <td>18862.00</td>\n",
       "            <td>Cuba</td>\n",
       "            <td>Socialistic Republic</td>\n",
       "            <td>Fidel Castro Ruz</td>\n",
       "            <td>2413</td>\n",
       "            <td>CU</td>\n",
       "            <td>2426</td>\n",
       "            <td>Ciego de Ávila</td>\n",
       "            <td>CUB</td>\n",
       "            <td>Ciego de Ávila</td>\n",
       "            <td>98505</td>\n",
       "        </tr>\n",
       "        <tr>\n",
       "            <td>CYM</td>\n",
       "            <td>Cayman Islands</td>\n",
       "            <td>North America</td>\n",
       "            <td>Caribbean</td>\n",
       "            <td>264.00</td>\n",
       "            <td>None</td>\n",
       "            <td>38000</td>\n",
       "            <td>78.9</td>\n",
       "            <td>1263.00</td>\n",
       "            <td>1186.00</td>\n",
       "            <td>Cayman Islands</td>\n",
       "            <td>Dependent Territory of the UK</td>\n",
       "            <td>Elisabeth II</td>\n",
       "            <td>553</td>\n",
       "            <td>KY</td>\n",
       "            <td>553</td>\n",
       "            <td>George Town</td>\n",
       "            <td>CYM</td>\n",
       "            <td>Grand Cayman</td>\n",
       "            <td>19600</td>\n",
       "        </tr>\n",
       "        <tr>\n",
       "            <td>DMA</td>\n",
       "            <td>Dominica</td>\n",
       "            <td>North America</td>\n",
       "            <td>Caribbean</td>\n",
       "            <td>751.00</td>\n",
       "            <td>1978</td>\n",
       "            <td>71000</td>\n",
       "            <td>73.4</td>\n",
       "            <td>256.00</td>\n",
       "            <td>243.00</td>\n",
       "            <td>Dominica</td>\n",
       "            <td>Republic</td>\n",
       "            <td>Vernon Shaw</td>\n",
       "            <td>586</td>\n",
       "            <td>DM</td>\n",
       "            <td>586</td>\n",
       "            <td>Roseau</td>\n",
       "            <td>DMA</td>\n",
       "            <td>St George</td>\n",
       "            <td>16243</td>\n",
       "        </tr>\n",
       "        <tr>\n",
       "            <td>DOM</td>\n",
       "            <td>Dominican Republic</td>\n",
       "            <td>North America</td>\n",
       "            <td>Caribbean</td>\n",
       "            <td>48511.00</td>\n",
       "            <td>1844</td>\n",
       "            <td>8495000</td>\n",
       "            <td>73.2</td>\n",
       "            <td>15846.00</td>\n",
       "            <td>15076.00</td>\n",
       "            <td>República Dominicana</td>\n",
       "            <td>Republic</td>\n",
       "            <td>Hipólito Mejía Domínguez</td>\n",
       "            <td>587</td>\n",
       "            <td>DO</td>\n",
       "            <td>587</td>\n",
       "            <td>Santo Domingo de Guzmán</td>\n",
       "            <td>DOM</td>\n",
       "            <td>Distrito Nacional</td>\n",
       "            <td>1609966</td>\n",
       "        </tr>\n",
       "        <tr>\n",
       "            <td>DOM</td>\n",
       "            <td>Dominican Republic</td>\n",
       "            <td>North America</td>\n",
       "            <td>Caribbean</td>\n",
       "            <td>48511.00</td>\n",
       "            <td>1844</td>\n",
       "            <td>8495000</td>\n",
       "            <td>73.2</td>\n",
       "            <td>15846.00</td>\n",
       "            <td>15076.00</td>\n",
       "            <td>República Dominicana</td>\n",
       "            <td>Republic</td>\n",
       "            <td>Hipólito Mejía Domínguez</td>\n",
       "            <td>587</td>\n",
       "            <td>DO</td>\n",
       "            <td>588</td>\n",
       "            <td>Santiago de los Caballeros</td>\n",
       "            <td>DOM</td>\n",
       "            <td>Santiago</td>\n",
       "            <td>365463</td>\n",
       "        </tr>\n",
       "        <tr>\n",
       "            <td>DOM</td>\n",
       "            <td>Dominican Republic</td>\n",
       "            <td>North America</td>\n",
       "            <td>Caribbean</td>\n",
       "            <td>48511.00</td>\n",
       "            <td>1844</td>\n",
       "            <td>8495000</td>\n",
       "            <td>73.2</td>\n",
       "            <td>15846.00</td>\n",
       "            <td>15076.00</td>\n",
       "            <td>República Dominicana</td>\n",
       "            <td>Republic</td>\n",
       "            <td>Hipólito Mejía Domínguez</td>\n",
       "            <td>587</td>\n",
       "            <td>DO</td>\n",
       "            <td>589</td>\n",
       "            <td>La Romana</td>\n",
       "            <td>DOM</td>\n",
       "            <td>La Romana</td>\n",
       "            <td>140204</td>\n",
       "        </tr>\n",
       "        <tr>\n",
       "            <td>DOM</td>\n",
       "            <td>Dominican Republic</td>\n",
       "            <td>North America</td>\n",
       "            <td>Caribbean</td>\n",
       "            <td>48511.00</td>\n",
       "            <td>1844</td>\n",
       "            <td>8495000</td>\n",
       "            <td>73.2</td>\n",
       "            <td>15846.00</td>\n",
       "            <td>15076.00</td>\n",
       "            <td>República Dominicana</td>\n",
       "            <td>Republic</td>\n",
       "            <td>Hipólito Mejía Domínguez</td>\n",
       "            <td>587</td>\n",
       "            <td>DO</td>\n",
       "            <td>590</td>\n",
       "            <td>San Pedro de Macorís</td>\n",
       "            <td>DOM</td>\n",
       "            <td>San Pedro de Macorís</td>\n",
       "            <td>124735</td>\n",
       "        </tr>\n",
       "        <tr>\n",
       "            <td>DOM</td>\n",
       "            <td>Dominican Republic</td>\n",
       "            <td>North America</td>\n",
       "            <td>Caribbean</td>\n",
       "            <td>48511.00</td>\n",
       "            <td>1844</td>\n",
       "            <td>8495000</td>\n",
       "            <td>73.2</td>\n",
       "            <td>15846.00</td>\n",
       "            <td>15076.00</td>\n",
       "            <td>República Dominicana</td>\n",
       "            <td>Republic</td>\n",
       "            <td>Hipólito Mejía Domínguez</td>\n",
       "            <td>587</td>\n",
       "            <td>DO</td>\n",
       "            <td>591</td>\n",
       "            <td>San Francisco de Macorís</td>\n",
       "            <td>DOM</td>\n",
       "            <td>Duarte</td>\n",
       "            <td>108485</td>\n",
       "        </tr>\n",
       "        <tr>\n",
       "            <td>DOM</td>\n",
       "            <td>Dominican Republic</td>\n",
       "            <td>North America</td>\n",
       "            <td>Caribbean</td>\n",
       "            <td>48511.00</td>\n",
       "            <td>1844</td>\n",
       "            <td>8495000</td>\n",
       "            <td>73.2</td>\n",
       "            <td>15846.00</td>\n",
       "            <td>15076.00</td>\n",
       "            <td>República Dominicana</td>\n",
       "            <td>Republic</td>\n",
       "            <td>Hipólito Mejía Domínguez</td>\n",
       "            <td>587</td>\n",
       "            <td>DO</td>\n",
       "            <td>592</td>\n",
       "            <td>San Felipe de Puerto Plata</td>\n",
       "            <td>DOM</td>\n",
       "            <td>Puerto Plata</td>\n",
       "            <td>89423</td>\n",
       "        </tr>\n",
       "        <tr>\n",
       "            <td>GLP</td>\n",
       "            <td>Guadeloupe</td>\n",
       "            <td>North America</td>\n",
       "            <td>Caribbean</td>\n",
       "            <td>1705.00</td>\n",
       "            <td>None</td>\n",
       "            <td>456000</td>\n",
       "            <td>77.0</td>\n",
       "            <td>3501.00</td>\n",
       "            <td>None</td>\n",
       "            <td>Guadeloupe</td>\n",
       "            <td>Overseas Department of France</td>\n",
       "            <td>Jacques Chirac</td>\n",
       "            <td>919</td>\n",
       "            <td>GP</td>\n",
       "            <td>918</td>\n",
       "            <td>Les Abymes</td>\n",
       "            <td>GLP</td>\n",
       "            <td>Grande-Terre</td>\n",
       "            <td>62947</td>\n",
       "        </tr>\n",
       "        <tr>\n",
       "            <td>GLP</td>\n",
       "            <td>Guadeloupe</td>\n",
       "            <td>North America</td>\n",
       "            <td>Caribbean</td>\n",
       "            <td>1705.00</td>\n",
       "            <td>None</td>\n",
       "            <td>456000</td>\n",
       "            <td>77.0</td>\n",
       "            <td>3501.00</td>\n",
       "            <td>None</td>\n",
       "            <td>Guadeloupe</td>\n",
       "            <td>Overseas Department of France</td>\n",
       "            <td>Jacques Chirac</td>\n",
       "            <td>919</td>\n",
       "            <td>GP</td>\n",
       "            <td>919</td>\n",
       "            <td>Basse-Terre</td>\n",
       "            <td>GLP</td>\n",
       "            <td>Basse-Terre</td>\n",
       "            <td>12433</td>\n",
       "        </tr>\n",
       "        <tr>\n",
       "            <td>GRD</td>\n",
       "            <td>Grenada</td>\n",
       "            <td>North America</td>\n",
       "            <td>Caribbean</td>\n",
       "            <td>344.00</td>\n",
       "            <td>1974</td>\n",
       "            <td>94000</td>\n",
       "            <td>64.5</td>\n",
       "            <td>318.00</td>\n",
       "            <td>None</td>\n",
       "            <td>Grenada</td>\n",
       "            <td>Constitutional Monarchy</td>\n",
       "            <td>Elisabeth II</td>\n",
       "            <td>916</td>\n",
       "            <td>GD</td>\n",
       "            <td>916</td>\n",
       "            <td>Saint George´s</td>\n",
       "            <td>GRD</td>\n",
       "            <td>St George</td>\n",
       "            <td>4621</td>\n",
       "        </tr>\n",
       "        <tr>\n",
       "            <td>HTI</td>\n",
       "            <td>Haiti</td>\n",
       "            <td>North America</td>\n",
       "            <td>Caribbean</td>\n",
       "            <td>27750.00</td>\n",
       "            <td>1804</td>\n",
       "            <td>8222000</td>\n",
       "            <td>49.2</td>\n",
       "            <td>3459.00</td>\n",
       "            <td>3107.00</td>\n",
       "            <td>Haïti/Dayti</td>\n",
       "            <td>Republic</td>\n",
       "            <td>Jean-Bertrand Aristide</td>\n",
       "            <td>929</td>\n",
       "            <td>HT</td>\n",
       "            <td>929</td>\n",
       "            <td>Port-au-Prince</td>\n",
       "            <td>HTI</td>\n",
       "            <td>Ouest</td>\n",
       "            <td>884472</td>\n",
       "        </tr>\n",
       "        <tr>\n",
       "            <td>HTI</td>\n",
       "            <td>Haiti</td>\n",
       "            <td>North America</td>\n",
       "            <td>Caribbean</td>\n",
       "            <td>27750.00</td>\n",
       "            <td>1804</td>\n",
       "            <td>8222000</td>\n",
       "            <td>49.2</td>\n",
       "            <td>3459.00</td>\n",
       "            <td>3107.00</td>\n",
       "            <td>Haïti/Dayti</td>\n",
       "            <td>Republic</td>\n",
       "            <td>Jean-Bertrand Aristide</td>\n",
       "            <td>929</td>\n",
       "            <td>HT</td>\n",
       "            <td>930</td>\n",
       "            <td>Carrefour</td>\n",
       "            <td>HTI</td>\n",
       "            <td>Ouest</td>\n",
       "            <td>290204</td>\n",
       "        </tr>\n",
       "        <tr>\n",
       "            <td>HTI</td>\n",
       "            <td>Haiti</td>\n",
       "            <td>North America</td>\n",
       "            <td>Caribbean</td>\n",
       "            <td>27750.00</td>\n",
       "            <td>1804</td>\n",
       "            <td>8222000</td>\n",
       "            <td>49.2</td>\n",
       "            <td>3459.00</td>\n",
       "            <td>3107.00</td>\n",
       "            <td>Haïti/Dayti</td>\n",
       "            <td>Republic</td>\n",
       "            <td>Jean-Bertrand Aristide</td>\n",
       "            <td>929</td>\n",
       "            <td>HT</td>\n",
       "            <td>931</td>\n",
       "            <td>Delmas</td>\n",
       "            <td>HTI</td>\n",
       "            <td>Ouest</td>\n",
       "            <td>240429</td>\n",
       "        </tr>\n",
       "        <tr>\n",
       "            <td>HTI</td>\n",
       "            <td>Haiti</td>\n",
       "            <td>North America</td>\n",
       "            <td>Caribbean</td>\n",
       "            <td>27750.00</td>\n",
       "            <td>1804</td>\n",
       "            <td>8222000</td>\n",
       "            <td>49.2</td>\n",
       "            <td>3459.00</td>\n",
       "            <td>3107.00</td>\n",
       "            <td>Haïti/Dayti</td>\n",
       "            <td>Republic</td>\n",
       "            <td>Jean-Bertrand Aristide</td>\n",
       "            <td>929</td>\n",
       "            <td>HT</td>\n",
       "            <td>932</td>\n",
       "            <td>Le-Cap-Haïtien</td>\n",
       "            <td>HTI</td>\n",
       "            <td>Nord</td>\n",
       "            <td>102233</td>\n",
       "        </tr>\n",
       "        <tr>\n",
       "            <td>JAM</td>\n",
       "            <td>Jamaica</td>\n",
       "            <td>North America</td>\n",
       "            <td>Caribbean</td>\n",
       "            <td>10990.00</td>\n",
       "            <td>1962</td>\n",
       "            <td>2583000</td>\n",
       "            <td>75.2</td>\n",
       "            <td>6871.00</td>\n",
       "            <td>6722.00</td>\n",
       "            <td>Jamaica</td>\n",
       "            <td>Constitutional Monarchy</td>\n",
       "            <td>Elisabeth II</td>\n",
       "            <td>1530</td>\n",
       "            <td>JM</td>\n",
       "            <td>1529</td>\n",
       "            <td>Spanish Town</td>\n",
       "            <td>JAM</td>\n",
       "            <td>St. Catherine</td>\n",
       "            <td>110379</td>\n",
       "        </tr>\n",
       "        <tr>\n",
       "            <td>JAM</td>\n",
       "            <td>Jamaica</td>\n",
       "            <td>North America</td>\n",
       "            <td>Caribbean</td>\n",
       "            <td>10990.00</td>\n",
       "            <td>1962</td>\n",
       "            <td>2583000</td>\n",
       "            <td>75.2</td>\n",
       "            <td>6871.00</td>\n",
       "            <td>6722.00</td>\n",
       "            <td>Jamaica</td>\n",
       "            <td>Constitutional Monarchy</td>\n",
       "            <td>Elisabeth II</td>\n",
       "            <td>1530</td>\n",
       "            <td>JM</td>\n",
       "            <td>1530</td>\n",
       "            <td>Kingston</td>\n",
       "            <td>JAM</td>\n",
       "            <td>St. Andrew</td>\n",
       "            <td>103962</td>\n",
       "        </tr>\n",
       "        <tr>\n",
       "            <td>JAM</td>\n",
       "            <td>Jamaica</td>\n",
       "            <td>North America</td>\n",
       "            <td>Caribbean</td>\n",
       "            <td>10990.00</td>\n",
       "            <td>1962</td>\n",
       "            <td>2583000</td>\n",
       "            <td>75.2</td>\n",
       "            <td>6871.00</td>\n",
       "            <td>6722.00</td>\n",
       "            <td>Jamaica</td>\n",
       "            <td>Constitutional Monarchy</td>\n",
       "            <td>Elisabeth II</td>\n",
       "            <td>1530</td>\n",
       "            <td>JM</td>\n",
       "            <td>1531</td>\n",
       "            <td>Portmore</td>\n",
       "            <td>JAM</td>\n",
       "            <td>St. Andrew</td>\n",
       "            <td>99799</td>\n",
       "        </tr>\n",
       "        <tr>\n",
       "            <td>KNA</td>\n",
       "            <td>Saint Kitts and Nevis</td>\n",
       "            <td>North America</td>\n",
       "            <td>Caribbean</td>\n",
       "            <td>261.00</td>\n",
       "            <td>1983</td>\n",
       "            <td>38000</td>\n",
       "            <td>70.7</td>\n",
       "            <td>299.00</td>\n",
       "            <td>None</td>\n",
       "            <td>Saint Kitts and Nevis</td>\n",
       "            <td>Constitutional Monarchy</td>\n",
       "            <td>Elisabeth II</td>\n",
       "            <td>3064</td>\n",
       "            <td>KN</td>\n",
       "            <td>3064</td>\n",
       "            <td>Basseterre</td>\n",
       "            <td>KNA</td>\n",
       "            <td>St George Basseterre</td>\n",
       "            <td>11600</td>\n",
       "        </tr>\n",
       "        <tr>\n",
       "            <td>LCA</td>\n",
       "            <td>Saint Lucia</td>\n",
       "            <td>North America</td>\n",
       "            <td>Caribbean</td>\n",
       "            <td>622.00</td>\n",
       "            <td>1979</td>\n",
       "            <td>154000</td>\n",
       "            <td>72.3</td>\n",
       "            <td>571.00</td>\n",
       "            <td>None</td>\n",
       "            <td>Saint Lucia</td>\n",
       "            <td>Constitutional Monarchy</td>\n",
       "            <td>Elisabeth II</td>\n",
       "            <td>3065</td>\n",
       "            <td>LC</td>\n",
       "            <td>3065</td>\n",
       "            <td>Castries</td>\n",
       "            <td>LCA</td>\n",
       "            <td>Castries</td>\n",
       "            <td>2301</td>\n",
       "        </tr>\n",
       "        <tr>\n",
       "            <td>MSR</td>\n",
       "            <td>Montserrat</td>\n",
       "            <td>North America</td>\n",
       "            <td>Caribbean</td>\n",
       "            <td>102.00</td>\n",
       "            <td>None</td>\n",
       "            <td>11000</td>\n",
       "            <td>78.0</td>\n",
       "            <td>109.00</td>\n",
       "            <td>None</td>\n",
       "            <td>Montserrat</td>\n",
       "            <td>Dependent Territory of the UK</td>\n",
       "            <td>Elisabeth II</td>\n",
       "            <td>2697</td>\n",
       "            <td>MS</td>\n",
       "            <td>2697</td>\n",
       "            <td>Plymouth</td>\n",
       "            <td>MSR</td>\n",
       "            <td>Plymouth</td>\n",
       "            <td>2000</td>\n",
       "        </tr>\n",
       "        <tr>\n",
       "            <td>MTQ</td>\n",
       "            <td>Martinique</td>\n",
       "            <td>North America</td>\n",
       "            <td>Caribbean</td>\n",
       "            <td>1102.00</td>\n",
       "            <td>None</td>\n",
       "            <td>395000</td>\n",
       "            <td>78.3</td>\n",
       "            <td>2731.00</td>\n",
       "            <td>2559.00</td>\n",
       "            <td>Martinique</td>\n",
       "            <td>Overseas Department of France</td>\n",
       "            <td>Jacques Chirac</td>\n",
       "            <td>2508</td>\n",
       "            <td>MQ</td>\n",
       "            <td>2508</td>\n",
       "            <td>Fort-de-France</td>\n",
       "            <td>MTQ</td>\n",
       "            <td>Fort-de-France</td>\n",
       "            <td>94050</td>\n",
       "        </tr>\n",
       "        <tr>\n",
       "            <td>PRI</td>\n",
       "            <td>Puerto Rico</td>\n",
       "            <td>North America</td>\n",
       "            <td>Caribbean</td>\n",
       "            <td>8875.00</td>\n",
       "            <td>None</td>\n",
       "            <td>3869000</td>\n",
       "            <td>75.6</td>\n",
       "            <td>34100.00</td>\n",
       "            <td>32100.00</td>\n",
       "            <td>Puerto Rico</td>\n",
       "            <td>Commonwealth of the US</td>\n",
       "            <td>George W. Bush</td>\n",
       "            <td>2919</td>\n",
       "            <td>PR</td>\n",
       "            <td>2919</td>\n",
       "            <td>San Juan</td>\n",
       "            <td>PRI</td>\n",
       "            <td>San Juan</td>\n",
       "            <td>434374</td>\n",
       "        </tr>\n",
       "        <tr>\n",
       "            <td>PRI</td>\n",
       "            <td>Puerto Rico</td>\n",
       "            <td>North America</td>\n",
       "            <td>Caribbean</td>\n",
       "            <td>8875.00</td>\n",
       "            <td>None</td>\n",
       "            <td>3869000</td>\n",
       "            <td>75.6</td>\n",
       "            <td>34100.00</td>\n",
       "            <td>32100.00</td>\n",
       "            <td>Puerto Rico</td>\n",
       "            <td>Commonwealth of the US</td>\n",
       "            <td>George W. Bush</td>\n",
       "            <td>2919</td>\n",
       "            <td>PR</td>\n",
       "            <td>2920</td>\n",
       "            <td>Bayamón</td>\n",
       "            <td>PRI</td>\n",
       "            <td>Bayamón</td>\n",
       "            <td>224044</td>\n",
       "        </tr>\n",
       "        <tr>\n",
       "            <td>PRI</td>\n",
       "            <td>Puerto Rico</td>\n",
       "            <td>North America</td>\n",
       "            <td>Caribbean</td>\n",
       "            <td>8875.00</td>\n",
       "            <td>None</td>\n",
       "            <td>3869000</td>\n",
       "            <td>75.6</td>\n",
       "            <td>34100.00</td>\n",
       "            <td>32100.00</td>\n",
       "            <td>Puerto Rico</td>\n",
       "            <td>Commonwealth of the US</td>\n",
       "            <td>George W. Bush</td>\n",
       "            <td>2919</td>\n",
       "            <td>PR</td>\n",
       "            <td>2921</td>\n",
       "            <td>Ponce</td>\n",
       "            <td>PRI</td>\n",
       "            <td>Ponce</td>\n",
       "            <td>186475</td>\n",
       "        </tr>\n",
       "        <tr>\n",
       "            <td>PRI</td>\n",
       "            <td>Puerto Rico</td>\n",
       "            <td>North America</td>\n",
       "            <td>Caribbean</td>\n",
       "            <td>8875.00</td>\n",
       "            <td>None</td>\n",
       "            <td>3869000</td>\n",
       "            <td>75.6</td>\n",
       "            <td>34100.00</td>\n",
       "            <td>32100.00</td>\n",
       "            <td>Puerto Rico</td>\n",
       "            <td>Commonwealth of the US</td>\n",
       "            <td>George W. Bush</td>\n",
       "            <td>2919</td>\n",
       "            <td>PR</td>\n",
       "            <td>2922</td>\n",
       "            <td>Carolina</td>\n",
       "            <td>PRI</td>\n",
       "            <td>Carolina</td>\n",
       "            <td>186076</td>\n",
       "        </tr>\n",
       "        <tr>\n",
       "            <td>PRI</td>\n",
       "            <td>Puerto Rico</td>\n",
       "            <td>North America</td>\n",
       "            <td>Caribbean</td>\n",
       "            <td>8875.00</td>\n",
       "            <td>None</td>\n",
       "            <td>3869000</td>\n",
       "            <td>75.6</td>\n",
       "            <td>34100.00</td>\n",
       "            <td>32100.00</td>\n",
       "            <td>Puerto Rico</td>\n",
       "            <td>Commonwealth of the US</td>\n",
       "            <td>George W. Bush</td>\n",
       "            <td>2919</td>\n",
       "            <td>PR</td>\n",
       "            <td>2923</td>\n",
       "            <td>Caguas</td>\n",
       "            <td>PRI</td>\n",
       "            <td>Caguas</td>\n",
       "            <td>140502</td>\n",
       "        </tr>\n",
       "        <tr>\n",
       "            <td>PRI</td>\n",
       "            <td>Puerto Rico</td>\n",
       "            <td>North America</td>\n",
       "            <td>Caribbean</td>\n",
       "            <td>8875.00</td>\n",
       "            <td>None</td>\n",
       "            <td>3869000</td>\n",
       "            <td>75.6</td>\n",
       "            <td>34100.00</td>\n",
       "            <td>32100.00</td>\n",
       "            <td>Puerto Rico</td>\n",
       "            <td>Commonwealth of the US</td>\n",
       "            <td>George W. Bush</td>\n",
       "            <td>2919</td>\n",
       "            <td>PR</td>\n",
       "            <td>2924</td>\n",
       "            <td>Arecibo</td>\n",
       "            <td>PRI</td>\n",
       "            <td>Arecibo</td>\n",
       "            <td>100131</td>\n",
       "        </tr>\n",
       "        <tr>\n",
       "            <td>PRI</td>\n",
       "            <td>Puerto Rico</td>\n",
       "            <td>North America</td>\n",
       "            <td>Caribbean</td>\n",
       "            <td>8875.00</td>\n",
       "            <td>None</td>\n",
       "            <td>3869000</td>\n",
       "            <td>75.6</td>\n",
       "            <td>34100.00</td>\n",
       "            <td>32100.00</td>\n",
       "            <td>Puerto Rico</td>\n",
       "            <td>Commonwealth of the US</td>\n",
       "            <td>George W. Bush</td>\n",
       "            <td>2919</td>\n",
       "            <td>PR</td>\n",
       "            <td>2925</td>\n",
       "            <td>Guaynabo</td>\n",
       "            <td>PRI</td>\n",
       "            <td>Guaynabo</td>\n",
       "            <td>100053</td>\n",
       "        </tr>\n",
       "        <tr>\n",
       "            <td>PRI</td>\n",
       "            <td>Puerto Rico</td>\n",
       "            <td>North America</td>\n",
       "            <td>Caribbean</td>\n",
       "            <td>8875.00</td>\n",
       "            <td>None</td>\n",
       "            <td>3869000</td>\n",
       "            <td>75.6</td>\n",
       "            <td>34100.00</td>\n",
       "            <td>32100.00</td>\n",
       "            <td>Puerto Rico</td>\n",
       "            <td>Commonwealth of the US</td>\n",
       "            <td>George W. Bush</td>\n",
       "            <td>2919</td>\n",
       "            <td>PR</td>\n",
       "            <td>2926</td>\n",
       "            <td>Mayagüez</td>\n",
       "            <td>PRI</td>\n",
       "            <td>Mayagüez</td>\n",
       "            <td>98434</td>\n",
       "        </tr>\n",
       "        <tr>\n",
       "            <td>PRI</td>\n",
       "            <td>Puerto Rico</td>\n",
       "            <td>North America</td>\n",
       "            <td>Caribbean</td>\n",
       "            <td>8875.00</td>\n",
       "            <td>None</td>\n",
       "            <td>3869000</td>\n",
       "            <td>75.6</td>\n",
       "            <td>34100.00</td>\n",
       "            <td>32100.00</td>\n",
       "            <td>Puerto Rico</td>\n",
       "            <td>Commonwealth of the US</td>\n",
       "            <td>George W. Bush</td>\n",
       "            <td>2919</td>\n",
       "            <td>PR</td>\n",
       "            <td>2927</td>\n",
       "            <td>Toa Baja</td>\n",
       "            <td>PRI</td>\n",
       "            <td>Toa Baja</td>\n",
       "            <td>94085</td>\n",
       "        </tr>\n",
       "        <tr>\n",
       "            <td>TCA</td>\n",
       "            <td>Turks and Caicos Islands</td>\n",
       "            <td>North America</td>\n",
       "            <td>Caribbean</td>\n",
       "            <td>430.00</td>\n",
       "            <td>None</td>\n",
       "            <td>17000</td>\n",
       "            <td>73.3</td>\n",
       "            <td>96.00</td>\n",
       "            <td>None</td>\n",
       "            <td>The Turks and Caicos Islands</td>\n",
       "            <td>Dependent Territory of the UK</td>\n",
       "            <td>Elisabeth II</td>\n",
       "            <td>3423</td>\n",
       "            <td>TC</td>\n",
       "            <td>3423</td>\n",
       "            <td>Cockburn Town</td>\n",
       "            <td>TCA</td>\n",
       "            <td>Grand Turk</td>\n",
       "            <td>4800</td>\n",
       "        </tr>\n",
       "        <tr>\n",
       "            <td>TTO</td>\n",
       "            <td>Trinidad and Tobago</td>\n",
       "            <td>North America</td>\n",
       "            <td>Caribbean</td>\n",
       "            <td>5130.00</td>\n",
       "            <td>1962</td>\n",
       "            <td>1295000</td>\n",
       "            <td>68.0</td>\n",
       "            <td>6232.00</td>\n",
       "            <td>5867.00</td>\n",
       "            <td>Trinidad and Tobago</td>\n",
       "            <td>Republic</td>\n",
       "            <td>Arthur N. R. Robinson</td>\n",
       "            <td>3336</td>\n",
       "            <td>TT</td>\n",
       "            <td>3335</td>\n",
       "            <td>Chaguanas</td>\n",
       "            <td>TTO</td>\n",
       "            <td>Caroni</td>\n",
       "            <td>56601</td>\n",
       "        </tr>\n",
       "        <tr>\n",
       "            <td>TTO</td>\n",
       "            <td>Trinidad and Tobago</td>\n",
       "            <td>North America</td>\n",
       "            <td>Caribbean</td>\n",
       "            <td>5130.00</td>\n",
       "            <td>1962</td>\n",
       "            <td>1295000</td>\n",
       "            <td>68.0</td>\n",
       "            <td>6232.00</td>\n",
       "            <td>5867.00</td>\n",
       "            <td>Trinidad and Tobago</td>\n",
       "            <td>Republic</td>\n",
       "            <td>Arthur N. R. Robinson</td>\n",
       "            <td>3336</td>\n",
       "            <td>TT</td>\n",
       "            <td>3336</td>\n",
       "            <td>Port-of-Spain</td>\n",
       "            <td>TTO</td>\n",
       "            <td>Port-of-Spain</td>\n",
       "            <td>43396</td>\n",
       "        </tr>\n",
       "        <tr>\n",
       "            <td>VCT</td>\n",
       "            <td>Saint Vincent and the Grenadines</td>\n",
       "            <td>North America</td>\n",
       "            <td>Caribbean</td>\n",
       "            <td>388.00</td>\n",
       "            <td>1979</td>\n",
       "            <td>114000</td>\n",
       "            <td>72.3</td>\n",
       "            <td>285.00</td>\n",
       "            <td>None</td>\n",
       "            <td>Saint Vincent and the Grenadines</td>\n",
       "            <td>Constitutional Monarchy</td>\n",
       "            <td>Elisabeth II</td>\n",
       "            <td>3066</td>\n",
       "            <td>VC</td>\n",
       "            <td>3066</td>\n",
       "            <td>Kingstown</td>\n",
       "            <td>VCT</td>\n",
       "            <td>St George</td>\n",
       "            <td>17100</td>\n",
       "        </tr>\n",
       "        <tr>\n",
       "            <td>VGB</td>\n",
       "            <td>Virgin Islands, British</td>\n",
       "            <td>North America</td>\n",
       "            <td>Caribbean</td>\n",
       "            <td>151.00</td>\n",
       "            <td>None</td>\n",
       "            <td>21000</td>\n",
       "            <td>75.4</td>\n",
       "            <td>612.00</td>\n",
       "            <td>573.00</td>\n",
       "            <td>British Virgin Islands</td>\n",
       "            <td>Dependent Territory of the UK</td>\n",
       "            <td>Elisabeth II</td>\n",
       "            <td>537</td>\n",
       "            <td>VG</td>\n",
       "            <td>537</td>\n",
       "            <td>Road Town</td>\n",
       "            <td>VGB</td>\n",
       "            <td>Tortola</td>\n",
       "            <td>8000</td>\n",
       "        </tr>\n",
       "        <tr>\n",
       "            <td>VIR</td>\n",
       "            <td>Virgin Islands, U.S.</td>\n",
       "            <td>North America</td>\n",
       "            <td>Caribbean</td>\n",
       "            <td>347.00</td>\n",
       "            <td>None</td>\n",
       "            <td>93000</td>\n",
       "            <td>78.1</td>\n",
       "            <td>0.00</td>\n",
       "            <td>None</td>\n",
       "            <td>Virgin Islands of the United States</td>\n",
       "            <td>US Territory</td>\n",
       "            <td>George W. Bush</td>\n",
       "            <td>4067</td>\n",
       "            <td>VI</td>\n",
       "            <td>4067</td>\n",
       "            <td>Charlotte Amalie</td>\n",
       "            <td>VIR</td>\n",
       "            <td>St Thomas</td>\n",
       "            <td>13000</td>\n",
       "        </tr>\n",
       "    </tbody>\n",
       "</table>"
      ],
      "text/plain": [
       "[('ABW', 'Aruba', 'North America', 'Caribbean', Decimal('193.00'), None, 103000, Decimal('78.4'), Decimal('828.00'), Decimal('793.00'), 'Aruba', 'Nonmetropolitan Territory of The Netherlands', 'Beatrix', 129, 'AW', 129, 'Oranjestad', 'ABW', '–', 29034),\n",
       " ('AIA', 'Anguilla', 'North America', 'Caribbean', Decimal('96.00'), None, 8000, Decimal('76.1'), Decimal('63.20'), None, 'Anguilla', 'Dependent Territory of the UK', 'Elisabeth II', 62, 'AI', 61, 'South Hill', 'AIA', '–', 961),\n",
       " ('AIA', 'Anguilla', 'North America', 'Caribbean', Decimal('96.00'), None, 8000, Decimal('76.1'), Decimal('63.20'), None, 'Anguilla', 'Dependent Territory of the UK', 'Elisabeth II', 62, 'AI', 62, 'The Valley', 'AIA', '–', 595),\n",
       " ('ANT', 'Netherlands Antilles', 'North America', 'Caribbean', Decimal('800.00'), None, 217000, Decimal('74.7'), Decimal('1941.00'), None, 'Nederlandse Antillen', 'Nonmetropolitan Territory of The Netherlands', 'Beatrix', 33, 'AN', 33, 'Willemstad', 'ANT', 'Curaçao', 2345),\n",
       " ('ATG', 'Antigua and Barbuda', 'North America', 'Caribbean', Decimal('442.00'), 1981, 68000, Decimal('70.5'), Decimal('612.00'), Decimal('584.00'), 'Antigua and Barbuda', 'Constitutional Monarchy', 'Elisabeth II', 63, 'AG', 63, 'Saint John´s', 'ATG', 'St John', 24000),\n",
       " ('BHS', 'Bahamas', 'North America', 'Caribbean', Decimal('13878.00'), 1973, 307000, Decimal('71.1'), Decimal('3527.00'), Decimal('3347.00'), 'The Bahamas', 'Constitutional Monarchy', 'Elisabeth II', 148, 'BS', 148, 'Nassau', 'BHS', 'New Providence', 172000),\n",
       " ('BRB', 'Barbados', 'North America', 'Caribbean', Decimal('430.00'), 1966, 270000, Decimal('73.0'), Decimal('2223.00'), Decimal('2186.00'), 'Barbados', 'Constitutional Monarchy', 'Elisabeth II', 174, 'BB', 174, 'Bridgetown', 'BRB', 'St Michael', 6070),\n",
       " ('CUB', 'Cuba', 'North America', 'Caribbean', Decimal('110861.00'), 1902, 11201000, Decimal('76.2'), Decimal('17843.00'), Decimal('18862.00'), 'Cuba', 'Socialistic Republic', 'Fidel Castro Ruz', 2413, 'CU', 2413, 'La Habana', 'CUB', 'La Habana', 2256000),\n",
       " ('CUB', 'Cuba', 'North America', 'Caribbean', Decimal('110861.00'), 1902, 11201000, Decimal('76.2'), Decimal('17843.00'), Decimal('18862.00'), 'Cuba', 'Socialistic Republic', 'Fidel Castro Ruz', 2413, 'CU', 2414, 'Santiago de Cuba', 'CUB', 'Santiago de Cuba', 433180),\n",
       " ('CUB', 'Cuba', 'North America', 'Caribbean', Decimal('110861.00'), 1902, 11201000, Decimal('76.2'), Decimal('17843.00'), Decimal('18862.00'), 'Cuba', 'Socialistic Republic', 'Fidel Castro Ruz', 2413, 'CU', 2415, 'Camagüey', 'CUB', 'Camagüey', 298726),\n",
       " ('CUB', 'Cuba', 'North America', 'Caribbean', Decimal('110861.00'), 1902, 11201000, Decimal('76.2'), Decimal('17843.00'), Decimal('18862.00'), 'Cuba', 'Socialistic Republic', 'Fidel Castro Ruz', 2413, 'CU', 2416, 'Holguín', 'CUB', 'Holguín', 249492),\n",
       " ('CUB', 'Cuba', 'North America', 'Caribbean', Decimal('110861.00'), 1902, 11201000, Decimal('76.2'), Decimal('17843.00'), Decimal('18862.00'), 'Cuba', 'Socialistic Republic', 'Fidel Castro Ruz', 2413, 'CU', 2417, 'Santa Clara', 'CUB', 'Villa Clara', 207350),\n",
       " ('CUB', 'Cuba', 'North America', 'Caribbean', Decimal('110861.00'), 1902, 11201000, Decimal('76.2'), Decimal('17843.00'), Decimal('18862.00'), 'Cuba', 'Socialistic Republic', 'Fidel Castro Ruz', 2413, 'CU', 2418, 'Guantánamo', 'CUB', 'Guantánamo', 205078),\n",
       " ('CUB', 'Cuba', 'North America', 'Caribbean', Decimal('110861.00'), 1902, 11201000, Decimal('76.2'), Decimal('17843.00'), Decimal('18862.00'), 'Cuba', 'Socialistic Republic', 'Fidel Castro Ruz', 2413, 'CU', 2419, 'Pinar del Río', 'CUB', 'Pinar del Río', 142100),\n",
       " ('CUB', 'Cuba', 'North America', 'Caribbean', Decimal('110861.00'), 1902, 11201000, Decimal('76.2'), Decimal('17843.00'), Decimal('18862.00'), 'Cuba', 'Socialistic Republic', 'Fidel Castro Ruz', 2413, 'CU', 2420, 'Bayamo', 'CUB', 'Granma', 141000),\n",
       " ('CUB', 'Cuba', 'North America', 'Caribbean', Decimal('110861.00'), 1902, 11201000, Decimal('76.2'), Decimal('17843.00'), Decimal('18862.00'), 'Cuba', 'Socialistic Republic', 'Fidel Castro Ruz', 2413, 'CU', 2421, 'Cienfuegos', 'CUB', 'Cienfuegos', 132770),\n",
       " ('CUB', 'Cuba', 'North America', 'Caribbean', Decimal('110861.00'), 1902, 11201000, Decimal('76.2'), Decimal('17843.00'), Decimal('18862.00'), 'Cuba', 'Socialistic Republic', 'Fidel Castro Ruz', 2413, 'CU', 2422, 'Victoria de las Tunas', 'CUB', 'Las Tunas', 132350),\n",
       " ('CUB', 'Cuba', 'North America', 'Caribbean', Decimal('110861.00'), 1902, 11201000, Decimal('76.2'), Decimal('17843.00'), Decimal('18862.00'), 'Cuba', 'Socialistic Republic', 'Fidel Castro Ruz', 2413, 'CU', 2423, 'Matanzas', 'CUB', 'Matanzas', 123273),\n",
       " ('CUB', 'Cuba', 'North America', 'Caribbean', Decimal('110861.00'), 1902, 11201000, Decimal('76.2'), Decimal('17843.00'), Decimal('18862.00'), 'Cuba', 'Socialistic Republic', 'Fidel Castro Ruz', 2413, 'CU', 2424, 'Manzanillo', 'CUB', 'Granma', 109350),\n",
       " ('CUB', 'Cuba', 'North America', 'Caribbean', Decimal('110861.00'), 1902, 11201000, Decimal('76.2'), Decimal('17843.00'), Decimal('18862.00'), 'Cuba', 'Socialistic Republic', 'Fidel Castro Ruz', 2413, 'CU', 2425, 'Sancti-Spíritus', 'CUB', 'Sancti-Spíritus', 100751),\n",
       " ('CUB', 'Cuba', 'North America', 'Caribbean', Decimal('110861.00'), 1902, 11201000, Decimal('76.2'), Decimal('17843.00'), Decimal('18862.00'), 'Cuba', 'Socialistic Republic', 'Fidel Castro Ruz', 2413, 'CU', 2426, 'Ciego de Ávila', 'CUB', 'Ciego de Ávila', 98505),\n",
       " ('CYM', 'Cayman Islands', 'North America', 'Caribbean', Decimal('264.00'), None, 38000, Decimal('78.9'), Decimal('1263.00'), Decimal('1186.00'), 'Cayman Islands', 'Dependent Territory of the UK', 'Elisabeth II', 553, 'KY', 553, 'George Town', 'CYM', 'Grand Cayman', 19600),\n",
       " ('DMA', 'Dominica', 'North America', 'Caribbean', Decimal('751.00'), 1978, 71000, Decimal('73.4'), Decimal('256.00'), Decimal('243.00'), 'Dominica', 'Republic', 'Vernon Shaw', 586, 'DM', 586, 'Roseau', 'DMA', 'St George', 16243),\n",
       " ('DOM', 'Dominican Republic', 'North America', 'Caribbean', Decimal('48511.00'), 1844, 8495000, Decimal('73.2'), Decimal('15846.00'), Decimal('15076.00'), 'República Dominicana', 'Republic', 'Hipólito Mejía Domínguez', 587, 'DO', 587, 'Santo Domingo de Guzmán', 'DOM', 'Distrito Nacional', 1609966),\n",
       " ('DOM', 'Dominican Republic', 'North America', 'Caribbean', Decimal('48511.00'), 1844, 8495000, Decimal('73.2'), Decimal('15846.00'), Decimal('15076.00'), 'República Dominicana', 'Republic', 'Hipólito Mejía Domínguez', 587, 'DO', 588, 'Santiago de los Caballeros', 'DOM', 'Santiago', 365463),\n",
       " ('DOM', 'Dominican Republic', 'North America', 'Caribbean', Decimal('48511.00'), 1844, 8495000, Decimal('73.2'), Decimal('15846.00'), Decimal('15076.00'), 'República Dominicana', 'Republic', 'Hipólito Mejía Domínguez', 587, 'DO', 589, 'La Romana', 'DOM', 'La Romana', 140204),\n",
       " ('DOM', 'Dominican Republic', 'North America', 'Caribbean', Decimal('48511.00'), 1844, 8495000, Decimal('73.2'), Decimal('15846.00'), Decimal('15076.00'), 'República Dominicana', 'Republic', 'Hipólito Mejía Domínguez', 587, 'DO', 590, 'San Pedro de Macorís', 'DOM', 'San Pedro de Macorís', 124735),\n",
       " ('DOM', 'Dominican Republic', 'North America', 'Caribbean', Decimal('48511.00'), 1844, 8495000, Decimal('73.2'), Decimal('15846.00'), Decimal('15076.00'), 'República Dominicana', 'Republic', 'Hipólito Mejía Domínguez', 587, 'DO', 591, 'San Francisco de Macorís', 'DOM', 'Duarte', 108485),\n",
       " ('DOM', 'Dominican Republic', 'North America', 'Caribbean', Decimal('48511.00'), 1844, 8495000, Decimal('73.2'), Decimal('15846.00'), Decimal('15076.00'), 'República Dominicana', 'Republic', 'Hipólito Mejía Domínguez', 587, 'DO', 592, 'San Felipe de Puerto Plata', 'DOM', 'Puerto Plata', 89423),\n",
       " ('GLP', 'Guadeloupe', 'North America', 'Caribbean', Decimal('1705.00'), None, 456000, Decimal('77.0'), Decimal('3501.00'), None, 'Guadeloupe', 'Overseas Department of France', 'Jacques Chirac', 919, 'GP', 918, 'Les Abymes', 'GLP', 'Grande-Terre', 62947),\n",
       " ('GLP', 'Guadeloupe', 'North America', 'Caribbean', Decimal('1705.00'), None, 456000, Decimal('77.0'), Decimal('3501.00'), None, 'Guadeloupe', 'Overseas Department of France', 'Jacques Chirac', 919, 'GP', 919, 'Basse-Terre', 'GLP', 'Basse-Terre', 12433),\n",
       " ('GRD', 'Grenada', 'North America', 'Caribbean', Decimal('344.00'), 1974, 94000, Decimal('64.5'), Decimal('318.00'), None, 'Grenada', 'Constitutional Monarchy', 'Elisabeth II', 916, 'GD', 916, 'Saint George´s', 'GRD', 'St George', 4621),\n",
       " ('HTI', 'Haiti', 'North America', 'Caribbean', Decimal('27750.00'), 1804, 8222000, Decimal('49.2'), Decimal('3459.00'), Decimal('3107.00'), 'Haïti/Dayti', 'Republic', 'Jean-Bertrand Aristide', 929, 'HT', 929, 'Port-au-Prince', 'HTI', 'Ouest', 884472),\n",
       " ('HTI', 'Haiti', 'North America', 'Caribbean', Decimal('27750.00'), 1804, 8222000, Decimal('49.2'), Decimal('3459.00'), Decimal('3107.00'), 'Haïti/Dayti', 'Republic', 'Jean-Bertrand Aristide', 929, 'HT', 930, 'Carrefour', 'HTI', 'Ouest', 290204),\n",
       " ('HTI', 'Haiti', 'North America', 'Caribbean', Decimal('27750.00'), 1804, 8222000, Decimal('49.2'), Decimal('3459.00'), Decimal('3107.00'), 'Haïti/Dayti', 'Republic', 'Jean-Bertrand Aristide', 929, 'HT', 931, 'Delmas', 'HTI', 'Ouest', 240429),\n",
       " ('HTI', 'Haiti', 'North America', 'Caribbean', Decimal('27750.00'), 1804, 8222000, Decimal('49.2'), Decimal('3459.00'), Decimal('3107.00'), 'Haïti/Dayti', 'Republic', 'Jean-Bertrand Aristide', 929, 'HT', 932, 'Le-Cap-Haïtien', 'HTI', 'Nord', 102233),\n",
       " ('JAM', 'Jamaica', 'North America', 'Caribbean', Decimal('10990.00'), 1962, 2583000, Decimal('75.2'), Decimal('6871.00'), Decimal('6722.00'), 'Jamaica', 'Constitutional Monarchy', 'Elisabeth II', 1530, 'JM', 1529, 'Spanish Town', 'JAM', 'St. Catherine', 110379),\n",
       " ('JAM', 'Jamaica', 'North America', 'Caribbean', Decimal('10990.00'), 1962, 2583000, Decimal('75.2'), Decimal('6871.00'), Decimal('6722.00'), 'Jamaica', 'Constitutional Monarchy', 'Elisabeth II', 1530, 'JM', 1530, 'Kingston', 'JAM', 'St. Andrew', 103962),\n",
       " ('JAM', 'Jamaica', 'North America', 'Caribbean', Decimal('10990.00'), 1962, 2583000, Decimal('75.2'), Decimal('6871.00'), Decimal('6722.00'), 'Jamaica', 'Constitutional Monarchy', 'Elisabeth II', 1530, 'JM', 1531, 'Portmore', 'JAM', 'St. Andrew', 99799),\n",
       " ('KNA', 'Saint Kitts and Nevis', 'North America', 'Caribbean', Decimal('261.00'), 1983, 38000, Decimal('70.7'), Decimal('299.00'), None, 'Saint Kitts and Nevis', 'Constitutional Monarchy', 'Elisabeth II', 3064, 'KN', 3064, 'Basseterre', 'KNA', 'St George Basseterre', 11600),\n",
       " ('LCA', 'Saint Lucia', 'North America', 'Caribbean', Decimal('622.00'), 1979, 154000, Decimal('72.3'), Decimal('571.00'), None, 'Saint Lucia', 'Constitutional Monarchy', 'Elisabeth II', 3065, 'LC', 3065, 'Castries', 'LCA', 'Castries', 2301),\n",
       " ('MSR', 'Montserrat', 'North America', 'Caribbean', Decimal('102.00'), None, 11000, Decimal('78.0'), Decimal('109.00'), None, 'Montserrat', 'Dependent Territory of the UK', 'Elisabeth II', 2697, 'MS', 2697, 'Plymouth', 'MSR', 'Plymouth', 2000),\n",
       " ('MTQ', 'Martinique', 'North America', 'Caribbean', Decimal('1102.00'), None, 395000, Decimal('78.3'), Decimal('2731.00'), Decimal('2559.00'), 'Martinique', 'Overseas Department of France', 'Jacques Chirac', 2508, 'MQ', 2508, 'Fort-de-France', 'MTQ', 'Fort-de-France', 94050),\n",
       " ('PRI', 'Puerto Rico', 'North America', 'Caribbean', Decimal('8875.00'), None, 3869000, Decimal('75.6'), Decimal('34100.00'), Decimal('32100.00'), 'Puerto Rico', 'Commonwealth of the US', 'George W. Bush', 2919, 'PR', 2919, 'San Juan', 'PRI', 'San Juan', 434374),\n",
       " ('PRI', 'Puerto Rico', 'North America', 'Caribbean', Decimal('8875.00'), None, 3869000, Decimal('75.6'), Decimal('34100.00'), Decimal('32100.00'), 'Puerto Rico', 'Commonwealth of the US', 'George W. Bush', 2919, 'PR', 2920, 'Bayamón', 'PRI', 'Bayamón', 224044),\n",
       " ('PRI', 'Puerto Rico', 'North America', 'Caribbean', Decimal('8875.00'), None, 3869000, Decimal('75.6'), Decimal('34100.00'), Decimal('32100.00'), 'Puerto Rico', 'Commonwealth of the US', 'George W. Bush', 2919, 'PR', 2921, 'Ponce', 'PRI', 'Ponce', 186475),\n",
       " ('PRI', 'Puerto Rico', 'North America', 'Caribbean', Decimal('8875.00'), None, 3869000, Decimal('75.6'), Decimal('34100.00'), Decimal('32100.00'), 'Puerto Rico', 'Commonwealth of the US', 'George W. Bush', 2919, 'PR', 2922, 'Carolina', 'PRI', 'Carolina', 186076),\n",
       " ('PRI', 'Puerto Rico', 'North America', 'Caribbean', Decimal('8875.00'), None, 3869000, Decimal('75.6'), Decimal('34100.00'), Decimal('32100.00'), 'Puerto Rico', 'Commonwealth of the US', 'George W. Bush', 2919, 'PR', 2923, 'Caguas', 'PRI', 'Caguas', 140502),\n",
       " ('PRI', 'Puerto Rico', 'North America', 'Caribbean', Decimal('8875.00'), None, 3869000, Decimal('75.6'), Decimal('34100.00'), Decimal('32100.00'), 'Puerto Rico', 'Commonwealth of the US', 'George W. Bush', 2919, 'PR', 2924, 'Arecibo', 'PRI', 'Arecibo', 100131),\n",
       " ('PRI', 'Puerto Rico', 'North America', 'Caribbean', Decimal('8875.00'), None, 3869000, Decimal('75.6'), Decimal('34100.00'), Decimal('32100.00'), 'Puerto Rico', 'Commonwealth of the US', 'George W. Bush', 2919, 'PR', 2925, 'Guaynabo', 'PRI', 'Guaynabo', 100053),\n",
       " ('PRI', 'Puerto Rico', 'North America', 'Caribbean', Decimal('8875.00'), None, 3869000, Decimal('75.6'), Decimal('34100.00'), Decimal('32100.00'), 'Puerto Rico', 'Commonwealth of the US', 'George W. Bush', 2919, 'PR', 2926, 'Mayagüez', 'PRI', 'Mayagüez', 98434),\n",
       " ('PRI', 'Puerto Rico', 'North America', 'Caribbean', Decimal('8875.00'), None, 3869000, Decimal('75.6'), Decimal('34100.00'), Decimal('32100.00'), 'Puerto Rico', 'Commonwealth of the US', 'George W. Bush', 2919, 'PR', 2927, 'Toa Baja', 'PRI', 'Toa Baja', 94085),\n",
       " ('TCA', 'Turks and Caicos Islands', 'North America', 'Caribbean', Decimal('430.00'), None, 17000, Decimal('73.3'), Decimal('96.00'), None, 'The Turks and Caicos Islands', 'Dependent Territory of the UK', 'Elisabeth II', 3423, 'TC', 3423, 'Cockburn Town', 'TCA', 'Grand Turk', 4800),\n",
       " ('TTO', 'Trinidad and Tobago', 'North America', 'Caribbean', Decimal('5130.00'), 1962, 1295000, Decimal('68.0'), Decimal('6232.00'), Decimal('5867.00'), 'Trinidad and Tobago', 'Republic', 'Arthur N. R. Robinson', 3336, 'TT', 3335, 'Chaguanas', 'TTO', 'Caroni', 56601),\n",
       " ('TTO', 'Trinidad and Tobago', 'North America', 'Caribbean', Decimal('5130.00'), 1962, 1295000, Decimal('68.0'), Decimal('6232.00'), Decimal('5867.00'), 'Trinidad and Tobago', 'Republic', 'Arthur N. R. Robinson', 3336, 'TT', 3336, 'Port-of-Spain', 'TTO', 'Port-of-Spain', 43396),\n",
       " ('VCT', 'Saint Vincent and the Grenadines', 'North America', 'Caribbean', Decimal('388.00'), 1979, 114000, Decimal('72.3'), Decimal('285.00'), None, 'Saint Vincent and the Grenadines', 'Constitutional Monarchy', 'Elisabeth II', 3066, 'VC', 3066, 'Kingstown', 'VCT', 'St George', 17100),\n",
       " ('VGB', 'Virgin Islands, British', 'North America', 'Caribbean', Decimal('151.00'), None, 21000, Decimal('75.4'), Decimal('612.00'), Decimal('573.00'), 'British Virgin Islands', 'Dependent Territory of the UK', 'Elisabeth II', 537, 'VG', 537, 'Road Town', 'VGB', 'Tortola', 8000),\n",
       " ('VIR', 'Virgin Islands, U.S.', 'North America', 'Caribbean', Decimal('347.00'), None, 93000, Decimal('78.1'), Decimal('0.00'), None, 'Virgin Islands of the United States', 'US Territory', 'George W. Bush', 4067, 'VI', 4067, 'Charlotte Amalie', 'VIR', 'St Thomas', 13000)]"
      ]
     },
     "execution_count": 19,
     "metadata": {},
     "output_type": "execute_result"
    }
   ],
   "source": [
    "%%sql\n",
    "\n",
    "SELECT *\n",
    "FROM country\n",
    "JOIN city ON country.Code=city.CountryCode\n",
    "WHERE country.Region=\"Caribbean\";"
   ]
  },
  {
   "cell_type": "markdown",
   "id": "d2e2d314-0425-4469-abfb-99dda1b36ee5",
   "metadata": {},
   "source": [
    "Final solution:"
   ]
  },
  {
   "cell_type": "code",
   "execution_count": 20,
   "id": "089809c3",
   "metadata": {
    "scrolled": true
   },
   "outputs": [
    {
     "name": "stdout",
     "output_type": "stream",
     "text": [
      " * mysql+mysqlconnector://root:***@db\n",
      "1 rows affected.\n"
     ]
    },
    {
     "data": {
      "text/html": [
       "<table>\n",
       "    <thead>\n",
       "        <tr>\n",
       "            <th>SUM(city.Population)</th>\n",
       "        </tr>\n",
       "    </thead>\n",
       "    <tbody>\n",
       "        <tr>\n",
       "            <td>11067550</td>\n",
       "        </tr>\n",
       "    </tbody>\n",
       "</table>"
      ],
      "text/plain": [
       "[(Decimal('11067550'),)]"
      ]
     },
     "execution_count": 20,
     "metadata": {},
     "output_type": "execute_result"
    }
   ],
   "source": [
    "%%sql\n",
    "\n",
    "SELECT SUM(city.Population)\n",
    "FROM country\n",
    "JOIN city ON country.Code=city.CountryCode\n",
    "WHERE country.Region=\"Caribbean\";"
   ]
  },
  {
   "cell_type": "markdown",
   "id": "88ca7683",
   "metadata": {},
   "source": [
    "#### 7 - What Countries have a City named \"Kingston\"?"
   ]
  },
  {
   "cell_type": "code",
   "execution_count": 78,
   "id": "7886edc0",
   "metadata": {},
   "outputs": [
    {
     "name": "stdout",
     "output_type": "stream",
     "text": [
      " * mysql+mysqlconnector://root:***@db\n",
      "0 rows affected.\n"
     ]
    },
    {
     "data": {
      "text/plain": [
       "[]"
      ]
     },
     "execution_count": 78,
     "metadata": {},
     "output_type": "execute_result"
    }
   ],
   "source": [
    "%%sql\n",
    "\n",
    "SELECT *\n",
    "FROM country\n",
    "JOIN  ON country.Code=city.CountryCode\n",
    "WHERE city.Name=\"Kingston\";"
   ]
  },
  {
   "cell_type": "code",
   "execution_count": null,
   "id": "ca5654a0-9a84-4a90-a259-722570b2f933",
   "metadata": {},
   "outputs": [],
   "source": [
    "%%sql\n",
    "\n",
    "SELECT DISTINCT country.Name\n",
    "FROM country\n",
    "JOIN  ON country.Code=city.CountryCode\n",
    "WHERE city.Name=\"Kingston\";"
   ]
  },
  {
   "cell_type": "markdown",
   "id": "046c582c-f4bb-44f3-9059-f70400cf4028",
   "metadata": {},
   "source": [
    "If you want to look for cities which have \"Kingston\" in the name, you modify the code as such:"
   ]
  },
  {
   "cell_type": "code",
   "execution_count": null,
   "id": "b1160c79-ee80-4354-80b4-c73a0e2027ad",
   "metadata": {},
   "outputs": [],
   "source": [
    "%%sql\n",
    "\n",
    "SELECT DISTINCT country.Name\n",
    "FROM country\n",
    "JOIN  ON country.Code=city.CountryCode\n",
    "WHERE city.Name LIKE \"Kingston%\";"
   ]
  },
  {
   "cell_type": "markdown",
   "id": "51b4dbf2",
   "metadata": {},
   "source": [
    "#### 8 - Plot the population density by country, limiting to the 25 with the least density."
   ]
  },
  {
   "cell_type": "markdown",
   "id": "49e25490",
   "metadata": {},
   "source": [
    "The population density is the total `Population` of a country divided by the `SurfaceArea`.\n",
    "We can compute (and create as a new feature) this quantity on the fly during a `SELECT` statement and rename it with an `ALIAS` for convenience."
   ]
  },
  {
   "cell_type": "code",
   "execution_count": 5,
   "id": "f3064c55-7e21-4d4a-bbdc-b4543ebc191d",
   "metadata": {},
   "outputs": [],
   "source": [
    "import matplotlib.pyplot as plt"
   ]
  },
  {
   "cell_type": "code",
   "execution_count": 6,
   "id": "77e4947a-0f52-4857-bf79-0508b8aa768b",
   "metadata": {},
   "outputs": [
    {
     "name": "stderr",
     "output_type": "stream",
     "text": [
      "UsageError: Cell magic `%%sql` not found.\n"
     ]
    }
   ],
   "source": [
    "%%sql\n",
    "\n",
    "SELECT Name, Population/SurfaceArea AS Density\n",
    "FROM country\n",
    "ORDER BY Density ASC\n",
    "LIMIT 25;"
   ]
  },
  {
   "cell_type": "code",
   "execution_count": 79,
   "id": "381466c5",
   "metadata": {
    "scrolled": true
   },
   "outputs": [
    {
     "name": "stdout",
     "output_type": "stream",
     "text": [
      " * mysql+mysqlconnector://root:***@db\n",
      "(mysql.connector.errors.ProgrammingError) 1064 (42000): You have an error in your SQL syntax; check the manual that corresponds to your MySQL server version for the right syntax to use near 'FROM ORDER BY LIMIT' at line 1\n",
      "[SQL: SELECT FROM ORDER BY LIMIT ;]\n",
      "(Background on this error at: https://sqlalche.me/e/20/f405)\n",
      "None\n"
     ]
    },
    {
     "ename": "AttributeError",
     "evalue": "'NoneType' object has no attribute 'bar'",
     "output_type": "error",
     "traceback": [
      "\u001b[0;31m---------------------------------------------------------------------------\u001b[0m",
      "\u001b[0;31mAttributeError\u001b[0m                            Traceback (most recent call last)",
      "Cell \u001b[0;32mIn[79], line 6\u001b[0m\n\u001b[1;32m      3\u001b[0m \u001b[38;5;28mprint\u001b[39m(res_)\n\u001b[1;32m      5\u001b[0m plt\u001b[38;5;241m.\u001b[39mfigure(figsize\u001b[38;5;241m=\u001b[39m(\u001b[38;5;241m16\u001b[39m,\u001b[38;5;241m3\u001b[39m))\n\u001b[0;32m----> 6\u001b[0m \u001b[43mres_\u001b[49m\u001b[38;5;241;43m.\u001b[39;49m\u001b[43mbar\u001b[49m();\n\u001b[1;32m      7\u001b[0m plt\u001b[38;5;241m.\u001b[39mxticks(rotation\u001b[38;5;241m=\u001b[39m\u001b[38;5;124m'\u001b[39m\u001b[38;5;124mvertical\u001b[39m\u001b[38;5;124m'\u001b[39m);\n",
      "\u001b[0;31mAttributeError\u001b[0m: 'NoneType' object has no attribute 'bar'"
     ]
    },
    {
     "data": {
      "text/plain": [
       "<Figure size 1600x300 with 0 Axes>"
      ]
     },
     "metadata": {},
     "output_type": "display_data"
    }
   ],
   "source": [
    "res_ = %sql SELECT Name, Population/SurfaceArea AS Density FROM country ORDER BY Density ASC LIMIT 25;;\n",
    "\n",
    "print(res_)\n",
    "\n",
    "plt.figure(figsize=(16,3))\n",
    "res_.bar();\n",
    "plt.xticks(rotation='vertical');"
   ]
  },
  {
   "cell_type": "markdown",
   "id": "03f10978",
   "metadata": {},
   "source": [
    "#### 9 - Plot the GNP (Gross Nation Product) of all countries that become independent between 1850 and 1910, limiting to the 10 with the highest GNP"
   ]
  },
  {
   "cell_type": "markdown",
   "id": "87da9759",
   "metadata": {},
   "source": [
    "We can use `BETWEEN a AND b` to select only those entries between two extremes;"
   ]
  },
  {
   "cell_type": "code",
   "execution_count": null,
   "id": "dad6d286-b322-4b2a-95e6-b3caa2963bc9",
   "metadata": {},
   "outputs": [],
   "source": [
    "%%sql\n",
    "\n",
    "SELECT Name, GNP\n",
    "FROM country\n",
    "WHERE IndepYear BETWEEN 1850 AND 1910\n",
    "ORDER BY GNP DESC\n",
    "LIMIT 10;"
   ]
  },
  {
   "cell_type": "code",
   "execution_count": null,
   "id": "b317b801",
   "metadata": {},
   "outputs": [],
   "source": [
    "res_ = %sql SELECT Name, GNP FROM country WHERE IndepYear BETWEEN 1850 AND 1910 ORDER BY GNP DESC LIMIT 10;\n",
    "\n",
    "print(res_)\n",
    "\n",
    "plt.figure(figsize=(16,3))\n",
    "res_.bar();\n",
    "plt.xticks(rotation='vertical');"
   ]
  },
  {
   "cell_type": "markdown",
   "id": "ca8c72b6",
   "metadata": {},
   "source": [
    "#### 10 - Create a scatter plot of the life expectancy vs the GNP of all countries that have Spanish as their Official language"
   ]
  },
  {
   "cell_type": "code",
   "execution_count": null,
   "id": "1da9b67d-3612-4665-abca-35369814ea71",
   "metadata": {},
   "outputs": [],
   "source": [
    "%%sql\n",
    "\n",
    "SELECT LifeExpenctancy, GNP, country.Name\n",
    "FROM country\n",
    "RIGHT JOIN countrylanguage ON country.Code=countrylanguage.CountryCode\n",
    "WHERE Language=\"Spanish\" \n",
    "AND IsOfficial=\"T\";"
   ]
  },
  {
   "cell_type": "code",
   "execution_count": null,
   "id": "286438c5",
   "metadata": {},
   "outputs": [],
   "source": [
    "res_ = %sql SELECT  LifeExpenctancy, GNP, country.Name\\\n",
    "            FROM  country\\\n",
    "            RIGHT JOIN countrylanguage ON country.Code=countrylanguage.CountryCode\\\n",
    "            WHERE Language=\"Spanish\" \\\n",
    "            AND IsOfficial=\"T\";\n",
    "\n",
    "print(res_)\n",
    "\n",
    "plt.figure(figsize=(8,6))\n",
    "for _ in res_:\n",
    "    plt.scatter(_[0],_[1],s=50);\n",
    "    plt.annotate(_[2], (float(_[0])*1.002,float(_[1])*1.002));\n",
    "plt.ylabel('GNP')\n",
    "plt.xlabel('LifeExpectancy')\n"
   ]
  },
  {
   "cell_type": "markdown",
   "id": "f65b5e6a",
   "metadata": {},
   "source": [
    "## 06 More on queries "
   ]
  },
  {
   "cell_type": "markdown",
   "id": "4d0da673",
   "metadata": {},
   "source": [
    "Let's import a well-structured database, with several tables and relationships, to be used as a sandbox for further exercises on queries.\n",
    "\n",
    "The database is freely available and is taken from the IMDb (Internet Movie Database) website (https://www.imdb.com/interfaces/), although severely slimmed down.\n",
    "\n",
    "This database contains several tables with information about movies, TV shows, people involved in the entertainment industry, and more, spanning from the 1890s to recent years.\n",
    "\n",
    "To simplify the execution of queries, we will work with a slimmed-down version of the entire database, with still plenty of records for us to extract interesting information.\n",
    "\n",
    "To start working with the IMDb database, we need to import it into our environment. The database `.sql` file should be downloaded from the link on Moodle and copied into the `/mysql/dbs` folder of the GitHub repository so that it will be found in the mounted volume at the location: `/mapd-workspace/dbs/IMDb_pruned.sql`."
   ]
  },
  {
   "cell_type": "markdown",
   "id": "03951f4a",
   "metadata": {},
   "source": [
    "1. Create a new DB named `IMDb`\n",
    "2. Import the content of the file `/mapd-workspace/dbs/IMDb_pruned.sql` into the newly created DB\n",
    "(this might take a minute or two...)"
   ]
  },
  {
   "cell_type": "markdown",
   "id": "33480edc",
   "metadata": {},
   "source": [
    "### Check which tables are available"
   ]
  },
  {
   "cell_type": "code",
   "execution_count": null,
   "id": "f57dc5e8",
   "metadata": {},
   "outputs": [],
   "source": [
    "%%sql \n",
    "\n",
    "USE IMDb\n",
    "SHOW TABLES;"
   ]
  },
  {
   "cell_type": "markdown",
   "id": "3f1328fb",
   "metadata": {},
   "source": [
    "### Describe the content of table `Names_`"
   ]
  },
  {
   "cell_type": "markdown",
   "id": "33fdd654-feca-4848-8989-6a647e229ff6",
   "metadata": {},
   "source": [
    "name_id is actually a primary key, but it's not shown for reasons that can be seen at the link above."
   ]
  },
  {
   "cell_type": "code",
   "execution_count": null,
   "id": "14d1d93e",
   "metadata": {
    "scrolled": true
   },
   "outputs": [],
   "source": [
    "%%sql\n",
    "\n",
    "DESCRIBE Names_"
   ]
  },
  {
   "cell_type": "markdown",
   "id": "f5c88b21",
   "metadata": {},
   "source": [
    "### Study the distribution of the year of birth of all people included in the database\n",
    "\n",
    "1. Start by limiting the query to 1000 entries\n",
    "    1. Draw a histogram of the year of birth\n",
    "    1. Draw a second histogram with the year of birth of the 1000 youngest people in the list"
   ]
  },
  {
   "cell_type": "code",
   "execution_count": null,
   "id": "8a6c6d33",
   "metadata": {},
   "outputs": [],
   "source": [
    "# 1.A\n",
    "\n"
   ]
  },
  {
   "cell_type": "code",
   "execution_count": null,
   "id": "5e143183",
   "metadata": {},
   "outputs": [],
   "source": [
    "# 1.B\n"
   ]
  },
  {
   "cell_type": "markdown",
   "id": "4ddda65c",
   "metadata": {},
   "source": [
    "2. Extend the query to all records in the table\n",
    "    1. Check for outliers (inspect min and max)\n",
    "    2. If any outlier is found, limit the query to a reasonable range (say... at least people born after 1850)\n",
    "    3. Draw a new histogram with the year of birth\n",
    "    4. Compute the mean and standard deviation of the year of birth"
   ]
  },
  {
   "cell_type": "code",
   "execution_count": null,
   "id": "9ef17977",
   "metadata": {},
   "outputs": [],
   "source": [
    "# 2.A\n"
   ]
  },
  {
   "cell_type": "code",
   "execution_count": null,
   "id": "8d03c66b",
   "metadata": {},
   "outputs": [],
   "source": [
    "# 2.B\n"
   ]
  },
  {
   "cell_type": "code",
   "execution_count": null,
   "id": "0013b910",
   "metadata": {},
   "outputs": [],
   "source": [
    "# 2.C\n"
   ]
  },
  {
   "cell_type": "code",
   "execution_count": null,
   "id": "3381f58e",
   "metadata": {},
   "outputs": [],
   "source": [
    "# 2.D\n"
   ]
  },
  {
   "cell_type": "markdown",
   "id": "3b00fe99",
   "metadata": {},
   "source": [
    "### Movie stats\n",
    "\n",
    "1. Plot the number of titles available in the database for each year over the past 25 years.\n",
    "2. List the names of all actors who have portrayed the character Spider-Man in movies, along with the corresponding movie titles.\n",
    "3. List and count the top 10 people who have appeared the most in movies directed by Wes Anderson."
   ]
  },
  {
   "cell_type": "markdown",
   "id": "892b2c35",
   "metadata": {},
   "source": [
    "#### 1 - Plot the number of titles available in the database for each year over the past 25 years."
   ]
  },
  {
   "cell_type": "code",
   "execution_count": null,
   "id": "2ee4bcbd-3f83-45db-8568-cc908c2c7008",
   "metadata": {},
   "outputs": [],
   "source": []
  },
  {
   "cell_type": "markdown",
   "id": "5022d3c3",
   "metadata": {},
   "source": [
    "#### 2 - List the names of all actors who have portrayed the character Spider-Man in movies, along with the corresponding movie titles."
   ]
  },
  {
   "cell_type": "code",
   "execution_count": null,
   "id": "f0843aa5-a7ed-46d8-b435-cd82f274c339",
   "metadata": {},
   "outputs": [],
   "source": []
  },
  {
   "cell_type": "markdown",
   "id": "db261245",
   "metadata": {},
   "source": [
    "#### 3 - List and count the top 10 people who have appeared the most in movies directed by Wes Anderson."
   ]
  },
  {
   "cell_type": "code",
   "execution_count": null,
   "id": "a45fa0f0-3db5-4bd1-8a56-78a6acb84527",
   "metadata": {},
   "outputs": [],
   "source": []
  },
  {
   "cell_type": "markdown",
   "id": "00c0c411",
   "metadata": {},
   "source": [
    "### Is IMDB only about movies? \n",
    "\n",
    "1. Check the number of different media types contained in the database\n",
    "2. Plot a histogram summarizing the number of titles per media type\n",
    "3. Find the name and rating of the oldest videogame stored in the database "
   ]
  },
  {
   "cell_type": "markdown",
   "id": "f963733e",
   "metadata": {},
   "source": [
    "#### 1 - Check the number of different media types contained in the database"
   ]
  },
  {
   "cell_type": "code",
   "execution_count": null,
   "id": "83904577-84e4-45e7-8af6-6bd6c41ffbd7",
   "metadata": {},
   "outputs": [],
   "source": []
  },
  {
   "cell_type": "markdown",
   "id": "2ce1e02e",
   "metadata": {},
   "source": [
    "#### 2 - Plot a histogram summarizing the number of titles per media type"
   ]
  },
  {
   "cell_type": "code",
   "execution_count": null,
   "id": "4fe79957-446a-4eb7-af21-2045b04b3c62",
   "metadata": {},
   "outputs": [],
   "source": []
  },
  {
   "cell_type": "markdown",
   "id": "37952def",
   "metadata": {},
   "source": [
    "#### 3 - Find the name and rating of the oldest videogame stored in the database "
   ]
  },
  {
   "cell_type": "markdown",
   "id": "98158ec9-2fdf-4e1e-b868-02adcb51daef",
   "metadata": {},
   "source": [
    "### Identify interesting outliers \n",
    "\n",
    "1. List the names of all movies whose titles begin with \"The\" and have a runtime between 3 and 4 hours.\n",
    "2. What actor had the most roles as 'Self'?\n",
    "3. Identify what TV series had more than 1,000 episodes, and identify in what year it was aired the first- and last-episode"
   ]
  },
  {
   "cell_type": "markdown",
   "id": "80811ded",
   "metadata": {},
   "source": [
    "#### 1 - List the names of all movies whose titles begin with \"The\" and have a runtime between 3 and 4 hours."
   ]
  },
  {
   "cell_type": "code",
   "execution_count": null,
   "id": "a5e0867d-0d54-40a0-b5f9-cf540ec0c102",
   "metadata": {},
   "outputs": [],
   "source": []
  },
  {
   "cell_type": "markdown",
   "id": "b0b10f31",
   "metadata": {},
   "source": [
    "#### 2 - What actor had the most roles as 'Self'?"
   ]
  },
  {
   "cell_type": "code",
   "execution_count": null,
   "id": "ac3a3b7d-7fd4-4177-a103-8d6d1c249464",
   "metadata": {},
   "outputs": [],
   "source": []
  },
  {
   "cell_type": "markdown",
   "id": "0b55feae",
   "metadata": {},
   "source": [
    "#### 3 - Identify what TV series had more than 1,000 episodes, and identify in what year it was aired the first- and last-episode"
   ]
  },
  {
   "cell_type": "code",
   "execution_count": null,
   "id": "e9ba6d8d-acce-4f4e-8c69-3e78e6bfad3b",
   "metadata": {},
   "outputs": [],
   "source": []
  },
  {
   "cell_type": "markdown",
   "id": "b82192a7",
   "metadata": {},
   "source": [
    "### It's all about the ratings \n",
    "\n",
    "1. Group all movies by decade and plot their overall rating distribution trend. Limit the query to the movies with at least 1000 ratings.\n",
    "2. Plot the average rating of each episode of \"Games of Thrones\". Group by season and compute the average and standard deviation for each season\n",
    "3. Plot the total number of movies produced per year, divided by genre (Action, Comedy, Drama, Thriller, Fantasy), and the yearly rating average per genre"
   ]
  },
  {
   "cell_type": "markdown",
   "id": "0ab22008-1abc-4a64-8e82-77d55865f326",
   "metadata": {},
   "source": [
    "#### 1 - Group all movies by decade and plot their overall rating distribution trend. Limit the query to the movies with at least 1000 ratings."
   ]
  },
  {
   "cell_type": "code",
   "execution_count": null,
   "id": "178100b9-f79f-4815-9412-91ffb6d45511",
   "metadata": {},
   "outputs": [],
   "source": []
  },
  {
   "cell_type": "markdown",
   "id": "dada1b9b",
   "metadata": {},
   "source": [
    "#### 2 - Plot the average rating of each episode of \"Games of Thrones\". Group by season and compute the average and standard deviation for each season."
   ]
  },
  {
   "cell_type": "code",
   "execution_count": null,
   "id": "afa8dd88-2e3b-431d-ba8f-34af92f475c6",
   "metadata": {},
   "outputs": [],
   "source": []
  },
  {
   "cell_type": "markdown",
   "id": "b9b7a15b",
   "metadata": {},
   "source": [
    "#### 3 - Plot the total number of movies produced per year, divided by genre (Action, Comedy, Drama, Thriller, Fantasy), and the yearly rating average per genre"
   ]
  },
  {
   "cell_type": "code",
   "execution_count": null,
   "id": "16ff8332",
   "metadata": {},
   "outputs": [],
   "source": []
  }
 ],
 "metadata": {
  "kernelspec": {
   "display_name": "Python 3 (ipykernel)",
   "language": "python",
   "name": "python3"
  },
  "language_info": {
   "codemirror_mode": {
    "name": "ipython",
    "version": 3
   },
   "file_extension": ".py",
   "mimetype": "text/x-python",
   "name": "python",
   "nbconvert_exporter": "python",
   "pygments_lexer": "ipython3",
   "version": "3.11.8"
  }
 },
 "nbformat": 4,
 "nbformat_minor": 5
}
